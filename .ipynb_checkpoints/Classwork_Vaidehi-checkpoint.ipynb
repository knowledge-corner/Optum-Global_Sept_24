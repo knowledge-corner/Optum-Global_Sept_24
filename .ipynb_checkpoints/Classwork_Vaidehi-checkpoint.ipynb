{
 "cells": [
  {
   "cell_type": "markdown",
   "id": "242f9316-9427-43d7-984f-b7c328e79601",
   "metadata": {},
   "source": [
    "# Data Analysis with Python"
   ]
  },
  {
   "cell_type": "markdown",
   "id": "320e3100-f9bb-4f75-b4aa-fa2c031d0a48",
   "metadata": {},
   "source": [
    "## Learning Objectives"
   ]
  },
  {
   "cell_type": "markdown",
   "id": "45300f31-1ac0-4cc1-88c3-d75e0d77dbc7",
   "metadata": {
    "jp-MarkdownHeadingCollapsed": true
   },
   "source": [
    "- Types of Data\n",
    "- Population and Sample and its characteristics\n",
    "- Arrays and Dataframes - accessing data and performing operations on data\n",
    "- Types of Variables - features and labels\n",
    "- Descriptive Statistics and EDA\n",
    "    - Univariate Analysis\n",
    "    - Bivariate Analysis\n",
    "    - Handling Null Values\n",
    "    - Handling Outliers\n",
    "    - Hypothesis Testing\n",
    "- Introduction to Machine Learning and its types\n",
    "- Linear Regression\n",
    "- Logistic Regression"
   ]
  },
  {
   "cell_type": "markdown",
   "id": "a1ace9b9-d567-44a3-b20f-9de6ac0dcdd6",
   "metadata": {},
   "source": [
    "## Types of data "
   ]
  },
  {
   "cell_type": "markdown",
   "id": "15325bbd-c24d-47c6-898a-95d48974d62b",
   "metadata": {},
   "source": [
    "#### Numerical (Quantitative) Data:\n",
    "\n",
    "Numerical data consists of numbers and is measured on a continuous or discrete scale.\n",
    "- Continuous numerical data can take any value within a range (e.g., height, temperature).\n",
    "- Discrete numerical data can take only specific, distinct values (e.g., number of siblings, number of cars).\n",
    "\n",
    "#### Categorical (Qualitative) Data:\n",
    "\n",
    "Categorical data represents categories or labels and is not inherently numerical.\n",
    "- Nominal categorical data has categories with no inherent order or ranking (e.g., gender, eye color).\n",
    "- Ordinal categorical data has categories with a specific order or ranking (e.g., education level, socioeconomic status)."
   ]
  },
  {
   "cell_type": "markdown",
   "id": "534810a8-5e6f-42fa-96c0-0236d523b533",
   "metadata": {},
   "source": [
    "## Population and Sample"
   ]
  },
  {
   "cell_type": "markdown",
   "id": "4b25ea0c-e20d-45a5-9e2f-242138c7214f",
   "metadata": {},
   "source": [
    "#### Population:\n",
    "\n",
    "The population is the entire group or set of individuals, items, or elements that you are interested in studying and drawing conclusions about. It represents the complete set of possible observations that share a common characteristic or attribute.\n",
    "For example, if you are studying the heights of all adult males in a country, the population would consist of the heights of all adult males in that country.\n",
    "\n",
    "#### Sample:\n",
    "\n",
    "A sample is a subset or a smaller representative group selected from the population.\n",
    "It is used to make inferences or draw conclusions about the population without having to collect data from every individual in the population.\n",
    "\n",
    "The process of selecting a sample from the population is known as sampling.\n",
    "For example, instead of measuring the heights of all adult males in a country (which may be impractical or too costly), you might select a random sample of adult males and measure their heights to estimate the average height of the entire population.\n",
    "\n",
    "#### Key points to note about population and sample:\n",
    "\n",
    "- The population represents the entire group under study, while the sample represents a subset of that group.\n",
    "- In many cases, it is not feasible or practical to collect data from the entire population, so researchers use samples to make inferences about the population.\n",
    "- The goal of sampling is to obtain a representative sample that accurately reflects the characteristics of the population.\n",
    "Statistical techniques are used to analyze sample data and make generalizations or predictions about th##e population.\n",
    "\n",
    "#### Characteristics of Population\n",
    "\n",
    "- Mean (Average): The mean of a population is the average value of a quantitative variable across all individuals in the population. It represents the central tendency of the population distribution.\n",
    "\n",
    "- Median: The median of a population is the middle value of a quantitative variable when all observations are arranged in ascending order. It is another measure of central tendency that is less affected by extreme values (outliers) compared to the mean.\n",
    "\n",
    "- Mode: The mode of a population is the most frequently occurring value or category of a variable. It represents the value with the highest frequency in the population distribution.\n",
    "\n",
    "- Variance: The variance of a population measures the spread or dispersion of values around the mean. It quantifies the average squared deviation of individual observations from the mean.\n",
    "\n",
    "- Standard Deviation: The standard deviation of a population is the square root of the variance. It provides a measure of the average distance between individual observations and the mean.\n",
    "\n",
    "- Range: The range of a population is the difference between the maximum and minimum values of a variable. It provides a simple measure of the spread of values in the population.\n",
    "\n",
    "- Distribution: The distribution of a population describes how the values of a variable are spread or distributed across the population. Common types of distributions include normal (bell-shaped), skewed (asymmetric), and ##uniform (evenly distributed).\n",
    "\n",
    "#### Characteristics of a Sample\n",
    "\n",
    "- Sample Size: The sample size is the number of observations or individuals included in the sample. It represents the amount of data available for analysis and inference.\n",
    "- Sampling Method: The sampling method describes how the sample was selected from the population. Common sampling methods include simple random sampling, stratified sampling, cluster sampling, and systematic sampling.\n",
    "\n",
    "- Descriptive Statistics: Descriptive statistics summarize the main features of the sample data. Common descriptive statistics include measures of central tendency (mean, median, mode), measures of dispersion (range, variance, standard deviation), and measures of shape (skewness, kurtosis).\n",
    "\n",
    "- Sample Proportion: The sample proportion represents the fraction or percentage of observations with a specific attribute or characteristic in the sample. It provides insights into the relative frequency of different categories in the sample.\n",
    "\n",
    "- Confidence Interval: The confidence interval is a range of values that is likely to contain the true population parameter with a certain level of confidence. It is used to estimate the precision or uncertainty of sample statistics, such as the sample mean or proportion.\n",
    "\n",
    "- Sampling Bias: Sampling bias refers to the systematic distortion or deviation of the sample from the population due to the sampling method used. It can affect the representativeness and generalizability of the sample data to the population. the sample data to the population. distributed)."
   ]
  },
  {
   "cell_type": "markdown",
   "id": "d5c9e14a-7a71-4d9b-95bb-251bad26d6a1",
   "metadata": {},
   "source": [
    "<hr><hr>"
   ]
  },
  {
   "cell_type": "markdown",
   "id": "522ba259-e857-4dfb-a07c-ca8fb398f536",
   "metadata": {},
   "source": [
    "## Arrays and Dataframes"
   ]
  },
  {
   "cell_type": "code",
   "execution_count": null,
   "id": "39ce4dfe-ae3f-4346-9ec6-8d9c5940bc49",
   "metadata": {},
   "outputs": [],
   "source": [
    "import numpy as np  # has all functions required for basic numeric calculations\n",
    "import pandas as pd  # has Dataframe object and is used to store and manipulate data\n",
    "import matplotlib.pyplot as plt  # used for data visualization (base library)\n",
    "import seaborn as sns  # used for data viz (wrapper over matplotlib)\n",
    "import scipy.stats as stats  # for statistical functions\n",
    "\n",
    "# Optional Parameters -\n",
    "%matplotlib inline\n",
    "pd.options.display.float_format = '{:.2f}'.format\n",
    "plt.rcParams['figure.figsize'] = (4, 3)\n",
    "plt.rcParams['font.size'] = 10\n",
    "\n",
    "import warnings\n",
    "warnings.filterwarnings('ignore')"
   ]
  },
  {
   "cell_type": "markdown",
   "id": "9ea4b1e8-b5f0-40c3-ba58-72b27388dd4a",
   "metadata": {},
   "source": [
    "### Examples on arrays"
   ]
  },
  {
   "cell_type": "code",
   "execution_count": null,
   "id": "53f52876-6d67-46af-9a1d-9f9aa35d7258",
   "metadata": {},
   "outputs": [],
   "source": [
    "names = np.array(['Claire', 'Darrin', 'Sean', 'Brosina', 'Andrew', 'Irene', 'Harold', 'Pete', 'Alejandro', 'Zuschuss', 'Ken', 'Sandra', 'Emily', 'Eric','Tracy', 'Matt', 'Gene', 'Steve', 'Linda', 'Ruben', 'Erin', 'Odella', 'Patrick', 'Lena', 'Darren', 'Janet', 'Ted', 'Kunst', 'Paul', 'Brendan'])\n",
    "ages = np.array([35, 26, 36, 44, 33, 33, 23, 22, 35, 53, 25, 41, 24, 31, 34, 43, 22, 29, 35, 25, 47, 22, 26, 52, 25, 25, 27, 24, 27, 30])\n",
    "salary = np.array([ 88962,  67659, 117501, 149957,  32212,  63391,  14438,  22445, 72287, 195588,  17240, 115116,  18027,  55891, 109132,  83327, 22125,  29324,  54003,  18390, 141401,  19593,  57093, 130556, 22093,  13058,  26180,  23259,  34248,  27416])\n",
    "designation = np.array(['Manager', 'Team Lead', 'Manager', 'Senior Manager', 'Team Lead', 'Team Lead', 'Developer', 'Developer', 'Team Lead', 'Managing Director', 'Developer', 'Manager', 'Developer','Team Lead', 'Manager', 'Manager', 'Developer', 'Team Lead','Team Lead', 'Developer', 'Senior Manager', 'Developer', 'Team Lead', 'Senior Manager', 'Developer', 'Developer','Team Lead', 'Developer', 'Team Lead', 'Team Lead'])"
   ]
  },
  {
   "cell_type": "markdown",
   "id": "daac038c-93ef-47c7-8666-02d94bf2b2a4",
   "metadata": {},
   "source": [
    "###### Ex. How many employees are present in the array"
   ]
  },
  {
   "cell_type": "code",
   "execution_count": null,
   "id": "71c51e5a-b8e7-4789-80c6-72824d5264f8",
   "metadata": {},
   "outputs": [],
   "source": [
    "len(names)"
   ]
  },
  {
   "cell_type": "code",
   "execution_count": null,
   "id": "8ffd32e5-afa5-4370-be8d-b3b1330776c2",
   "metadata": {},
   "outputs": [],
   "source": [
    "names.size"
   ]
  },
  {
   "cell_type": "code",
   "execution_count": null,
   "id": "12783650-8665-4d2a-9ee2-c6ec3d253f3c",
   "metadata": {},
   "outputs": [],
   "source": [
    "names.dtype"
   ]
  },
  {
   "cell_type": "code",
   "execution_count": null,
   "id": "77273fee-676a-4872-b47f-b2d2c2f08094",
   "metadata": {},
   "outputs": [],
   "source": [
    "ages.dtype"
   ]
  },
  {
   "cell_type": "code",
   "execution_count": null,
   "id": "b0d12c59-4955-4f17-b397-13746a42c355",
   "metadata": {},
   "outputs": [],
   "source": [
    "ages.ndim  # dimension of array "
   ]
  },
  {
   "cell_type": "markdown",
   "id": "7ba48a8b-cf8f-4000-ae7c-0d6f2e46e29c",
   "metadata": {},
   "source": [
    "###### Extract the ages greater than 40"
   ]
  },
  {
   "cell_type": "code",
   "execution_count": null,
   "id": "13ed0a06-03c5-4ddd-8fd9-e7a16eb6cf3f",
   "metadata": {},
   "outputs": [],
   "source": [
    "ages[ages > 40]"
   ]
  },
  {
   "cell_type": "markdown",
   "id": "6f11b7da-cbf2-4305-8d10-e11abca6981d",
   "metadata": {},
   "source": [
    "###### Extract names of the employees whose age greater than 40"
   ]
  },
  {
   "cell_type": "code",
   "execution_count": null,
   "id": "1e7e86f6-1cb6-43bc-9422-ebd85794d4db",
   "metadata": {},
   "outputs": [],
   "source": [
    "names[ages > 40]"
   ]
  },
  {
   "cell_type": "markdown",
   "id": "25117f7c-12df-4aab-854e-f6f0abaa1b29",
   "metadata": {},
   "source": [
    "###### Apply 7% hike on salary to all employes in the array"
   ]
  },
  {
   "cell_type": "code",
   "execution_count": null,
   "id": "1e953e7c-9b37-4276-926d-311a10c89cdf",
   "metadata": {},
   "outputs": [],
   "source": [
    "salary * 1.07"
   ]
  },
  {
   "cell_type": "markdown",
   "id": "d7b2a386-3dc6-469a-b6ae-b63ddf19fda4",
   "metadata": {},
   "source": [
    "###### Apply 7% hike to all employes whose age is greater_eq than 40 and 10% hike to employees whose age is less than 40"
   ]
  },
  {
   "cell_type": "code",
   "execution_count": null,
   "id": "555bf42e-e54c-47d5-bceb-e33b4727671e",
   "metadata": {},
   "outputs": [],
   "source": [
    "np.where(ages >= 40, salary*1.07, salary * 1.10)"
   ]
  },
  {
   "cell_type": "markdown",
   "id": "9c0e86dd-b1a9-49ee-b35c-6ee31b7104d0",
   "metadata": {},
   "source": [
    "###### Generate 10 random numbers between 10-50"
   ]
  },
  {
   "cell_type": "code",
   "execution_count": null,
   "id": "d11eccfe-a6ab-4fad-906e-5f902247633c",
   "metadata": {},
   "outputs": [],
   "source": [
    "arr1 = np.random.randint(10, 50, 10)\n",
    "arr1"
   ]
  },
  {
   "cell_type": "code",
   "execution_count": null,
   "id": "3eae6ade-91e0-4fd2-9651-a010c40bb8fc",
   "metadata": {},
   "outputs": [],
   "source": [
    "arr1 = np.random.randint(10, 50, (5, 2))\n",
    "arr1"
   ]
  },
  {
   "cell_type": "markdown",
   "id": "c7cade7f-5e39-4808-84ba-d9d05a99f09b",
   "metadata": {},
   "source": [
    "###### Find unique elements from arr1"
   ]
  },
  {
   "cell_type": "code",
   "execution_count": null,
   "id": "35073b31-fe68-48c3-89a3-1681af1252b8",
   "metadata": {},
   "outputs": [],
   "source": [
    "np.unique(arr1)"
   ]
  },
  {
   "cell_type": "markdown",
   "id": "17303a98-cb43-44c9-84ce-d90dedd191a9",
   "metadata": {},
   "source": [
    "###### Find the elements of arr1 also present in arr2"
   ]
  },
  {
   "cell_type": "code",
   "execution_count": null,
   "id": "a3062903-c9a7-45b3-8a85-a7d6054ff33e",
   "metadata": {},
   "outputs": [],
   "source": [
    "arr1 = np.random.randint(10, 50, 10)\n",
    "arr1"
   ]
  },
  {
   "cell_type": "code",
   "execution_count": null,
   "id": "6d7d9944-1b61-48c7-9f6f-681ded3d1f52",
   "metadata": {},
   "outputs": [],
   "source": [
    "arr2 = np.random.randint(10, 50, 10)\n",
    "arr2"
   ]
  },
  {
   "cell_type": "code",
   "execution_count": null,
   "id": "33342940-18b3-4969-9dee-abf7691a6c57",
   "metadata": {},
   "outputs": [],
   "source": [
    "np.intersect1d(arr1, arr2)"
   ]
  },
  {
   "cell_type": "markdown",
   "id": "93962bc5-a9d1-4134-ba58-e16b6cbd6454",
   "metadata": {},
   "source": [
    "###### Are all elements of arr1 present in arr2"
   ]
  },
  {
   "cell_type": "code",
   "execution_count": null,
   "id": "e7cafa70-e4e3-4b18-bc6d-05cb5994634c",
   "metadata": {},
   "outputs": [],
   "source": [
    "np.all(np.in1d(arr1, arr2))  # Returns True if all elements in the array are True"
   ]
  },
  {
   "cell_type": "code",
   "execution_count": null,
   "id": "71700f02-f5b9-4c9e-b87b-456fe126def3",
   "metadata": {},
   "outputs": [],
   "source": [
    "np.any(np.in1d(arr1, arr2))  # Returns True if any one element in the array is True"
   ]
  },
  {
   "cell_type": "markdown",
   "id": "73ab42f8-e105-47c8-87f4-d9147f5625c7",
   "metadata": {},
   "source": [
    "###### Ex. Create age groups based on 3 criterions"
   ]
  },
  {
   "cell_type": "code",
   "execution_count": null,
   "id": "f68559d2-b8a4-40e5-b372-924c98fa8622",
   "metadata": {},
   "outputs": [],
   "source": [
    "conditions = [ages < 35, ages < 50]\n",
    "groups = [\"Group 1\", \"Group 2\"]\n",
    "np.select(conditions, groups, \"Group 3\")"
   ]
  },
  {
   "cell_type": "markdown",
   "id": "094e2b9e-5510-45c2-8359-d91608052b15",
   "metadata": {},
   "source": [
    "### Examples on Dataframes"
   ]
  },
  {
   "cell_type": "code",
   "execution_count": null,
   "id": "e1dcccf9-333f-4e46-bb52-051f00aee88f",
   "metadata": {},
   "outputs": [],
   "source": [
    "df = pd.DataFrame({\"Name\" : names, \"Age\":ages, \"Salary\" : salary, \"Designation\" : designation})\n",
    "df.head()  # displays only top N rows, default = 5"
   ]
  },
  {
   "cell_type": "code",
   "execution_count": null,
   "id": "882cb9de-7330-4e77-80ae-c8fc0854a081",
   "metadata": {},
   "outputs": [],
   "source": [
    "df.shape"
   ]
  },
  {
   "cell_type": "code",
   "execution_count": null,
   "id": "9adace0a-89e9-40c3-bfec-68d19832c4ee",
   "metadata": {},
   "outputs": [],
   "source": [
    "# No of rows\n",
    "df.shape[0]"
   ]
  },
  {
   "cell_type": "code",
   "execution_count": null,
   "id": "c2b54cd2-c996-4a66-977f-9405b97b2901",
   "metadata": {},
   "outputs": [],
   "source": [
    "df.dtypes"
   ]
  },
  {
   "cell_type": "markdown",
   "id": "c88b4bfc-fe3c-4ae2-b41c-710fc13cac2d",
   "metadata": {},
   "source": [
    "###### Ex. Display all the Developers in the DF"
   ]
  },
  {
   "cell_type": "code",
   "execution_count": null,
   "id": "a3fdb3d2-ea8a-4402-a309-1681114d33ba",
   "metadata": {},
   "outputs": [],
   "source": [
    "df[df[\"Designation\"] == \"Developer\"] # Filtering the dataframe"
   ]
  },
  {
   "cell_type": "code",
   "execution_count": null,
   "id": "a23300de-520c-4797-bfc4-8c411c60a53f",
   "metadata": {},
   "outputs": [],
   "source": [
    "df[df[\"Designation\"] == \"Developer\"].Salary  # Filtering the dataframe"
   ]
  },
  {
   "cell_type": "markdown",
   "id": "fe39fe2a-1f51-469c-924d-22f56c54f301",
   "metadata": {},
   "source": [
    "###### Ex. Display details of employees whose salary is in the range of 50k-80k"
   ]
  },
  {
   "cell_type": "code",
   "execution_count": null,
   "id": "ce8c7cd1-ba6f-4d8c-9f22-cc6f48bee427",
   "metadata": {},
   "outputs": [],
   "source": [
    "df[df.Salary.between(50000, 80000)]"
   ]
  },
  {
   "cell_type": "markdown",
   "id": "76e9ea28-0229-4cb9-ab73-ce1f2cb95750",
   "metadata": {},
   "source": [
    "###### Ex. Display employees in DESC sorted order of salaries "
   ]
  },
  {
   "cell_type": "code",
   "execution_count": null,
   "id": "3d650a8d-bd9c-4e53-a5a7-da192ea0b397",
   "metadata": {},
   "outputs": [],
   "source": [
    "df.sort_values(\"Salary\", ascending=False) # Original df is not modified"
   ]
  },
  {
   "cell_type": "code",
   "execution_count": 67,
   "id": "223b9cc3-870c-4dcd-86bf-f127b14472fe",
   "metadata": {},
   "outputs": [
    {
     "data": {
      "text/html": [
       "<div>\n",
       "<style scoped>\n",
       "    .dataframe tbody tr th:only-of-type {\n",
       "        vertical-align: middle;\n",
       "    }\n",
       "\n",
       "    .dataframe tbody tr th {\n",
       "        vertical-align: top;\n",
       "    }\n",
       "\n",
       "    .dataframe thead th {\n",
       "        text-align: right;\n",
       "    }\n",
       "</style>\n",
       "<table border=\"1\" class=\"dataframe\">\n",
       "  <thead>\n",
       "    <tr style=\"text-align: right;\">\n",
       "      <th></th>\n",
       "      <th>Name</th>\n",
       "      <th>Age</th>\n",
       "      <th>Salary</th>\n",
       "      <th>Designation</th>\n",
       "    </tr>\n",
       "  </thead>\n",
       "  <tbody>\n",
       "    <tr>\n",
       "      <th>9</th>\n",
       "      <td>Zuschuss</td>\n",
       "      <td>53</td>\n",
       "      <td>195588</td>\n",
       "      <td>Managing Director</td>\n",
       "    </tr>\n",
       "    <tr>\n",
       "      <th>3</th>\n",
       "      <td>Brosina</td>\n",
       "      <td>44</td>\n",
       "      <td>149957</td>\n",
       "      <td>Senior Manager</td>\n",
       "    </tr>\n",
       "    <tr>\n",
       "      <th>20</th>\n",
       "      <td>Erin</td>\n",
       "      <td>47</td>\n",
       "      <td>141401</td>\n",
       "      <td>Senior Manager</td>\n",
       "    </tr>\n",
       "    <tr>\n",
       "      <th>23</th>\n",
       "      <td>Lena</td>\n",
       "      <td>52</td>\n",
       "      <td>130556</td>\n",
       "      <td>Senior Manager</td>\n",
       "    </tr>\n",
       "    <tr>\n",
       "      <th>2</th>\n",
       "      <td>Sean</td>\n",
       "      <td>36</td>\n",
       "      <td>117501</td>\n",
       "      <td>Manager</td>\n",
       "    </tr>\n",
       "  </tbody>\n",
       "</table>\n",
       "</div>"
      ],
      "text/plain": [
       "        Name  Age  Salary        Designation\n",
       "9   Zuschuss   53  195588  Managing Director\n",
       "3    Brosina   44  149957     Senior Manager\n",
       "20      Erin   47  141401     Senior Manager\n",
       "23      Lena   52  130556     Senior Manager\n",
       "2       Sean   36  117501            Manager"
      ]
     },
     "execution_count": 67,
     "metadata": {},
     "output_type": "execute_result"
    }
   ],
   "source": [
    "df.sort_values(\"Salary\", ascending=False, inplace=True) # to modify original df set inplace = True\n",
    "df.head()"
   ]
  },
  {
   "cell_type": "markdown",
   "id": "7143bc85-cd5d-48aa-8652-dac8f24e9838",
   "metadata": {},
   "source": [
    "###### Ex. Extract first 10 rows based on index positions"
   ]
  },
  {
   "cell_type": "code",
   "execution_count": 68,
   "id": "d7ceec34-2c8a-4e26-aff0-c63907f06ac5",
   "metadata": {},
   "outputs": [
    {
     "data": {
      "text/html": [
       "<div>\n",
       "<style scoped>\n",
       "    .dataframe tbody tr th:only-of-type {\n",
       "        vertical-align: middle;\n",
       "    }\n",
       "\n",
       "    .dataframe tbody tr th {\n",
       "        vertical-align: top;\n",
       "    }\n",
       "\n",
       "    .dataframe thead th {\n",
       "        text-align: right;\n",
       "    }\n",
       "</style>\n",
       "<table border=\"1\" class=\"dataframe\">\n",
       "  <thead>\n",
       "    <tr style=\"text-align: right;\">\n",
       "      <th></th>\n",
       "      <th>Name</th>\n",
       "      <th>Age</th>\n",
       "      <th>Salary</th>\n",
       "      <th>Designation</th>\n",
       "    </tr>\n",
       "  </thead>\n",
       "  <tbody>\n",
       "    <tr>\n",
       "      <th>9</th>\n",
       "      <td>Zuschuss</td>\n",
       "      <td>53</td>\n",
       "      <td>195588</td>\n",
       "      <td>Managing Director</td>\n",
       "    </tr>\n",
       "    <tr>\n",
       "      <th>3</th>\n",
       "      <td>Brosina</td>\n",
       "      <td>44</td>\n",
       "      <td>149957</td>\n",
       "      <td>Senior Manager</td>\n",
       "    </tr>\n",
       "    <tr>\n",
       "      <th>20</th>\n",
       "      <td>Erin</td>\n",
       "      <td>47</td>\n",
       "      <td>141401</td>\n",
       "      <td>Senior Manager</td>\n",
       "    </tr>\n",
       "    <tr>\n",
       "      <th>23</th>\n",
       "      <td>Lena</td>\n",
       "      <td>52</td>\n",
       "      <td>130556</td>\n",
       "      <td>Senior Manager</td>\n",
       "    </tr>\n",
       "    <tr>\n",
       "      <th>2</th>\n",
       "      <td>Sean</td>\n",
       "      <td>36</td>\n",
       "      <td>117501</td>\n",
       "      <td>Manager</td>\n",
       "    </tr>\n",
       "    <tr>\n",
       "      <th>11</th>\n",
       "      <td>Sandra</td>\n",
       "      <td>41</td>\n",
       "      <td>115116</td>\n",
       "      <td>Manager</td>\n",
       "    </tr>\n",
       "    <tr>\n",
       "      <th>14</th>\n",
       "      <td>Tracy</td>\n",
       "      <td>34</td>\n",
       "      <td>109132</td>\n",
       "      <td>Manager</td>\n",
       "    </tr>\n",
       "    <tr>\n",
       "      <th>0</th>\n",
       "      <td>Claire</td>\n",
       "      <td>35</td>\n",
       "      <td>88962</td>\n",
       "      <td>Manager</td>\n",
       "    </tr>\n",
       "    <tr>\n",
       "      <th>15</th>\n",
       "      <td>Matt</td>\n",
       "      <td>43</td>\n",
       "      <td>83327</td>\n",
       "      <td>Manager</td>\n",
       "    </tr>\n",
       "    <tr>\n",
       "      <th>8</th>\n",
       "      <td>Alejandro</td>\n",
       "      <td>35</td>\n",
       "      <td>72287</td>\n",
       "      <td>Team Lead</td>\n",
       "    </tr>\n",
       "    <tr>\n",
       "      <th>1</th>\n",
       "      <td>Darrin</td>\n",
       "      <td>26</td>\n",
       "      <td>67659</td>\n",
       "      <td>Team Lead</td>\n",
       "    </tr>\n",
       "  </tbody>\n",
       "</table>\n",
       "</div>"
      ],
      "text/plain": [
       "         Name  Age  Salary        Designation\n",
       "9    Zuschuss   53  195588  Managing Director\n",
       "3     Brosina   44  149957     Senior Manager\n",
       "20       Erin   47  141401     Senior Manager\n",
       "23       Lena   52  130556     Senior Manager\n",
       "2        Sean   36  117501            Manager\n",
       "11     Sandra   41  115116            Manager\n",
       "14      Tracy   34  109132            Manager\n",
       "0      Claire   35   88962            Manager\n",
       "15       Matt   43   83327            Manager\n",
       "8   Alejandro   35   72287          Team Lead\n",
       "1      Darrin   26   67659          Team Lead"
      ]
     },
     "execution_count": 68,
     "metadata": {},
     "output_type": "execute_result"
    }
   ],
   "source": [
    "df.iloc[0:11]"
   ]
  },
  {
   "cell_type": "markdown",
   "id": "a1acb667-f890-4ad3-b9a2-4076378ac8b7",
   "metadata": {},
   "source": [
    "#### Adding columns and dropping columns"
   ]
  },
  {
   "cell_type": "markdown",
   "id": "c6caab26-3018-4d3b-a804-3cf268cfa97c",
   "metadata": {},
   "source": [
    "###### Ex. Salary hike based on age"
   ]
  },
  {
   "cell_type": "code",
   "execution_count": null,
   "id": "11dd1219-c6c2-4139-a190-0395faf273da",
   "metadata": {},
   "outputs": [],
   "source": [
    "df.insert(2, \"New Salary\", np.where(df.Age >= 40, df.Salary * 1.07, df.Salary * 1.10))"
   ]
  },
  {
   "cell_type": "code",
   "execution_count": 70,
   "id": "af8528f4-e656-4cbf-9ca6-61486ceae080",
   "metadata": {},
   "outputs": [
    {
     "data": {
      "text/html": [
       "<div>\n",
       "<style scoped>\n",
       "    .dataframe tbody tr th:only-of-type {\n",
       "        vertical-align: middle;\n",
       "    }\n",
       "\n",
       "    .dataframe tbody tr th {\n",
       "        vertical-align: top;\n",
       "    }\n",
       "\n",
       "    .dataframe thead th {\n",
       "        text-align: right;\n",
       "    }\n",
       "</style>\n",
       "<table border=\"1\" class=\"dataframe\">\n",
       "  <thead>\n",
       "    <tr style=\"text-align: right;\">\n",
       "      <th></th>\n",
       "      <th>Name</th>\n",
       "      <th>Age</th>\n",
       "      <th>Salary</th>\n",
       "      <th>Designation</th>\n",
       "      <th>New Salary</th>\n",
       "    </tr>\n",
       "  </thead>\n",
       "  <tbody>\n",
       "    <tr>\n",
       "      <th>9</th>\n",
       "      <td>Zuschuss</td>\n",
       "      <td>53</td>\n",
       "      <td>195588</td>\n",
       "      <td>Managing Director</td>\n",
       "      <td>209279.16</td>\n",
       "    </tr>\n",
       "    <tr>\n",
       "      <th>3</th>\n",
       "      <td>Brosina</td>\n",
       "      <td>44</td>\n",
       "      <td>149957</td>\n",
       "      <td>Senior Manager</td>\n",
       "      <td>160453.99</td>\n",
       "    </tr>\n",
       "    <tr>\n",
       "      <th>20</th>\n",
       "      <td>Erin</td>\n",
       "      <td>47</td>\n",
       "      <td>141401</td>\n",
       "      <td>Senior Manager</td>\n",
       "      <td>151299.07</td>\n",
       "    </tr>\n",
       "    <tr>\n",
       "      <th>23</th>\n",
       "      <td>Lena</td>\n",
       "      <td>52</td>\n",
       "      <td>130556</td>\n",
       "      <td>Senior Manager</td>\n",
       "      <td>139694.92</td>\n",
       "    </tr>\n",
       "    <tr>\n",
       "      <th>2</th>\n",
       "      <td>Sean</td>\n",
       "      <td>36</td>\n",
       "      <td>117501</td>\n",
       "      <td>Manager</td>\n",
       "      <td>129251.10</td>\n",
       "    </tr>\n",
       "  </tbody>\n",
       "</table>\n",
       "</div>"
      ],
      "text/plain": [
       "        Name  Age  Salary        Designation  New Salary\n",
       "9   Zuschuss   53  195588  Managing Director   209279.16\n",
       "3    Brosina   44  149957     Senior Manager   160453.99\n",
       "20      Erin   47  141401     Senior Manager   151299.07\n",
       "23      Lena   52  130556     Senior Manager   139694.92\n",
       "2       Sean   36  117501            Manager   129251.10"
      ]
     },
     "execution_count": 70,
     "metadata": {},
     "output_type": "execute_result"
    }
   ],
   "source": [
    "df[\"New Salary\"] = np.where(df.Age >= 40, df.Salary * 1.07, df.Salary * 1.10) \n",
    "df.head()"
   ]
  },
  {
   "cell_type": "code",
   "execution_count": 71,
   "id": "7508a790-3698-4fb7-a099-fa115031e206",
   "metadata": {},
   "outputs": [
    {
     "data": {
      "text/html": [
       "<div>\n",
       "<style scoped>\n",
       "    .dataframe tbody tr th:only-of-type {\n",
       "        vertical-align: middle;\n",
       "    }\n",
       "\n",
       "    .dataframe tbody tr th {\n",
       "        vertical-align: top;\n",
       "    }\n",
       "\n",
       "    .dataframe thead th {\n",
       "        text-align: right;\n",
       "    }\n",
       "</style>\n",
       "<table border=\"1\" class=\"dataframe\">\n",
       "  <thead>\n",
       "    <tr style=\"text-align: right;\">\n",
       "      <th></th>\n",
       "      <th>Name</th>\n",
       "      <th>Age</th>\n",
       "      <th>Designation</th>\n",
       "      <th>New Salary</th>\n",
       "    </tr>\n",
       "  </thead>\n",
       "  <tbody>\n",
       "    <tr>\n",
       "      <th>9</th>\n",
       "      <td>Zuschuss</td>\n",
       "      <td>53</td>\n",
       "      <td>Managing Director</td>\n",
       "      <td>209279.16</td>\n",
       "    </tr>\n",
       "    <tr>\n",
       "      <th>3</th>\n",
       "      <td>Brosina</td>\n",
       "      <td>44</td>\n",
       "      <td>Senior Manager</td>\n",
       "      <td>160453.99</td>\n",
       "    </tr>\n",
       "    <tr>\n",
       "      <th>20</th>\n",
       "      <td>Erin</td>\n",
       "      <td>47</td>\n",
       "      <td>Senior Manager</td>\n",
       "      <td>151299.07</td>\n",
       "    </tr>\n",
       "    <tr>\n",
       "      <th>23</th>\n",
       "      <td>Lena</td>\n",
       "      <td>52</td>\n",
       "      <td>Senior Manager</td>\n",
       "      <td>139694.92</td>\n",
       "    </tr>\n",
       "    <tr>\n",
       "      <th>2</th>\n",
       "      <td>Sean</td>\n",
       "      <td>36</td>\n",
       "      <td>Manager</td>\n",
       "      <td>129251.10</td>\n",
       "    </tr>\n",
       "    <tr>\n",
       "      <th>11</th>\n",
       "      <td>Sandra</td>\n",
       "      <td>41</td>\n",
       "      <td>Manager</td>\n",
       "      <td>123174.12</td>\n",
       "    </tr>\n",
       "    <tr>\n",
       "      <th>14</th>\n",
       "      <td>Tracy</td>\n",
       "      <td>34</td>\n",
       "      <td>Manager</td>\n",
       "      <td>120045.20</td>\n",
       "    </tr>\n",
       "    <tr>\n",
       "      <th>0</th>\n",
       "      <td>Claire</td>\n",
       "      <td>35</td>\n",
       "      <td>Manager</td>\n",
       "      <td>97858.20</td>\n",
       "    </tr>\n",
       "    <tr>\n",
       "      <th>15</th>\n",
       "      <td>Matt</td>\n",
       "      <td>43</td>\n",
       "      <td>Manager</td>\n",
       "      <td>89159.89</td>\n",
       "    </tr>\n",
       "    <tr>\n",
       "      <th>8</th>\n",
       "      <td>Alejandro</td>\n",
       "      <td>35</td>\n",
       "      <td>Team Lead</td>\n",
       "      <td>79515.70</td>\n",
       "    </tr>\n",
       "    <tr>\n",
       "      <th>1</th>\n",
       "      <td>Darrin</td>\n",
       "      <td>26</td>\n",
       "      <td>Team Lead</td>\n",
       "      <td>74424.90</td>\n",
       "    </tr>\n",
       "    <tr>\n",
       "      <th>5</th>\n",
       "      <td>Irene</td>\n",
       "      <td>33</td>\n",
       "      <td>Team Lead</td>\n",
       "      <td>69730.10</td>\n",
       "    </tr>\n",
       "    <tr>\n",
       "      <th>22</th>\n",
       "      <td>Patrick</td>\n",
       "      <td>26</td>\n",
       "      <td>Team Lead</td>\n",
       "      <td>62802.30</td>\n",
       "    </tr>\n",
       "    <tr>\n",
       "      <th>13</th>\n",
       "      <td>Eric</td>\n",
       "      <td>31</td>\n",
       "      <td>Team Lead</td>\n",
       "      <td>61480.10</td>\n",
       "    </tr>\n",
       "    <tr>\n",
       "      <th>18</th>\n",
       "      <td>Linda</td>\n",
       "      <td>35</td>\n",
       "      <td>Team Lead</td>\n",
       "      <td>59403.30</td>\n",
       "    </tr>\n",
       "    <tr>\n",
       "      <th>28</th>\n",
       "      <td>Paul</td>\n",
       "      <td>27</td>\n",
       "      <td>Team Lead</td>\n",
       "      <td>37672.80</td>\n",
       "    </tr>\n",
       "    <tr>\n",
       "      <th>4</th>\n",
       "      <td>Andrew</td>\n",
       "      <td>33</td>\n",
       "      <td>Team Lead</td>\n",
       "      <td>35433.20</td>\n",
       "    </tr>\n",
       "    <tr>\n",
       "      <th>17</th>\n",
       "      <td>Steve</td>\n",
       "      <td>29</td>\n",
       "      <td>Team Lead</td>\n",
       "      <td>32256.40</td>\n",
       "    </tr>\n",
       "    <tr>\n",
       "      <th>29</th>\n",
       "      <td>Brendan</td>\n",
       "      <td>30</td>\n",
       "      <td>Team Lead</td>\n",
       "      <td>30157.60</td>\n",
       "    </tr>\n",
       "    <tr>\n",
       "      <th>26</th>\n",
       "      <td>Ted</td>\n",
       "      <td>27</td>\n",
       "      <td>Team Lead</td>\n",
       "      <td>28798.00</td>\n",
       "    </tr>\n",
       "    <tr>\n",
       "      <th>27</th>\n",
       "      <td>Kunst</td>\n",
       "      <td>24</td>\n",
       "      <td>Developer</td>\n",
       "      <td>25584.90</td>\n",
       "    </tr>\n",
       "    <tr>\n",
       "      <th>7</th>\n",
       "      <td>Pete</td>\n",
       "      <td>22</td>\n",
       "      <td>Developer</td>\n",
       "      <td>24689.50</td>\n",
       "    </tr>\n",
       "    <tr>\n",
       "      <th>16</th>\n",
       "      <td>Gene</td>\n",
       "      <td>22</td>\n",
       "      <td>Developer</td>\n",
       "      <td>24337.50</td>\n",
       "    </tr>\n",
       "    <tr>\n",
       "      <th>24</th>\n",
       "      <td>Darren</td>\n",
       "      <td>25</td>\n",
       "      <td>Developer</td>\n",
       "      <td>24302.30</td>\n",
       "    </tr>\n",
       "    <tr>\n",
       "      <th>21</th>\n",
       "      <td>Odella</td>\n",
       "      <td>22</td>\n",
       "      <td>Developer</td>\n",
       "      <td>21552.30</td>\n",
       "    </tr>\n",
       "    <tr>\n",
       "      <th>19</th>\n",
       "      <td>Ruben</td>\n",
       "      <td>25</td>\n",
       "      <td>Developer</td>\n",
       "      <td>20229.00</td>\n",
       "    </tr>\n",
       "    <tr>\n",
       "      <th>12</th>\n",
       "      <td>Emily</td>\n",
       "      <td>24</td>\n",
       "      <td>Developer</td>\n",
       "      <td>19829.70</td>\n",
       "    </tr>\n",
       "    <tr>\n",
       "      <th>10</th>\n",
       "      <td>Ken</td>\n",
       "      <td>25</td>\n",
       "      <td>Developer</td>\n",
       "      <td>18964.00</td>\n",
       "    </tr>\n",
       "    <tr>\n",
       "      <th>6</th>\n",
       "      <td>Harold</td>\n",
       "      <td>23</td>\n",
       "      <td>Developer</td>\n",
       "      <td>15881.80</td>\n",
       "    </tr>\n",
       "    <tr>\n",
       "      <th>25</th>\n",
       "      <td>Janet</td>\n",
       "      <td>25</td>\n",
       "      <td>Developer</td>\n",
       "      <td>14363.80</td>\n",
       "    </tr>\n",
       "  </tbody>\n",
       "</table>\n",
       "</div>"
      ],
      "text/plain": [
       "         Name  Age        Designation  New Salary\n",
       "9    Zuschuss   53  Managing Director   209279.16\n",
       "3     Brosina   44     Senior Manager   160453.99\n",
       "20       Erin   47     Senior Manager   151299.07\n",
       "23       Lena   52     Senior Manager   139694.92\n",
       "2        Sean   36            Manager   129251.10\n",
       "11     Sandra   41            Manager   123174.12\n",
       "14      Tracy   34            Manager   120045.20\n",
       "0      Claire   35            Manager    97858.20\n",
       "15       Matt   43            Manager    89159.89\n",
       "8   Alejandro   35          Team Lead    79515.70\n",
       "1      Darrin   26          Team Lead    74424.90\n",
       "5       Irene   33          Team Lead    69730.10\n",
       "22    Patrick   26          Team Lead    62802.30\n",
       "13       Eric   31          Team Lead    61480.10\n",
       "18      Linda   35          Team Lead    59403.30\n",
       "28       Paul   27          Team Lead    37672.80\n",
       "4      Andrew   33          Team Lead    35433.20\n",
       "17      Steve   29          Team Lead    32256.40\n",
       "29    Brendan   30          Team Lead    30157.60\n",
       "26        Ted   27          Team Lead    28798.00\n",
       "27      Kunst   24          Developer    25584.90\n",
       "7        Pete   22          Developer    24689.50\n",
       "16       Gene   22          Developer    24337.50\n",
       "24     Darren   25          Developer    24302.30\n",
       "21     Odella   22          Developer    21552.30\n",
       "19      Ruben   25          Developer    20229.00\n",
       "12      Emily   24          Developer    19829.70\n",
       "10        Ken   25          Developer    18964.00\n",
       "6      Harold   23          Developer    15881.80\n",
       "25      Janet   25          Developer    14363.80"
      ]
     },
     "execution_count": 71,
     "metadata": {},
     "output_type": "execute_result"
    }
   ],
   "source": [
    "df.drop(columns=[\"Salary\"])  # original d is not modified (inplace = True)"
   ]
  },
  {
   "cell_type": "markdown",
   "id": "8fed1a06-c180-45f3-aff9-e1ab901b61f1",
   "metadata": {},
   "source": [
    "#### Operations on DF"
   ]
  },
  {
   "cell_type": "code",
   "execution_count": 85,
   "id": "937dfd3b-2baf-4df7-ab3e-a9e461d6cadd",
   "metadata": {},
   "outputs": [
    {
     "data": {
      "text/html": [
       "<div>\n",
       "<style scoped>\n",
       "    .dataframe tbody tr th:only-of-type {\n",
       "        vertical-align: middle;\n",
       "    }\n",
       "\n",
       "    .dataframe tbody tr th {\n",
       "        vertical-align: top;\n",
       "    }\n",
       "\n",
       "    .dataframe thead th {\n",
       "        text-align: right;\n",
       "    }\n",
       "</style>\n",
       "<table border=\"1\" class=\"dataframe\">\n",
       "  <thead>\n",
       "    <tr style=\"text-align: right;\">\n",
       "      <th></th>\n",
       "      <th>Name</th>\n",
       "      <th>English</th>\n",
       "      <th>Maths</th>\n",
       "      <th>Science</th>\n",
       "    </tr>\n",
       "  </thead>\n",
       "  <tbody>\n",
       "    <tr>\n",
       "      <th>0</th>\n",
       "      <td>Jane</td>\n",
       "      <td>10</td>\n",
       "      <td>40</td>\n",
       "      <td>30</td>\n",
       "    </tr>\n",
       "    <tr>\n",
       "      <th>1</th>\n",
       "      <td>Sam</td>\n",
       "      <td>20</td>\n",
       "      <td>40</td>\n",
       "      <td>20</td>\n",
       "    </tr>\n",
       "    <tr>\n",
       "      <th>2</th>\n",
       "      <td>Bill</td>\n",
       "      <td>50</td>\n",
       "      <td>60</td>\n",
       "      <td>80</td>\n",
       "    </tr>\n",
       "  </tbody>\n",
       "</table>\n",
       "</div>"
      ],
      "text/plain": [
       "   Name  English  Maths  Science\n",
       "0  Jane       10     40       30\n",
       "1   Sam       20     40       20\n",
       "2  Bill       50     60       80"
      ]
     },
     "execution_count": 85,
     "metadata": {},
     "output_type": "execute_result"
    }
   ],
   "source": [
    "num_data = pd.DataFrame({\"Name\" : [\"Jane\", \"Sam\", \"Bill\"],\n",
    "                         \"English\" :[10, 20, 50], \"Maths\":[40, 40, 60], \"Science\" : [30, 20, 80]})\n",
    "num_data"
   ]
  },
  {
   "cell_type": "markdown",
   "id": "22f87d77-ca0f-4947-bb29-ce56f4dd2fe5",
   "metadata": {},
   "source": [
    "###### Ex. Calculate Total Marks and Percentage"
   ]
  },
  {
   "cell_type": "code",
   "execution_count": 86,
   "id": "6c14f47f-e86b-4777-aefe-4fdd07e8e0fc",
   "metadata": {},
   "outputs": [
    {
     "data": {
      "text/plain": [
       "0     80\n",
       "1     80\n",
       "2    190\n",
       "dtype: int64"
      ]
     },
     "execution_count": 86,
     "metadata": {},
     "output_type": "execute_result"
    }
   ],
   "source": [
    "num_data[\"English\"] + num_data[\"Maths\"] + num_data[\"Science\"]"
   ]
  },
  {
   "cell_type": "code",
   "execution_count": 88,
   "id": "0efaadbc-ebdd-4794-9bb0-ed0810e784ac",
   "metadata": {},
   "outputs": [
    {
     "data": {
      "text/plain": [
       "English     80\n",
       "Maths      140\n",
       "Science    130\n",
       "dtype: int64"
      ]
     },
     "execution_count": 88,
     "metadata": {},
     "output_type": "execute_result"
    }
   ],
   "source": [
    "num_data.select_dtypes(\"number\").sum()  # Column wise sum"
   ]
  },
  {
   "cell_type": "code",
   "execution_count": 87,
   "id": "de2e2d29-2c10-4b8c-9770-4d010457105b",
   "metadata": {},
   "outputs": [
    {
     "data": {
      "text/plain": [
       "0     80\n",
       "1     80\n",
       "2    190\n",
       "dtype: int64"
      ]
     },
     "execution_count": 87,
     "metadata": {},
     "output_type": "execute_result"
    }
   ],
   "source": [
    "num_data.select_dtypes(\"number\").sum(axis = 1) # row wise sum"
   ]
  },
  {
   "cell_type": "code",
   "execution_count": 89,
   "id": "1520de99-c8ef-4041-b554-f0932d06d1cc",
   "metadata": {},
   "outputs": [
    {
     "data": {
      "text/html": [
       "<div>\n",
       "<style scoped>\n",
       "    .dataframe tbody tr th:only-of-type {\n",
       "        vertical-align: middle;\n",
       "    }\n",
       "\n",
       "    .dataframe tbody tr th {\n",
       "        vertical-align: top;\n",
       "    }\n",
       "\n",
       "    .dataframe thead th {\n",
       "        text-align: right;\n",
       "    }\n",
       "</style>\n",
       "<table border=\"1\" class=\"dataframe\">\n",
       "  <thead>\n",
       "    <tr style=\"text-align: right;\">\n",
       "      <th></th>\n",
       "      <th>Name</th>\n",
       "      <th>English</th>\n",
       "      <th>Maths</th>\n",
       "      <th>Science</th>\n",
       "      <th>Total</th>\n",
       "    </tr>\n",
       "  </thead>\n",
       "  <tbody>\n",
       "    <tr>\n",
       "      <th>0</th>\n",
       "      <td>Jane</td>\n",
       "      <td>10</td>\n",
       "      <td>40</td>\n",
       "      <td>30</td>\n",
       "      <td>80</td>\n",
       "    </tr>\n",
       "    <tr>\n",
       "      <th>1</th>\n",
       "      <td>Sam</td>\n",
       "      <td>20</td>\n",
       "      <td>40</td>\n",
       "      <td>20</td>\n",
       "      <td>80</td>\n",
       "    </tr>\n",
       "    <tr>\n",
       "      <th>2</th>\n",
       "      <td>Bill</td>\n",
       "      <td>50</td>\n",
       "      <td>60</td>\n",
       "      <td>80</td>\n",
       "      <td>190</td>\n",
       "    </tr>\n",
       "  </tbody>\n",
       "</table>\n",
       "</div>"
      ],
      "text/plain": [
       "   Name  English  Maths  Science  Total\n",
       "0  Jane       10     40       30     80\n",
       "1   Sam       20     40       20     80\n",
       "2  Bill       50     60       80    190"
      ]
     },
     "execution_count": 89,
     "metadata": {},
     "output_type": "execute_result"
    }
   ],
   "source": [
    "num_data[\"Total\"] = num_data.select_dtypes(\"number\").sum(axis = 1) # row wise sum\n",
    "num_data"
   ]
  },
  {
   "cell_type": "code",
   "execution_count": 91,
   "id": "f2d9d868-f0b0-420d-8908-038b01cc4b97",
   "metadata": {},
   "outputs": [
    {
     "data": {
      "text/html": [
       "<div>\n",
       "<style scoped>\n",
       "    .dataframe tbody tr th:only-of-type {\n",
       "        vertical-align: middle;\n",
       "    }\n",
       "\n",
       "    .dataframe tbody tr th {\n",
       "        vertical-align: top;\n",
       "    }\n",
       "\n",
       "    .dataframe thead th {\n",
       "        text-align: right;\n",
       "    }\n",
       "</style>\n",
       "<table border=\"1\" class=\"dataframe\">\n",
       "  <thead>\n",
       "    <tr style=\"text-align: right;\">\n",
       "      <th></th>\n",
       "      <th>Name</th>\n",
       "      <th>English</th>\n",
       "      <th>Maths</th>\n",
       "      <th>Science</th>\n",
       "      <th>Total</th>\n",
       "      <th>Percentage</th>\n",
       "    </tr>\n",
       "  </thead>\n",
       "  <tbody>\n",
       "    <tr>\n",
       "      <th>0</th>\n",
       "      <td>Jane</td>\n",
       "      <td>10</td>\n",
       "      <td>40</td>\n",
       "      <td>30</td>\n",
       "      <td>80</td>\n",
       "      <td>26.67</td>\n",
       "    </tr>\n",
       "    <tr>\n",
       "      <th>1</th>\n",
       "      <td>Sam</td>\n",
       "      <td>20</td>\n",
       "      <td>40</td>\n",
       "      <td>20</td>\n",
       "      <td>80</td>\n",
       "      <td>26.67</td>\n",
       "    </tr>\n",
       "    <tr>\n",
       "      <th>2</th>\n",
       "      <td>Bill</td>\n",
       "      <td>50</td>\n",
       "      <td>60</td>\n",
       "      <td>80</td>\n",
       "      <td>190</td>\n",
       "      <td>63.33</td>\n",
       "    </tr>\n",
       "  </tbody>\n",
       "</table>\n",
       "</div>"
      ],
      "text/plain": [
       "   Name  English  Maths  Science  Total  Percentage\n",
       "0  Jane       10     40       30     80       26.67\n",
       "1   Sam       20     40       20     80       26.67\n",
       "2  Bill       50     60       80    190       63.33"
      ]
     },
     "execution_count": 91,
     "metadata": {},
     "output_type": "execute_result"
    }
   ],
   "source": [
    "num_data[\"Percentage\"] = (num_data[\"Total\"] / 3) \n",
    "num_data"
   ]
  },
  {
   "cell_type": "code",
   "execution_count": 80,
   "id": "93e4dc89-852a-407f-8218-8317f5b4fceb",
   "metadata": {},
   "outputs": [
    {
     "data": {
      "text/html": [
       "<div>\n",
       "<style scoped>\n",
       "    .dataframe tbody tr th:only-of-type {\n",
       "        vertical-align: middle;\n",
       "    }\n",
       "\n",
       "    .dataframe tbody tr th {\n",
       "        vertical-align: top;\n",
       "    }\n",
       "\n",
       "    .dataframe thead th {\n",
       "        text-align: right;\n",
       "    }\n",
       "</style>\n",
       "<table border=\"1\" class=\"dataframe\">\n",
       "  <thead>\n",
       "    <tr style=\"text-align: right;\">\n",
       "      <th></th>\n",
       "      <th>Name</th>\n",
       "    </tr>\n",
       "  </thead>\n",
       "  <tbody>\n",
       "    <tr>\n",
       "      <th>0</th>\n",
       "      <td>Jane</td>\n",
       "    </tr>\n",
       "    <tr>\n",
       "      <th>1</th>\n",
       "      <td>Sam</td>\n",
       "    </tr>\n",
       "    <tr>\n",
       "      <th>2</th>\n",
       "      <td>Bill</td>\n",
       "    </tr>\n",
       "  </tbody>\n",
       "</table>\n",
       "</div>"
      ],
      "text/plain": [
       "   Name\n",
       "0  Jane\n",
       "1   Sam\n",
       "2  Bill"
      ]
     },
     "execution_count": 80,
     "metadata": {},
     "output_type": "execute_result"
    }
   ],
   "source": [
    "num_data.select_dtypes(\"object\")"
   ]
  },
  {
   "cell_type": "markdown",
   "id": "fa051656-5e37-4395-9499-a5465204bc81",
   "metadata": {},
   "source": [
    "#### map(), replace() and apply()"
   ]
  },
  {
   "cell_type": "code",
   "execution_count": null,
   "id": "19002035-1132-4ab1-aca7-98fe0361e5ed",
   "metadata": {},
   "outputs": [],
   "source": [
    "new_values = {'Managing Director' : \"MD\", 'Senior Manager' : \"SM\", 'Manager' : \"MN\", \n",
    "              'Team Lead' : \"TL\", 'Developer' : \"DL\"}\n"
   ]
  },
  {
   "cell_type": "code",
   "execution_count": null,
   "id": "87dcd426-86e5-4e73-bd6a-b2c64f7717f6",
   "metadata": {},
   "outputs": [],
   "source": [
    "# map using function object\n",
    "new_values = {'Senior Manager' : \"SM\", 'Manager' : \"MN\", 'Team Lead' : \"TL\", 'Developer' : \"DL\"}\n"
   ]
  },
  {
   "cell_type": "markdown",
   "id": "e70d66c0-18c6-47d7-ab20-981a140ee7b4",
   "metadata": {},
   "source": [
    "#### np.where() and np.select()"
   ]
  },
  {
   "cell_type": "code",
   "execution_count": null,
   "id": "2fe786c7-e5b0-47df-b1d0-c0f68bd82966",
   "metadata": {},
   "outputs": [],
   "source": []
  },
  {
   "cell_type": "markdown",
   "id": "73501a4f-ab44-4b4c-8bf6-37ff17f0d2c4",
   "metadata": {},
   "source": [
    "##### Note - Be careful with the objects returned by np.where and np.select. Returns an array object"
   ]
  },
  {
   "cell_type": "markdown",
   "id": "1a30a5c2-f08a-4afd-b324-c56dab613673",
   "metadata": {},
   "source": [
    "###### Assign grades based on marks"
   ]
  },
  {
   "cell_type": "code",
   "execution_count": null,
   "id": "ac679047-bc95-4d1f-b93d-5b8dc459aa26",
   "metadata": {},
   "outputs": [],
   "source": []
  },
  {
   "cell_type": "markdown",
   "id": "cf372c7d-91c1-4113-94be-fb6d2558a05f",
   "metadata": {},
   "source": [
    "<hr><hr>"
   ]
  },
  {
   "cell_type": "markdown",
   "id": "8968f93f-2b38-49f8-9511-dc2b38e15eeb",
   "metadata": {},
   "source": [
    "<br><br><br><br><br><br><br><br><br><br><br><br><br>"
   ]
  }
 ],
 "metadata": {
  "kernelspec": {
   "display_name": "Python 3 (ipykernel)",
   "language": "python",
   "name": "python3"
  },
  "language_info": {
   "codemirror_mode": {
    "name": "ipython",
    "version": 3
   },
   "file_extension": ".py",
   "mimetype": "text/x-python",
   "name": "python",
   "nbconvert_exporter": "python",
   "pygments_lexer": "ipython3",
   "version": "3.12.4"
  }
 },
 "nbformat": 4,
 "nbformat_minor": 5
}
