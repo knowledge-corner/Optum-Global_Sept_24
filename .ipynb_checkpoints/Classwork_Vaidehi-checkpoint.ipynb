{
 "cells": [
  {
   "cell_type": "markdown",
   "id": "242f9316-9427-43d7-984f-b7c328e79601",
   "metadata": {},
   "source": [
    "# Data Analysis with Python"
   ]
  },
  {
   "cell_type": "markdown",
   "id": "320e3100-f9bb-4f75-b4aa-fa2c031d0a48",
   "metadata": {},
   "source": [
    "## Learning Objectives"
   ]
  },
  {
   "cell_type": "markdown",
   "id": "45300f31-1ac0-4cc1-88c3-d75e0d77dbc7",
   "metadata": {
    "jp-MarkdownHeadingCollapsed": true
   },
   "source": [
    "- Types of Data\n",
    "- Population and Sample and its characteristics\n",
    "- Arrays and Dataframes - accessing data and performing operations on data\n",
    "- Types of Variables - features and labels\n",
    "- Descriptive Statistics and EDA\n",
    "    - Univariate Analysis\n",
    "    - Bivariate Analysis\n",
    "    - Handling Null Values\n",
    "    - Handling Outliers\n",
    "    - Hypothesis Testing\n",
    "- Introduction to Machine Learning and its types\n",
    "- Linear Regression\n",
    "- Logistic Regression"
   ]
  },
  {
   "cell_type": "markdown",
   "id": "a1ace9b9-d567-44a3-b20f-9de6ac0dcdd6",
   "metadata": {},
   "source": [
    "## Types of data "
   ]
  },
  {
   "cell_type": "markdown",
   "id": "15325bbd-c24d-47c6-898a-95d48974d62b",
   "metadata": {},
   "source": [
    "#### Numerical (Quantitative) Data:\n",
    "\n",
    "Numerical data consists of numbers and is measured on a continuous or discrete scale.\n",
    "- Continuous numerical data can take any value within a range (e.g., height, temperature).\n",
    "- Discrete numerical data can take only specific, distinct values (e.g., number of siblings, number of cars).\n",
    "\n",
    "#### Categorical (Qualitative) Data:\n",
    "\n",
    "Categorical data represents categories or labels and is not inherently numerical.\n",
    "- Nominal categorical data has categories with no inherent order or ranking (e.g., gender, eye color).\n",
    "- Ordinal categorical data has categories with a specific order or ranking (e.g., education level, socioeconomic status)."
   ]
  },
  {
   "cell_type": "markdown",
   "id": "534810a8-5e6f-42fa-96c0-0236d523b533",
   "metadata": {},
   "source": [
    "## Population and Sample"
   ]
  },
  {
   "cell_type": "markdown",
   "id": "4b25ea0c-e20d-45a5-9e2f-242138c7214f",
   "metadata": {},
   "source": [
    "#### Population:\n",
    "\n",
    "The population is the entire group or set of individuals, items, or elements that you are interested in studying and drawing conclusions about. It represents the complete set of possible observations that share a common characteristic or attribute.\n",
    "For example, if you are studying the heights of all adult males in a country, the population would consist of the heights of all adult males in that country.\n",
    "\n",
    "#### Sample:\n",
    "\n",
    "A sample is a subset or a smaller representative group selected from the population.\n",
    "It is used to make inferences or draw conclusions about the population without having to collect data from every individual in the population.\n",
    "\n",
    "The process of selecting a sample from the population is known as sampling.\n",
    "For example, instead of measuring the heights of all adult males in a country (which may be impractical or too costly), you might select a random sample of adult males and measure their heights to estimate the average height of the entire population.\n",
    "\n",
    "#### Key points to note about population and sample:\n",
    "\n",
    "- The population represents the entire group under study, while the sample represents a subset of that group.\n",
    "- In many cases, it is not feasible or practical to collect data from the entire population, so researchers use samples to make inferences about the population.\n",
    "- The goal of sampling is to obtain a representative sample that accurately reflects the characteristics of the population.\n",
    "Statistical techniques are used to analyze sample data and make generalizations or predictions about th##e population.\n",
    "\n",
    "#### Characteristics of Population\n",
    "\n",
    "- Mean (Average): The mean of a population is the average value of a quantitative variable across all individuals in the population. It represents the central tendency of the population distribution.\n",
    "\n",
    "- Median: The median of a population is the middle value of a quantitative variable when all observations are arranged in ascending order. It is another measure of central tendency that is less affected by extreme values (outliers) compared to the mean.\n",
    "\n",
    "- Mode: The mode of a population is the most frequently occurring value or category of a variable. It represents the value with the highest frequency in the population distribution.\n",
    "\n",
    "- Variance: The variance of a population measures the spread or dispersion of values around the mean. It quantifies the average squared deviation of individual observations from the mean.\n",
    "\n",
    "- Standard Deviation: The standard deviation of a population is the square root of the variance. It provides a measure of the average distance between individual observations and the mean.\n",
    "\n",
    "- Range: The range of a population is the difference between the maximum and minimum values of a variable. It provides a simple measure of the spread of values in the population.\n",
    "\n",
    "- Distribution: The distribution of a population describes how the values of a variable are spread or distributed across the population. Common types of distributions include normal (bell-shaped), skewed (asymmetric), and ##uniform (evenly distributed).\n",
    "\n",
    "#### Characteristics of a Sample\n",
    "\n",
    "- Sample Size: The sample size is the number of observations or individuals included in the sample. It represents the amount of data available for analysis and inference.\n",
    "- Sampling Method: The sampling method describes how the sample was selected from the population. Common sampling methods include simple random sampling, stratified sampling, cluster sampling, and systematic sampling.\n",
    "\n",
    "- Descriptive Statistics: Descriptive statistics summarize the main features of the sample data. Common descriptive statistics include measures of central tendency (mean, median, mode), measures of dispersion (range, variance, standard deviation), and measures of shape (skewness, kurtosis).\n",
    "\n",
    "- Sample Proportion: The sample proportion represents the fraction or percentage of observations with a specific attribute or characteristic in the sample. It provides insights into the relative frequency of different categories in the sample.\n",
    "\n",
    "- Confidence Interval: The confidence interval is a range of values that is likely to contain the true population parameter with a certain level of confidence. It is used to estimate the precision or uncertainty of sample statistics, such as the sample mean or proportion.\n",
    "\n",
    "- Sampling Bias: Sampling bias refers to the systematic distortion or deviation of the sample from the population due to the sampling method used. It can affect the representativeness and generalizability of the sample data to the population. the sample data to the population. distributed)."
   ]
  },
  {
   "cell_type": "markdown",
   "id": "d5c9e14a-7a71-4d9b-95bb-251bad26d6a1",
   "metadata": {},
   "source": [
    "<hr><hr>"
   ]
  },
  {
   "cell_type": "markdown",
   "id": "522ba259-e857-4dfb-a07c-ca8fb398f536",
   "metadata": {},
   "source": [
    "## Arrays and Dataframes"
   ]
  },
  {
   "cell_type": "code",
   "execution_count": null,
   "id": "39ce4dfe-ae3f-4346-9ec6-8d9c5940bc49",
   "metadata": {},
   "outputs": [],
   "source": [
    "import numpy as np  # has all functions required for basic numeric calculations\n",
    "import pandas as pd  # has Dataframe object and is used to store and manipulate data\n",
    "import matplotlib.pyplot as plt  # used for data visualization (base library)\n",
    "import seaborn as sns  # used for data viz (wrapper over matplotlib)\n",
    "import scipy.stats as stats  # for statistical functions\n",
    "\n",
    "# Optional Parameters -\n",
    "%matplotlib inline\n",
    "pd.options.display.float_format = '{:.2f}'.format\n",
    "plt.rcParams['figure.figsize'] = (4, 3)\n",
    "plt.rcParams['font.size'] = 10\n",
    "\n",
    "import warnings\n",
    "warnings.filterwarnings('ignore')"
   ]
  },
  {
   "cell_type": "markdown",
   "id": "9ea4b1e8-b5f0-40c3-ba58-72b27388dd4a",
   "metadata": {},
   "source": [
    "### Examples on arrays"
   ]
  },
  {
   "cell_type": "code",
   "execution_count": null,
   "id": "53f52876-6d67-46af-9a1d-9f9aa35d7258",
   "metadata": {},
   "outputs": [],
   "source": [
    "names = np.array(['Claire', 'Darrin', 'Sean', 'Brosina', 'Andrew', 'Irene', 'Harold', 'Pete', 'Alejandro', 'Zuschuss', 'Ken', 'Sandra', 'Emily', 'Eric','Tracy', 'Matt', 'Gene', 'Steve', 'Linda', 'Ruben', 'Erin', 'Odella', 'Patrick', 'Lena', 'Darren', 'Janet', 'Ted', 'Kunst', 'Paul', 'Brendan'])\n",
    "ages = np.array([35, 26, 36, 44, 33, 33, 23, 22, 35, 53, 25, 41, 24, 31, 34, 43, 22, 29, 35, 25, 47, 22, 26, 52, 25, 25, 27, 24, 27, 30])\n",
    "salary = np.array([ 88962,  67659, 117501, 149957,  32212,  63391,  14438,  22445, 72287, 195588,  17240, 115116,  18027,  55891, 109132,  83327, 22125,  29324,  54003,  18390, 141401,  19593,  57093, 130556, 22093,  13058,  26180,  23259,  34248,  27416])\n",
    "designation = np.array(['Manager', 'Team Lead', 'Manager', 'Senior Manager', 'Team Lead', 'Team Lead', 'Developer', 'Developer', 'Team Lead', 'Managing Director', 'Developer', 'Manager', 'Developer','Team Lead', 'Manager', 'Manager', 'Developer', 'Team Lead','Team Lead', 'Developer', 'Senior Manager', 'Developer', 'Team Lead', 'Senior Manager', 'Developer', 'Developer','Team Lead', 'Developer', 'Team Lead', 'Team Lead'])"
   ]
  },
  {
   "cell_type": "markdown",
   "id": "daac038c-93ef-47c7-8666-02d94bf2b2a4",
   "metadata": {},
   "source": [
    "###### Ex. How many employees are present in the array"
   ]
  },
  {
   "cell_type": "code",
   "execution_count": null,
   "id": "71c51e5a-b8e7-4789-80c6-72824d5264f8",
   "metadata": {},
   "outputs": [],
   "source": [
    "len(names)"
   ]
  },
  {
   "cell_type": "code",
   "execution_count": null,
   "id": "8ffd32e5-afa5-4370-be8d-b3b1330776c2",
   "metadata": {},
   "outputs": [],
   "source": [
    "names.size"
   ]
  },
  {
   "cell_type": "code",
   "execution_count": null,
   "id": "12783650-8665-4d2a-9ee2-c6ec3d253f3c",
   "metadata": {},
   "outputs": [],
   "source": [
    "names.dtype"
   ]
  },
  {
   "cell_type": "code",
   "execution_count": null,
   "id": "77273fee-676a-4872-b47f-b2d2c2f08094",
   "metadata": {},
   "outputs": [],
   "source": [
    "ages.dtype"
   ]
  },
  {
   "cell_type": "code",
   "execution_count": null,
   "id": "b0d12c59-4955-4f17-b397-13746a42c355",
   "metadata": {},
   "outputs": [],
   "source": [
    "ages.ndim  # dimension of array "
   ]
  },
  {
   "cell_type": "markdown",
   "id": "7ba48a8b-cf8f-4000-ae7c-0d6f2e46e29c",
   "metadata": {},
   "source": [
    "###### Extract the ages greater than 40"
   ]
  },
  {
   "cell_type": "code",
   "execution_count": null,
   "id": "13ed0a06-03c5-4ddd-8fd9-e7a16eb6cf3f",
   "metadata": {},
   "outputs": [],
   "source": [
    "ages[ages > 40]"
   ]
  },
  {
   "cell_type": "markdown",
   "id": "6f11b7da-cbf2-4305-8d10-e11abca6981d",
   "metadata": {},
   "source": [
    "###### Extract names of the employees whose age greater than 40"
   ]
  },
  {
   "cell_type": "code",
   "execution_count": null,
   "id": "1e7e86f6-1cb6-43bc-9422-ebd85794d4db",
   "metadata": {},
   "outputs": [],
   "source": [
    "names[ages > 40]"
   ]
  },
  {
   "cell_type": "markdown",
   "id": "25117f7c-12df-4aab-854e-f6f0abaa1b29",
   "metadata": {},
   "source": [
    "###### Apply 7% hike on salary to all employes in the array"
   ]
  },
  {
   "cell_type": "code",
   "execution_count": null,
   "id": "1e953e7c-9b37-4276-926d-311a10c89cdf",
   "metadata": {},
   "outputs": [],
   "source": [
    "salary * 1.07"
   ]
  },
  {
   "cell_type": "markdown",
   "id": "d7b2a386-3dc6-469a-b6ae-b63ddf19fda4",
   "metadata": {},
   "source": [
    "###### Apply 7% hike to all employes whose age is greater_eq than 40 and 10% hike to employees whose age is less than 40"
   ]
  },
  {
   "cell_type": "code",
   "execution_count": null,
   "id": "555bf42e-e54c-47d5-bceb-e33b4727671e",
   "metadata": {},
   "outputs": [],
   "source": [
    "np.where(ages >= 40, salary*1.07, salary * 1.10)"
   ]
  },
  {
   "cell_type": "markdown",
   "id": "9c0e86dd-b1a9-49ee-b35c-6ee31b7104d0",
   "metadata": {},
   "source": [
    "###### Generate 10 random numbers between 10-50"
   ]
  },
  {
   "cell_type": "code",
   "execution_count": null,
   "id": "d11eccfe-a6ab-4fad-906e-5f902247633c",
   "metadata": {},
   "outputs": [],
   "source": [
    "arr1 = np.random.randint(10, 50, 10)\n",
    "arr1"
   ]
  },
  {
   "cell_type": "code",
   "execution_count": null,
   "id": "3eae6ade-91e0-4fd2-9651-a010c40bb8fc",
   "metadata": {},
   "outputs": [],
   "source": [
    "arr1 = np.random.randint(10, 50, (5, 2))\n",
    "arr1"
   ]
  },
  {
   "cell_type": "markdown",
   "id": "c7cade7f-5e39-4808-84ba-d9d05a99f09b",
   "metadata": {},
   "source": [
    "###### Find unique elements from arr1"
   ]
  },
  {
   "cell_type": "code",
   "execution_count": null,
   "id": "35073b31-fe68-48c3-89a3-1681af1252b8",
   "metadata": {},
   "outputs": [],
   "source": [
    "np.unique(arr1)"
   ]
  },
  {
   "cell_type": "markdown",
   "id": "17303a98-cb43-44c9-84ce-d90dedd191a9",
   "metadata": {},
   "source": [
    "###### Find the elements of arr1 also present in arr2"
   ]
  },
  {
   "cell_type": "code",
   "execution_count": null,
   "id": "a3062903-c9a7-45b3-8a85-a7d6054ff33e",
   "metadata": {},
   "outputs": [],
   "source": [
    "arr1 = np.random.randint(10, 50, 10)\n",
    "arr1"
   ]
  },
  {
   "cell_type": "code",
   "execution_count": null,
   "id": "6d7d9944-1b61-48c7-9f6f-681ded3d1f52",
   "metadata": {},
   "outputs": [],
   "source": [
    "arr2 = np.random.randint(10, 50, 10)\n",
    "arr2"
   ]
  },
  {
   "cell_type": "code",
   "execution_count": null,
   "id": "33342940-18b3-4969-9dee-abf7691a6c57",
   "metadata": {},
   "outputs": [],
   "source": [
    "np.intersect1d(arr1, arr2)"
   ]
  },
  {
   "cell_type": "markdown",
   "id": "93962bc5-a9d1-4134-ba58-e16b6cbd6454",
   "metadata": {},
   "source": [
    "###### Are all elements of arr1 present in arr2"
   ]
  },
  {
   "cell_type": "code",
   "execution_count": null,
   "id": "e7cafa70-e4e3-4b18-bc6d-05cb5994634c",
   "metadata": {},
   "outputs": [],
   "source": [
    "np.all(np.in1d(arr1, arr2))  # Returns True if all elements in the array are True"
   ]
  },
  {
   "cell_type": "code",
   "execution_count": null,
   "id": "71700f02-f5b9-4c9e-b87b-456fe126def3",
   "metadata": {},
   "outputs": [],
   "source": [
    "np.any(np.in1d(arr1, arr2))  # Returns True if any one element in the array is True"
   ]
  },
  {
   "cell_type": "markdown",
   "id": "73ab42f8-e105-47c8-87f4-d9147f5625c7",
   "metadata": {},
   "source": [
    "###### Ex. Create age groups based on 3 criterions"
   ]
  },
  {
   "cell_type": "code",
   "execution_count": null,
   "id": "f68559d2-b8a4-40e5-b372-924c98fa8622",
   "metadata": {},
   "outputs": [],
   "source": [
    "conditions = [ages < 35, ages < 50]\n",
    "groups = [\"Group 1\", \"Group 2\"]\n",
    "np.select(conditions, groups, \"Group 3\")"
   ]
  },
  {
   "cell_type": "markdown",
   "id": "094e2b9e-5510-45c2-8359-d91608052b15",
   "metadata": {},
   "source": [
    "### Examples on Dataframes"
   ]
  },
  {
   "cell_type": "code",
   "execution_count": null,
   "id": "e1dcccf9-333f-4e46-bb52-051f00aee88f",
   "metadata": {},
   "outputs": [],
   "source": [
    "df = pd.DataFrame({\"Name\" : names, \"Age\":ages, \"Salary\" : salary, \"Designation\" : designation})\n",
    "df.head()  # displays only top N rows, default = 5"
   ]
  },
  {
   "cell_type": "code",
   "execution_count": null,
   "id": "882cb9de-7330-4e77-80ae-c8fc0854a081",
   "metadata": {},
   "outputs": [],
   "source": [
    "df.shape"
   ]
  },
  {
   "cell_type": "code",
   "execution_count": null,
   "id": "9adace0a-89e9-40c3-bfec-68d19832c4ee",
   "metadata": {},
   "outputs": [],
   "source": [
    "# No of rows\n",
    "df.shape[0]"
   ]
  },
  {
   "cell_type": "code",
   "execution_count": null,
   "id": "c2b54cd2-c996-4a66-977f-9405b97b2901",
   "metadata": {},
   "outputs": [],
   "source": [
    "df.dtypes"
   ]
  },
  {
   "cell_type": "markdown",
   "id": "c88b4bfc-fe3c-4ae2-b41c-710fc13cac2d",
   "metadata": {},
   "source": [
    "###### Ex. Display all the Developers in the DF"
   ]
  },
  {
   "cell_type": "code",
   "execution_count": null,
   "id": "a3fdb3d2-ea8a-4402-a309-1681114d33ba",
   "metadata": {},
   "outputs": [],
   "source": [
    "df[df[\"Designation\"] == \"Developer\"] # Filtering the dataframe"
   ]
  },
  {
   "cell_type": "code",
   "execution_count": null,
   "id": "a23300de-520c-4797-bfc4-8c411c60a53f",
   "metadata": {},
   "outputs": [],
   "source": [
    "df[df[\"Designation\"] == \"Developer\"].Salary  # Filtering the dataframe"
   ]
  },
  {
   "cell_type": "markdown",
   "id": "fe39fe2a-1f51-469c-924d-22f56c54f301",
   "metadata": {},
   "source": [
    "###### Ex. Display details of employees whose salary is in the range of 50k-80k"
   ]
  },
  {
   "cell_type": "code",
   "execution_count": null,
   "id": "ce8c7cd1-ba6f-4d8c-9f22-cc6f48bee427",
   "metadata": {},
   "outputs": [],
   "source": [
    "df[df.Salary.between(50000, 80000)]"
   ]
  },
  {
   "cell_type": "markdown",
   "id": "76e9ea28-0229-4cb9-ab73-ce1f2cb95750",
   "metadata": {},
   "source": [
    "###### Ex. Display employees in DESC sorted order of salaries "
   ]
  },
  {
   "cell_type": "code",
   "execution_count": null,
   "id": "3d650a8d-bd9c-4e53-a5a7-da192ea0b397",
   "metadata": {},
   "outputs": [],
   "source": [
    "df.sort_values(\"Salary\", ascending=False) # Original df is not modified"
   ]
  },
  {
   "cell_type": "code",
   "execution_count": null,
   "id": "223b9cc3-870c-4dcd-86bf-f127b14472fe",
   "metadata": {},
   "outputs": [],
   "source": [
    "df.sort_values(\"Salary\", ascending=False, inplace=True) # to modify original df set inplace = True\n",
    "df.head()"
   ]
  },
  {
   "cell_type": "markdown",
   "id": "7143bc85-cd5d-48aa-8652-dac8f24e9838",
   "metadata": {},
   "source": [
    "###### Ex. Extract first 10 rows based on index positions"
   ]
  },
  {
   "cell_type": "code",
   "execution_count": null,
   "id": "d7ceec34-2c8a-4e26-aff0-c63907f06ac5",
   "metadata": {},
   "outputs": [],
   "source": [
    "df.iloc[0:11]"
   ]
  },
  {
   "cell_type": "markdown",
   "id": "a1acb667-f890-4ad3-b9a2-4076378ac8b7",
   "metadata": {},
   "source": [
    "#### Adding columns and dropping columns"
   ]
  },
  {
   "cell_type": "markdown",
   "id": "c6caab26-3018-4d3b-a804-3cf268cfa97c",
   "metadata": {},
   "source": [
    "###### Ex. Salary hike based on age"
   ]
  },
  {
   "cell_type": "code",
   "execution_count": null,
   "id": "11dd1219-c6c2-4139-a190-0395faf273da",
   "metadata": {},
   "outputs": [],
   "source": [
    "df.insert(2, \"New Salary\", np.where(df.Age >= 40, df.Salary * 1.07, df.Salary * 1.10))"
   ]
  },
  {
   "cell_type": "code",
   "execution_count": null,
   "id": "af8528f4-e656-4cbf-9ca6-61486ceae080",
   "metadata": {},
   "outputs": [],
   "source": [
    "df[\"New Salary\"] = np.where(df.Age >= 40, df.Salary * 1.07, df.Salary * 1.10) \n",
    "df.head()"
   ]
  },
  {
   "cell_type": "code",
   "execution_count": null,
   "id": "7508a790-3698-4fb7-a099-fa115031e206",
   "metadata": {},
   "outputs": [],
   "source": [
    "df.drop(columns=[\"Salary\"])  # original d is not modified (inplace = True)"
   ]
  },
  {
   "cell_type": "markdown",
   "id": "8fed1a06-c180-45f3-aff9-e1ab901b61f1",
   "metadata": {},
   "source": [
    "#### Operations on DF"
   ]
  },
  {
   "cell_type": "code",
   "execution_count": null,
   "id": "937dfd3b-2baf-4df7-ab3e-a9e461d6cadd",
   "metadata": {},
   "outputs": [],
   "source": [
    "num_data = pd.DataFrame({\"Name\" : [\"Jane\", \"Sam\", \"Bill\"],\n",
    "                         \"English\" :[10, 20, 50], \"Maths\":[40, 40, 60], \"Science\" : [30, 20, 80]})\n",
    "num_data"
   ]
  },
  {
   "cell_type": "markdown",
   "id": "22f87d77-ca0f-4947-bb29-ce56f4dd2fe5",
   "metadata": {},
   "source": [
    "###### Ex. Calculate Total Marks and Percentage"
   ]
  },
  {
   "cell_type": "code",
   "execution_count": null,
   "id": "6c14f47f-e86b-4777-aefe-4fdd07e8e0fc",
   "metadata": {},
   "outputs": [],
   "source": [
    "num_data[\"English\"] + num_data[\"Maths\"] + num_data[\"Science\"]"
   ]
  },
  {
   "cell_type": "code",
   "execution_count": null,
   "id": "0efaadbc-ebdd-4794-9bb0-ed0810e784ac",
   "metadata": {},
   "outputs": [],
   "source": [
    "num_data.select_dtypes(\"number\").sum()  # Column wise sum"
   ]
  },
  {
   "cell_type": "code",
   "execution_count": null,
   "id": "de2e2d29-2c10-4b8c-9770-4d010457105b",
   "metadata": {},
   "outputs": [],
   "source": [
    "num_data.select_dtypes(\"number\").sum(axis = 1) # row wise sum"
   ]
  },
  {
   "cell_type": "code",
   "execution_count": null,
   "id": "1520de99-c8ef-4041-b554-f0932d06d1cc",
   "metadata": {},
   "outputs": [],
   "source": [
    "num_data[\"Total\"] = num_data.select_dtypes(\"number\").sum(axis = 1) # row wise sum\n",
    "num_data"
   ]
  },
  {
   "cell_type": "code",
   "execution_count": null,
   "id": "f2d9d868-f0b0-420d-8908-038b01cc4b97",
   "metadata": {},
   "outputs": [],
   "source": [
    "num_data[\"Percentage\"] = (num_data[\"Total\"] / 3) \n",
    "num_data"
   ]
  },
  {
   "cell_type": "code",
   "execution_count": null,
   "id": "93e4dc89-852a-407f-8218-8317f5b4fceb",
   "metadata": {},
   "outputs": [],
   "source": [
    "num_data.select_dtypes(\"object\")"
   ]
  },
  {
   "cell_type": "markdown",
   "id": "fa051656-5e37-4395-9499-a5465204bc81",
   "metadata": {},
   "source": [
    "#### map(), replace() and apply()"
   ]
  },
  {
   "cell_type": "code",
   "execution_count": null,
   "id": "bc4a9560-dfe1-4950-9c1a-7d46c211d558",
   "metadata": {},
   "outputs": [],
   "source": [
    "df.head()"
   ]
  },
  {
   "cell_type": "code",
   "execution_count": null,
   "id": "19002035-1132-4ab1-aca7-98fe0361e5ed",
   "metadata": {},
   "outputs": [],
   "source": [
    "new_values = {'Senior Manager' : \"SM\", 'Manager' : \"MN\", \n",
    "              'Team Lead' : \"TL\", 'Developer' : \"DL\"}\n",
    "\n",
    "# df.Designation.replace(new_values, inplace=True)  # modified original\n",
    "df.Designation.replace(new_values)"
   ]
  },
  {
   "cell_type": "code",
   "execution_count": null,
   "id": "87dcd426-86e5-4e73-bd6a-b2c64f7717f6",
   "metadata": {},
   "outputs": [],
   "source": [
    "# map using function object\n",
    "new_values = {'Senior Manager' : \"SM\", 'Manager' : \"MN\", 'Team Lead' : \"TL\", 'Developer' : \"DL\"}\n",
    "\n",
    "df.Designation.map(new_values)  "
   ]
  },
  {
   "cell_type": "markdown",
   "id": "30253e16-f618-435c-ab8d-c3ccbff6feb8",
   "metadata": {},
   "source": [
    "###### Ex. Apply 7% hike to all employees"
   ]
  },
  {
   "cell_type": "code",
   "execution_count": null,
   "id": "2d38f19e-a3d6-48c0-b9d5-2e14539638a1",
   "metadata": {},
   "outputs": [],
   "source": [
    "df.Salary * 1.07"
   ]
  },
  {
   "cell_type": "code",
   "execution_count": null,
   "id": "acfd7121-10b6-447a-9784-7628c4f98e66",
   "metadata": {},
   "outputs": [],
   "source": [
    "df.Salary.apply(lambda sal : sal * 1.07)  # Applies the functionality to all elements in the series."
   ]
  },
  {
   "cell_type": "markdown",
   "id": "cf372c7d-91c1-4113-94be-fb6d2558a05f",
   "metadata": {},
   "source": [
    "<hr><hr>"
   ]
  },
  {
   "cell_type": "markdown",
   "id": "3cb0025b-9a0a-4e88-9ce9-34a9af14a53c",
   "metadata": {},
   "source": [
    "## Types of Variables "
   ]
  },
  {
   "cell_type": "markdown",
   "id": "887272e7-e1d0-4579-b919-703eefdee11b",
   "metadata": {
    "jp-MarkdownHeadingCollapsed": true
   },
   "source": [
    "- Features: Features, also known as independent variables or input variables, are the attributes or characteristics of the data that are used as input to the machine learning model to make predictions. Features represent the variables that the model learns from to make predictions or classifications. Each feature can be either numerical or categorical and may have different scales or levels of measurement.\n",
    "\n",
    "- Labels: Labels, also known as target variables or dependent variables, are the outputs or predictions that the machine learning model aims to predict based on the input features. Labels represent the target variable that the model is trying to learn or predict. In supervised learning tasks, the labels are typically known for a subset of the data, and the goal is to train the model to accurately predict the labels for unseen data."
   ]
  },
  {
   "cell_type": "markdown",
   "id": "6ccf7471-e18a-4b7f-827d-4589e24eacf2",
   "metadata": {},
   "source": [
    "## Descriptive Statistics"
   ]
  },
  {
   "cell_type": "markdown",
   "id": "2f836be2-137a-4ee4-afbc-cd217bca2078",
   "metadata": {},
   "source": [
    "Descriptive statistics deals with summarizing and describing the features of a dataset or sample. Descriptive statistics provides a summary of the main features of the data, including measures of central tendency, dispersion, shape, and relationships between variables.\n",
    "\n",
    "#### Measures of Central Tendency:\n",
    "    - Mean: The average value of the data points.\n",
    "    - Median: The middle value of the data when arranged in ascending order.\n",
    "    - Mode: The most frequently occurring value in the dataset.\n",
    "\n",
    "#### Measures of Dispersion:\n",
    "    - Range: The difference between the maximum and minimum values in the dataset.\n",
    "    - Variance: The average of the squared differences from the mean.\n",
    "    - Standard Deviation: The square root of the variance, representing the average deviation from the mean.\n",
    "\n",
    "#### Measures of Shape:\n",
    "    - Skewness: A measure of the asymmetry of the distribution.\n",
    "        - Positive skewness indicates a longer right tail and a concentration of data on the left side.\n",
    "        - Negative skewness indicates a longer left tail and a concentration of data on the right side.\n",
    "        - Skewness close to zero indicates approximate symmetry around the mean.\n",
    "\n",
    "    - Kurtosis: A measure of the \"peakedness\" or \"flatness\" of the distribution.\n",
    "        - Positive kurtosis indicates heavy tails and a sharp peak (leptokurtic).\n",
    "        - Negative kurtosis indicates light tails and a flat peak (platykurtic).\n",
    "        - A kurtosis of 0 indicates a distribution with similar tails to the normal distribution (mesokurtic).\n",
    "\n",
    "#### Frequency Distribution:\n",
    "    - Frequency table: A table that shows the frequency or count of each value in the dataset.\n",
    "    - Histogram: A graphical representation of the frequency distribution, showing the distribution of values in bins or intervals.\n",
    "\n",
    "#### Measures of Association:\n",
    "    - Correlation: A measure of the strength and direction of the linear relationship between two variables.\n",
    "    - Covariance: A measure of the joint variability between two variables."
   ]
  },
  {
   "cell_type": "markdown",
   "id": "969a8a63-3d03-4763-a400-1c3f1a5b087c",
   "metadata": {},
   "source": [
    "### Example 1 - \n",
    "- Find Mean, Median, Mode, Range, Standard Deviation, Skewness, Kurtosis, Frequency Distribution - Histogram"
   ]
  },
  {
   "cell_type": "code",
   "execution_count": null,
   "id": "025f8aad-4bc2-40d8-9df2-cc33034f8e42",
   "metadata": {},
   "outputs": [],
   "source": [
    "# dataset consists of weights children in the age group of 0 to 10 years\n",
    "weights = np.array([20.8,15.3,23.2,15.5,17.5,27.3,23.3,20.5,16.4,17.4,22.6,20.8,16.7,29.1,14.2,18.5,17.6,17.1,18.2,26.0,25.6,19.1,17.8,21.6,19.6,28.4,19.4,22.8,25.9,27.1,20.8,21.9,15.4,30.2,23.0,25.0,24.0,17.1,18.8,25.8,23.2,14.9,20.4,15.0,12.3,17.6,10.3,12.1,25.8,21.9,9.9,24.8,17.9,22.0,27.6,21.7,26.3,19.9,16.6,17.8,8.0,21.5,17.9,33.6,20.4,21.9,19.8,15.3,25.6,24.7,10.6,22.1,18.8,9.8,14.9,18.7,27.6,21.2,25.1,21.9,22.1,19.6,10.4,17.2,18.3,21.2,21.1,21.0,19.1,14.8,19.2,18.3,22.1,14.1,19.3,16.2,25.6,14.8,22.3,25.0,20.8,21.2,16.6,15.0,15.6,24.7,26.1,18.1,14.1,25.5,21.4,32.7,13.8,27.4,15.8,18.4,21.3,27.5,15.8,27.2,26.9,16.2,22.6,15.3,22.5,26.6,24.7,28.4,28.0,19.9,9.9,16.5,19.5,11.7,27.9,28.1,21.1,20.0,14.5,25.9,13.3,15.8,21.3,10.7,14.6,19.9,21.6,26.6,26.0,23.7,20.5,11.8,15.6,14.9,24.6,20.9,24.5,26.8,25.3,30.9,26.1,14.9,17.9,18.5,25.7,16.4,8.2,24.1,19.5,13.1,17.6,13.4,24.4,16.4,19.9,12.9,14.3,25.4,15.4,17.7,17.3,18.7,16.1,7.4,18.4,16.2,18.7,19.8,25.6,23.7,22.5,20.5,14.9,25.0,4.7,6.8,21.8,22.2,24.4,13.4,32.1,26.6,27.2,17.8,19.6,16.8,14.4,24.9,12.6,15.0,15.4,10.1,12.9,15.9,22.3,15.0,24.4,21.0,17.2,25.2,15.6,24.6,24.9,13.6,10.3,25.6,18.3,25.1,18.1,20.2,29.1,25.7,14.9,11.4,19.2,21.5,13.9,19.5,19.1,23.0,26.8,14.8,24.4,14.7,24.3,24.5,19.9,12.1,21.2,16.4,19.5,25.8,8.5,19.8,23.4,21.3,14.7,17.9,15.7,14.9,5.2,3.8,31.5,17.4,16.0,20.7,18.4,8.1,22.9,32.8,19.0,33.0,26.0,14.2,18.4,15.1,29.5,13.9,5.1,28.1,18.2,10.5,27.8,19.4,13.1,21.9,18.6,11.0,19.7,20.2,20.1,17.6,21.6,21.2,30.0,26.1,20.5,22.8,20.5,19.6,18.0,19.8,21.8,7.0,21.4,22.5,18.9,15.1,22.0,25.5,11.1,15.4,21.5,13.5,11.2,19.3,25.5,20.2,18.3,15.3,40.3,22.1,23.2,17.1,19.4,15.3,28.6,23.0,19.4,16.7,20.9,21.1,15.9,29.6,17.0,19.0,20.8,20.4,9.8,24.0,15.2,26.2,22.0,21.4,16.2,29.2,21.4,28.9,16.9,21.9,11.2,19.0,21.2,20.8,9.3,12.5,26.9,10.7,18.9,17.5,23.3,12.5,13.4,26.3,23.0,21.8,25.6,20.7,18.0,32.5,25.6,8.4,19.8,24.5,18.0,24.7,21.3,12.9,21.6,29.1,25.8,26.4,27.0,25.6,19.0,20.0,10.4,17.5,19.5,17.5,21.1,19.6,23.1,18.2,27.0,18.5,19.3,25.4,20.8,20.8,20.6,20.4,23.1,17.6,18.7,16.2,18.9,15.2,22.5,10.0,21.1,29.3,17.8,27.1,16.8,18.0,28.3,16.5,19.8,16.7,23.2,23.6,18.5,29.8,24.2,22.4,29.3,29.3,21.5,15.5,23.0,12.8,20.8,11.5,20.0,15.2,18.7,17.2,22.5,13.5,13.1,17.6,12.1,23.2,18.0,24.2,7.3,17.0,17.0,22.7,22.1,18.0,15.6,13.9,17.7,14.7,26.1,12.2,20.3,17.8,16.5,10.2,18.2,22.2,26.3,26.6,19.2,19.5,14.3,15.6,13.9,20.2,11.6,31.2,6.3,23.4,21.1,22.0,8.5,11.5,19.3,17.7,11.9,14.8,16.9,16.1,13.0,17.9,22.0,14.2,13.9,25.4,21.1,16.3,16.4,19.3,18.3,23.0,27.4,24.2,14.9,12.7,16.7,17.8,19.5,14.9,23.9,15.2,25.4,22.9,25.2,12.7,26.0,26.7,15.8,24.9,24.4,15.5,20.0,7.8,20.6,19.0,29.8,14.1,14.1,17.8,24.9,20.7,19.8,24.2,16.7,21.3,23.7,20.9,23.6,25.3,9.9,21.7,16.7,10.3,18.9,25.2,12.7,27.4,21.4,23.0,11.8,22.1,13.0,20.0,27.2,19.8,16.9,18.8,25.0,9.0,19.0,11.1,19.6,24.0,29.3,20.7,10.7,26.9,18.6,21.5,26.2,21.5,27.9,22.1,25.1,27.9,18.9,26.4,20.0,25.6,27.5,17.7,18.9,27.0,14.9,27.6,19.6,18.1,19.2,20.2,16.4,16.6,14.1,8.9,17.6,17.3,21.0,14.3,18.7,19.9,12.3,24.4,23.3,25.1,27.9,15.1,18.3,23.2,17.8,15.5,22.0,23.0,20.4,15.5,22.8,19.5,22.2,22.3,25.1,15.0,19.9,23.8,18.8,17.0,7.9,24.0,31.4,17.6,27.4,28.1,17.9,18.3,17.3,21.6,17.8,22.4,19.2,22.8,21.4,19.1,22.4,29.4,13.6,15.0,28.8,18.2,25.8,15.1,23.6,12.2,10.1,15.4,27.0,17.2,11.6,20.8,18.8,20.4,18.1,20.9,31.1,19.0,18.5,17.9,23.1,32.0,21.7,23.4,17.1,19.0,18.1,19.3,18.8,25.8,19.8,22.1,15.8,15.9,21.3,18.4,17.8,23.1,22.2,15.3,20.0,20.8,30.2,24.0,12.6,9.2,21.7,19.8,16.6,16.5,18.0,21.1,10.0,23.5,26.9,23.7,16.8,12.7,29.8,17.9,18.6,19.9,23.6,26.4,18.2,18.1,19.2,15.3,19.4,20.2,33.2,26.2,26.9,15.3,18.9,18.3,27.6,29.0,22.5,30.2,22.8,13.8,21.4,27.3,25.1,26.7,7.9,27.3,21.9,15.6,18.1,19.9,23.0,22.9,15.0,16.5,18.9,24.8,4.9,16.7,20.2,7.9,19.3,16.1,22.5,27.4,29.6,18.7,21.9,9.9,24.6,10.1,21.5,20.6,11.4,14.0,18.4,6.5,12.8,25.5,19.5,14.6,20.5,18.9,14.8,21.7,17.3,33.1,23.1,25.1,30.2,17.0,13.2,29.2,14.8,13.5,22.3,9.0,19.2,19.1,20.4,14.2,20.6,19.3,27.6,21.4,15.5,23.4,13.2,12.1,23.2,33.8,17.5,19.1,23.2,12.6,24.6,14.6,19.5,20.1,13.4,12.4,14.6,16.8,27.5,19.5,11.5,15.4,24.0,21.1,21.8,29.1,18.9,21.3,18.9,20.1,13.7,19.7,17.0,34.0,24.0,16.9,19.3,19.9,19.4,19.3,21.5,20.8,20.1,27.1,23.5,22.9,19.4,14.8,28.6,23.2,8.7,30.1,19.1,15.1,22.3,17.4,23.8,18.1,20.4,23.1,22.4,13.7,25.5,25.9,21.3,21.6,21.4,29.7,18.1,10.3,23.6,21.0,13.1,10.6,20.8,21.7,19.4,21.4,25.1,16.6,11.1,13.8,21.1,22.0,20.8,19.1,24.4,15.2,25.1,19.2,10.5,21.8,17.5,19.6,8.2,22.1,21.8,13.6,15.1,28.4,22.0,28.6,25.3,29.3,19.1,20.8,10.8,23.6,13.5,23.2,16.9,22.9,21.3,21.8,31.3,21.1,17.1,25.5,26.1,19.2,19.9,26.4,34.9,17.4,24.2,17.5,21.7,11.3,4.9,21.3,17.2,15.6,22.4,28.2,22.3,21.3,20.5,18.4,17.5,9.7,21.4,12.8,20.0,20.7,16.1,26.2,20.9,19.2,23.6,22.4,31.7,22.5,20.3,13.8,23.3,17.4,3.0,16.6,17.1,27.8,17.4,13.7,14.1,26.4,23.9,21.2,27.4,9.9,18.7,17.0,21.1,22.9,8.7,19.1,25.1,21.0,22.3,21.5,19.6,17.6,22.7,14.7,11.5,28.6,19.9,13.5,27.3,19.6,18.7,14.0,11.6,15.0,26.5,21.7,22.1,5.7,18.3,23.4,19.5,15.8,18.6,19.3,27.0,21.7,21.9,20.7,13.5,29.7,22.3,24.0,31.1,23.9,15.7,19.6])\n",
    "\n",
    "print(f\"Mean - {weights.mean()}\\nMedian - {np.median(weights)}\\nMode - {stats.mode(weights).mode}\")\n",
    "print(f\"Stdev - {np.std(weights).round(2)}\\nSkewness - {stats.skew(weights).round(2)}\\nkurtosis - {stats.kurtosis(weights).round(2)}\")\n",
    "sns.histplot(weights, kde = True)\n",
    "plt.axvline(np.mean(weights), color = \"red\", label = \"Mean\")\n",
    "plt.axvline(np.median(weights), color = \"green\", label = \"Median\")"
   ]
  },
  {
   "cell_type": "markdown",
   "id": "7933ea27-ff4d-45b5-874e-26d8426c70fd",
   "metadata": {},
   "source": [
    "### Example 2 -\n",
    "- Find Mean, Median, Mode, Range, Standard Deviation, Skewness, Kurtosis, Frequency Distribution - Histogram"
   ]
  },
  {
   "cell_type": "markdown",
   "id": "770a7b0e-5102-4977-a5db-2e82909fb794",
   "metadata": {},
   "source": [
    "##### Right Skewed - \n",
    "mean > median > mode"
   ]
  },
  {
   "cell_type": "code",
   "execution_count": null,
   "id": "eba85ad4-0e2a-4081-a13f-a8995eee5fc4",
   "metadata": {},
   "outputs": [],
   "source": [
    "# dataset consists of Salaries of employees in an organisation\n",
    "salaries = np.array([29756,20014,20347,57214,41327,40209,93390,122004,17725,47210,44386,48407,16837,83731,9130,66723,72525,57347,10941,18726,8913,59251,13090,37983,134656,45499,59533,82998,31440,11672,16295,30676,21822,35263,27340,65522,23380,11662,7066,22403,41230,46693,22478,82491,7347,16263,72672,20522,38409,30175,31383,98820,13605,45096,12397,90988,6602,29786,102559,31790,29768,50085,22649,24426,4059,95210,68657,17799,37370,46160,35133,40969,57201,54757,17973,13610,46004,91341,24474,48005,9473,10277,71287,9383,36492,104352,13473,51293,51911,10026,39992,125885,44462,76531,41512,47267,33231,14180,44474,55702,39554,8359,51892,98574,43638,90568,40508,34129,98497,74784,63383,47197,83519,26458,38642,9629,18404,47324,15793,120345,61126,64613,57964,47582,77944,27082,51891,98126,69008,23284,49785,72406,56418,36769,58715,42999,47333,45733,141091,3848,57584,48356,95301,95269,49894,101380,44028,54577,71055,32066,26596,66653,3179,44484,62889,62952,50903,74656,50733,38180,59410,105003,73854,33579,150293,26348,6769,26315,53038,35766,50517,64714,27523,26867,46607,9882,60052,46653,42143,37371,14475,103629,55402,6149,65128,32861,27603,75553,35641,21457,106916,50369,37731,6473,73858,7716,21144,34340,27917,18150,49270,16344,84532,28616,18452,84678,17990,26463,13671,70005,26237,7245,16941,64383,3317,7275,26981,12600,36983,40054,7283,82140,65120,8259,44235,30682,68578,80737,14009,88942,48374,43148,11447,32203,67168,50149,8607,9680,35442,47306,67316,52503,89884,18337,11798,40659,90852,25479,4737,107231,40006,34020,61695,12128,14126,71024,42150,54591,93625,23809,9698,50910,75967,36494,53497,28006,16650,50352,42133,10915,50698,19962,30772,23430,75790,72083,162101,75728,60565,40074,58299,18280,128972,76801,38314,12744,25607,22188,31862,15955,31175,11044,44390,49677,33251,85617,81684,48054,63108,33461,39505,51449,47547,49199,152777,49820,23147,35010,44921,39633,16546,35436,32229,28603,31804,21668,102866,58514,140647,22149,26732,88552,77813,75665,38038,123394,9457,28241,52657,9075,148287,70362,27398,18672,19003,17600,114609,4318,19729,23148,32015,87090,5342,56550,38458,5400,50686,46353,14777,19302,16606,21645,37117,22488,5465,28650,57321,34736,43956,37151,9776,37461,17631,98557,18773,15927,62892,35395,23658,27429,22496,60550,36644,38050,79320,7934,30101,71573,14389,4701,31291,11384,39725,123530,44408,58972,95799,10389,46232,3432,40560,35984,4665,169950,111402,18065,21540,70358,51973,26344,101435,5668,28783,6701,64979,30591,53626,89555,54550,47720,72312,32532,81224,32367,12856,45452,23288,68436,11028,48698,59988,25334,12898,76129,76496,66076,28330,66192,34221,24405,81851,52335,38502,25430,29421,7258,23734,12534,60625,23697,17543,35830,5033,17253,27189,48127,91649,58796,46586,42569,40202,70022,3922,41658,66536,67928,13621,71191,63947,89954,7543,20366,73226,55216,63823,20147,28646,62441,10910,21883,40687,5770,12349,59303,82027,45440,12710,126532,87569,69111,27004,13098,37670,125784,37616,46404,36971,20823,44255,53184,53752,9362,16464,13631,24283,57198,27205,60289,35590,21193,59034,71649,40198,22347,37446,30613,39731,23986,65414,6705,23140,42971,9792,23886,16397,17598,42024,32014,78351,31432,3978,34883,19845,10204,56595,25611,58573,31771,60213,24678,85938,22206,27750,43462,24977,22131,65617,70257,71995,75183,106608,54436,44381,61439,41163,81099,34095,36953,14703,23992,105384,20334,34145,48786,72804,71943,32757,77178,6381,77041,85234,31634,62231,7004,66194,23721,18122,82066,43339,13417,28110,26647,11703,160005,55765,78251,35519,22708,66840,6126,37952,31632,55294,13842,57847,43009,57445,41641,13437,41892,8126,55609,71439,65768,3032,12225,16758,12150,110890,58822,80581,12690,69074,49169,118185,9745,24482,35611,21100,13245,25269,26177,60738,119320,13615,120677,36560,14048,16249,73591,11789,42419,8691,44373,5698,38758,39244,36214,7654,26381,42371,42425,5167,38173,28250,11362,41671,38101,22759,29654,16846,42528,32035,51949,34841,65641,94153,55081,42157,53629,5482,6064,33333,53055,38653,54655,25486,28830,18681,38431,89032,38939,44533,44382,7073,93080,39698,68653,14900,4180,26923,27360,30629,33018,23166,4915,50098,31775,14625,48831,53413,50677,16354,24128,49869,23038,53312,43846,11263,19507,11322,86895,60729,144564,33429,36964,4437,48013,39779,71605,45697,20501,3059,39338,3228,22719,37974,72431,8486,24363,19558,64046,35799,20259,79873,13544,36404,55886,13904,42955,43750,17743,107390,86058,40137,65042,29084,8999,6357,29914,45867,75705,19543,64725,60567,58452,5015,50256,60877,91907,42209,13678,7797,23545,65227,86909,18614,12483,34314,52497,28754,112096,30756,16519,18075,9958,14076,16114,5200,40241,14275,53117,50561,27253,3998,85851,32716,44901,40698,42272,67106,73621,23828,50619,64147,89432,67240,119266,15347,50315,39374,27347,21786,7037,33320,9277,14225,25474,50546,61235,64796,38341,46464,38388,53785,8315,29782,35079,5943,9616,73662,52409,28236,40773,84419,49739,8678,46548,16583,15864,5920,42891,6635,91882,54534,32013,105413,11681,18153,98213,60754,53642,40221,43931,60076,9481,17046,26098,22609,21386,2797,11266,59378,57464,46271,10182,53724,89160,33549,19557,8022,43213,62795,42025,74820,49326,55701,65268,49257,38526,47121,32407,100592,21980,10691,10664,13298,58489,81011,24481,30354,5334,11554,62781,80241,17457,13682,12911,32340,54094,4987,15562,19126,58105,62497,34333,74015,78119,27715,20098,37580,14200,24208,36266,68885,66174,3965,143792,35892,43824,14009,7294,69932,11540,31644,55554,6756,69754,65940,26128,88712,11048,14382,34369,3908,30339,9290,22745,49669,93604,62655,50036,60244,52406,44821,37915,4894,38413,44612,19168,26668,20326,45231,12448,35082,121782,4863,7291,24332,42551,28462,67887,21226,41026,137990,53668,40922,15485,21118,118903,77715,24519,58873,61054,25674,2960,30624,103189,48284,40536,56053,37084,50773,11615,83270,4311,30367,6372,56358,14518,10602,35857,93798,51500,69148,51610,27676,16157,92788,4395,23687,11944,57418,71058,37037,23290,34201,84364,68400,24135,18615,15050,113480,83720,52761,26031,43187,11278,3710,27465,97386,3393,65371,5707,106125,46278,12099,17823,39132,34422])\n",
    "\n",
    "print(f\"Mean - {salaries.mean()}\\nMedian - {np.median(salaries)}\\nMode - {stats.mode(salaries).mode}\")\n",
    "print(f\"Stdev - {np.std(salaries).round(2)}\\nSkewness - {stats.skew(salaries).round(2)}\\nkurtosis - {stats.kurtosis(salaries).round(2)}\")\n",
    "sns.histplot(salaries, kde = True)\n",
    "plt.axvline(np.mean(salaries), color = \"red\", label = \"Mean\")\n",
    "plt.axvline(np.median(salaries), color = \"green\", label = \"Median\")"
   ]
  },
  {
   "cell_type": "markdown",
   "id": "7110e6f5-ab73-4173-8403-e998912860f6",
   "metadata": {},
   "source": [
    "### Example 3 -\n",
    "- Find Mean, Median, Mode, Range, Standard Deviation, Skewness, Kurtosis, Frequency Distribution - Histogram"
   ]
  },
  {
   "cell_type": "markdown",
   "id": "b1f99981-a749-4f6f-b501-9e916d580af7",
   "metadata": {},
   "source": [
    "##### Left Skewed - \n",
    "mean < median < mode"
   ]
  },
  {
   "cell_type": "code",
   "execution_count": null,
   "id": "261ce493-f735-4f3c-8334-709f8a2d1fbf",
   "metadata": {},
   "outputs": [],
   "source": [
    "# dataset consists of life-expectancy data \n",
    "life_expectancy = np.array([52, 61, 58, 75, 74, 77, 58, 74, 54, 65, 67, 75, 74, 70, 36, 65, 35,55, 64, 28, 46, 52, 75, 42, 64, 75, 44, 65, 58, 65, 45, 73, 79, 48,55, 65, 53, 66, 56, 40, 76, 52, 77, 63, 74, 53, 22, 43, 33, 75, 60,58, 44, 69, 73, 36, 74, 72, 65, 56, 67, 68, 56, 67, 62, 59, 68, 53,59, 61, 59, 77, 76, 70, 78, 74, 64, 15, 42, 65, 70, 65, 64, 67, 65,66, 25, 65, 63, 75, 78, 63, 81, 80, 82, 66, 42, 26, 64, 72, 59, 78,69, 73, 79, 65, 60, 39, 64, 44, 77, 74, 42, 13, 73, 64, 65, 75, 78,72, 49, 75, 65, 59, 40, 70, 31, 58, 61, 79, 56, 67, 79, 61, 48, 68,52, 79, 70, 70, 59, 53, 75, 63, 31, 25, 63, 79, 60, 77, 77, 64, 33,52, 64, 40, 59, 80, 36, 64, 61, 54, 73, 21, 67, 45, 77, 78, 56, 32,81, 69, 82, 33, 16, 41, 79, 34, 77, 71, 74, 73, 44, 33, 59, 74, 43,67, 63, 73, 58, 59, 65, 55, 64, 76, 71, 60, 79, 76, 62, 50, 42, 72,60, 77, 44, 72, 54, 58, 56, 40, 61, 25, 47, 66, 74, 79, 62, 69, 22,67, 71, 40, 74, 80, 45, 68, 64, 55, 48, 52, 48, 49, 60, 62, 57, 23,67, 72, 76, 69, 56, 67, 58, 40, 78, 50, 53, 73, 66, 69, 73, 73, 37,60, 65, 60, 60, 68, 50, 33, 68, 24, 79, 52, 78, 30, 58, 81, 72, 79,75, 52, 51, 74, 66, 65, 41, 53, 57, 76, 63, 64, 48, 48, 77, 52, 60,61, 52, 39, 71, 26, 54, 68, 77, 64, 67, 62, 40, 67, 66, 47, 33, 69,74, 76, 62, 69, 54, 67, 33, 71, 56, 41, 79, 37, 64, 37, 70, 49, 60,74, 79, 65, 79, 79, 75, 78, 72, 76, 31, 70, 24, 59, 28, 78, 61, 75,40, 51, 74, 53, 72, 71, 55, 67, 39, 60, 67, 60, 72, 81, 75, 52, 63,66, 38, 57, 58, 71, 40, 72, 70,  6, 81, 41, 79, 46, 28, 48, 50, 65,76, 75, 32, 75, 70, 46, 73, 61, 48, 55, 41, 52, 48, 53, 62, 65, 69,18, 79, 78, 66, 65, 72, 65, 69, 69, 75, 83, 62, 78, 51, 46, 47, 46,82, 76, 64, 54, 72, 62, 47, 59, 63, 72, 55, 63, 78, 68, 73, 82, 61,47, 52, 78, 75, 42, 53, 65, 60, 48, 59, 52, 58, 76, 63, 76, 58, 67,40, 69, 74, 48, 60, 56, 75, 75, 54, 26, 50, 67, 59, 50, 70, 70, 62,38, 42, 63, 39, 72, 63, 42, 79, 69, 53, 59, 72, 75, 65, 37, 71, 39,43, 64, 84, 75, 80, 54, 66, 44, 60, 72, 73, 50, 62, 62, 58, 42, 61,80, 55, 73, 59, 60, 67, 50, 64, 74, 58, 73, 60, 57, 30, 70, 72, 63,54, 77, 56, 53, 73, 49, 75, 49, 47, 71, 77, 19, 77, 72, 63, 49, 67,65, 47, 71, 77, 71, 71, 53, 78, 76, 67, 65, 61, 60, 21, 60, 59, 68,43, 64, 76, 59, 72, 64, 38, 61, 65, 77, 64, 52, 78, 80, 35, 37, 80,58, 62, 71, 23, 67, 39, 67, 62, 52, 49, 61, 76, 66, 59, 42, 68, 75,60, 52, 73, 60, 70, 62, 74, 74, 61, 51, 23,  2, 39, 69, 52, 40, 46,72, 82, 77, 71, 82, 75, 77, 37, 52, 53, 70, 69, 65, 29, 54, 55, 55,75, 62, 46, 66, 77, 75, 73, 77, 71, 72, 77, 55, 51, 58, 66, 58, 80,75, 47, 78, 59, 66, 30, 76, 63, 57, 29, 53, 78, 71, 48, 58, 45, 59,63, 46, 68, 73, 69, 42, 63, 76, 59, 61, 65, 55, 70, 68, 38, 21, 64,71, 74, 77, 61, 67, 73, 78, 49, 31, 46, 64, 72, 33, 68, 76, 82, 59,59, 52, 66, 63, 11, 61, 74, 60, 61, 73, 54, 70, 45, 42, 58, 73, 36,82, 75, 51, 79, 58, 59, 68,  0, 78, 52, 61, 65, 73, 46, 81, 63, 27,82, 68, 80, 61, 79, 69, 42, 66, 52, 45, 62, 27, 76, 62, 64, 67, 43,51, 71, 77, 43, 24, 53, 52, 36, 52, 76, 69, 65, 73, 62, 68, 70, 75,70, 48, 58, 56, 66, 55, 62, 77, 62, 65, 51, 70, 60, 76, 74, 65, 72,62, 72, 42, 41, 43, 77, 68, 76, 76, 72, 56, 80, 77, 66, 57,  5, 72,67, 78, 81, 77, 66, 35, 54, 37, 42, 71, 78, 66, 68, 33, 25, 54,  8,72, 63, 38, 45, 67, 56, 64, 36, 54, 70, 71, 64, 72, 57, 59, 66, 51,77, 72, 36, 71, 70, 80, 39, 72, 74, 50, 58, 79, 25, 35, 61, 63, 50,68, 60, 82, 58, 14, 32, 77, 70, 65, 81, 73, 48, 67, 67, 30, 69, 69,59, 67, 74, 46, 53, 64, 75, 67, 54, 75, 61, 67, 19, 30, 62, 70, 76,47, 70, 73, 34, 57, 71, 56, 68, 44, 38, 47, 66, 72, 46, 68, 72, 44,58, 42, 62, 79, 45, 75, 37, 44, 24, 78, 52, 40, 75, 45, 52, 34, 74,82,  6, 78, 70, 36, 42, 75, 58, 20,  4, 53, 57, 69, 71, 53, 61, 26,67, 60, 76, 44, 68, 78, 80, 76, 55, 66, 67, 69, 71, 58, 69, 42, 53,35, 74, 56, 59, 41, 71, 64, 49, 68, 58, 69, 52, 75, 47, 77, 63, 53,42, 44, 72, 60, 59, 55, 57, 35, 78, 66, 73, 61, 47, 74, 75, 71, 45,43, 60, 53, 54, 79, 69, 46, 57, 64, 58, 36, 51, 77, 64, 72, 64, 44,54, 69, 59, 54, 58, 59, 68, 58, 75, 73, 62, 78, 51, 60])\n",
    "\n",
    "print(f\"Mean - {life_expectancy.mean()}\\nMedian - {np.median(life_expectancy)}\\nMode - {stats.mode(life_expectancy).mode}\")\n",
    "print(f\"Stdev - {np.std(life_expectancy).round(2)}\\nSkewness - {stats.skew(life_expectancy).round(2)}\\nkurtosis - {stats.kurtosis(life_expectancy).round(2)}\")\n",
    "sns.histplot(life_expectancy, kde = True)\n",
    "plt.axvline(np.mean(life_expectancy), color = \"red\", label = \"Mean\")\n",
    "plt.axvline(np.median(life_expectancy), color = \"green\", label = \"Median\")"
   ]
  },
  {
   "cell_type": "code",
   "execution_count": null,
   "id": "82b65b51-749e-432e-9597-5308f349825e",
   "metadata": {},
   "outputs": [],
   "source": [
    "age = np.array([14, 14, 16, 18, 25, 30, 35, 38, 39, 43, 72])\n",
    "age.mean()"
   ]
  },
  {
   "cell_type": "code",
   "execution_count": null,
   "id": "1cb1e865-ba76-49b2-963b-066dc66dcd72",
   "metadata": {},
   "outputs": [],
   "source": [
    "np.median(age)  # 50% of people are under 30 yrs of age"
   ]
  },
  {
   "cell_type": "markdown",
   "id": "a8f1613a-b309-4e3f-a5e0-40f7809ebdfd",
   "metadata": {},
   "source": [
    "#### Empirical Rule\n",
    "\n",
    "- 68% of probability of getting value under 1 zscore\n",
    "- 95% of probability of getting value under 2 zscore\n",
    "- 99.7% of probability of getting value under 3 zscore\n",
    "\n",
    "datapoints beyond 3 zscore are outliers"
   ]
  },
  {
   "cell_type": "code",
   "execution_count": null,
   "id": "824f88f9-0652-44ba-b141-c24489989358",
   "metadata": {},
   "outputs": [],
   "source": [
    "weights = np.array([20.8,15.3,23.2,15.5,17.5,27.3,23.3,20.5,16.4,17.4,22.6,20.8,16.7,29.1,14.2,18.5,17.6,17.1,18.2,26.0,25.6,19.1,17.8,21.6,19.6,28.4,19.4,22.8,25.9,27.1,20.8,21.9,15.4,30.2,23.0,25.0,24.0,17.1,18.8,25.8,23.2,14.9,20.4,15.0,12.3,17.6,10.3,12.1,25.8,21.9,9.9,24.8,17.9,22.0,27.6,21.7,26.3,19.9,16.6,17.8,8.0,21.5,17.9,33.6,20.4,21.9,19.8,15.3,25.6,24.7,10.6,22.1,18.8,9.8,14.9,18.7,27.6,21.2,25.1,21.9,22.1,19.6,10.4,17.2,18.3,21.2,21.1,21.0,19.1,14.8,19.2,18.3,22.1,14.1,19.3,16.2,25.6,14.8,22.3,25.0,20.8,21.2,16.6,15.0,15.6,24.7,26.1,18.1,14.1,25.5,21.4,32.7,13.8,27.4,15.8,18.4,21.3,27.5,15.8,27.2,26.9,16.2,22.6,15.3,22.5,26.6,24.7,28.4,28.0,19.9,9.9,16.5,19.5,11.7,27.9,28.1,21.1,20.0,14.5,25.9,13.3,15.8,21.3,10.7,14.6,19.9,21.6,26.6,26.0,23.7,20.5,11.8,15.6,14.9,24.6,20.9,24.5,26.8,25.3,30.9,26.1,14.9,17.9,18.5,25.7,16.4,8.2,24.1,19.5,13.1,17.6,13.4,24.4,16.4,19.9,12.9,14.3,25.4,15.4,17.7,17.3,18.7,16.1,7.4,18.4,16.2,18.7,19.8,25.6,23.7,22.5,20.5,14.9,25.0,4.7,6.8,21.8,22.2,24.4,13.4,32.1,26.6,27.2,17.8,19.6,16.8,14.4,24.9,12.6,15.0,15.4,10.1,12.9,15.9,22.3,15.0,24.4,21.0,17.2,25.2,15.6,24.6,24.9,13.6,10.3,25.6,18.3,25.1,18.1,20.2,29.1,25.7,14.9,11.4,19.2,21.5,13.9,19.5,19.1,23.0,26.8,14.8,24.4,14.7,24.3,24.5,19.9,12.1,21.2,16.4,19.5,25.8,8.5,19.8,23.4,21.3,14.7,17.9,15.7,14.9,5.2,3.8,31.5,17.4,16.0,20.7,18.4,8.1,22.9,32.8,19.0,33.0,26.0,14.2,18.4,15.1,29.5,13.9,5.1,28.1,18.2,10.5,27.8,19.4,13.1,21.9,18.6,11.0,19.7,20.2,20.1,17.6,21.6,21.2,30.0,26.1,20.5,22.8,20.5,19.6,18.0,19.8,21.8,7.0,21.4,22.5,18.9,15.1,22.0,25.5,11.1,15.4,21.5,13.5,11.2,19.3,25.5,20.2,18.3,15.3,40.3,22.1,23.2,17.1,19.4,15.3,28.6,23.0,19.4,16.7,20.9,21.1,15.9,29.6,17.0,19.0,20.8,20.4,9.8,24.0,15.2,26.2,22.0,21.4,16.2,29.2,21.4,28.9,16.9,21.9,11.2,19.0,21.2,20.8,9.3,12.5,26.9,10.7,18.9,17.5,23.3,12.5,13.4,26.3,23.0,21.8,25.6,20.7,18.0,32.5,25.6,8.4,19.8,24.5,18.0,24.7,21.3,12.9,21.6,29.1,25.8,26.4,27.0,25.6,19.0,20.0,10.4,17.5,19.5,17.5,21.1,19.6,23.1,18.2,27.0,18.5,19.3,25.4,20.8,20.8,20.6,20.4,23.1,17.6,18.7,16.2,18.9,15.2,22.5,10.0,21.1,29.3,17.8,27.1,16.8,18.0,28.3,16.5,19.8,16.7,23.2,23.6,18.5,29.8,24.2,22.4,29.3,29.3,21.5,15.5,23.0,12.8,20.8,11.5,20.0,15.2,18.7,17.2,22.5,13.5,13.1,17.6,12.1,23.2,18.0,24.2,7.3,17.0,17.0,22.7,22.1,18.0,15.6,13.9,17.7,14.7,26.1,12.2,20.3,17.8,16.5,10.2,18.2,22.2,26.3,26.6,19.2,19.5,14.3,15.6,13.9,20.2,11.6,31.2,6.3,23.4,21.1,22.0,8.5,11.5,19.3,17.7,11.9,14.8,16.9,16.1,13.0,17.9,22.0,14.2,13.9,25.4,21.1,16.3,16.4,19.3,18.3,23.0,27.4,24.2,14.9,12.7,16.7,17.8,19.5,14.9,23.9,15.2,25.4,22.9,25.2,12.7,26.0,26.7,15.8,24.9,24.4,15.5,20.0,7.8,20.6,19.0,29.8,14.1,14.1,17.8,24.9,20.7,19.8,24.2,16.7,21.3,23.7,20.9,23.6,25.3,9.9,21.7,16.7,10.3,18.9,25.2,12.7,27.4,21.4,23.0,11.8,22.1,13.0,20.0,27.2,19.8,16.9,18.8,25.0,9.0,19.0,11.1,19.6,24.0,29.3,20.7,10.7,26.9,18.6,21.5,26.2,21.5,27.9,22.1,25.1,27.9,18.9,26.4,20.0,25.6,27.5,17.7,18.9,27.0,14.9,27.6,19.6,18.1,19.2,20.2,16.4,16.6,14.1,8.9,17.6,17.3,21.0,14.3,18.7,19.9,12.3,24.4,23.3,25.1,27.9,15.1,18.3,23.2,17.8,15.5,22.0,23.0,20.4,15.5,22.8,19.5,22.2,22.3,25.1,15.0,19.9,23.8,18.8,17.0,7.9,24.0,31.4,17.6,27.4,28.1,17.9,18.3,17.3,21.6,17.8,22.4,19.2,22.8,21.4,19.1,22.4,29.4,13.6,15.0,28.8,18.2,25.8,15.1,23.6,12.2,10.1,15.4,27.0,17.2,11.6,20.8,18.8,20.4,18.1,20.9,31.1,19.0,18.5,17.9,23.1,32.0,21.7,23.4,17.1,19.0,18.1,19.3,18.8,25.8,19.8,22.1,15.8,15.9,21.3,18.4,17.8,23.1,22.2,15.3,20.0,20.8,30.2,24.0,12.6,9.2,21.7,19.8,16.6,16.5,18.0,21.1,10.0,23.5,26.9,23.7,16.8,12.7,29.8,17.9,18.6,19.9,23.6,26.4,18.2,18.1,19.2,15.3,19.4,20.2,33.2,26.2,26.9,15.3,18.9,18.3,27.6,29.0,22.5,30.2,22.8,13.8,21.4,27.3,25.1,26.7,7.9,27.3,21.9,15.6,18.1,19.9,23.0,22.9,15.0,16.5,18.9,24.8,4.9,16.7,20.2,7.9,19.3,16.1,22.5,27.4,29.6,18.7,21.9,9.9,24.6,10.1,21.5,20.6,11.4,14.0,18.4,6.5,12.8,25.5,19.5,14.6,20.5,18.9,14.8,21.7,17.3,33.1,23.1,25.1,30.2,17.0,13.2,29.2,14.8,13.5,22.3,9.0,19.2,19.1,20.4,14.2,20.6,19.3,27.6,21.4,15.5,23.4,13.2,12.1,23.2,33.8,17.5,19.1,23.2,12.6,24.6,14.6,19.5,20.1,13.4,12.4,14.6,16.8,27.5,19.5,11.5,15.4,24.0,21.1,21.8,29.1,18.9,21.3,18.9,20.1,13.7,19.7,17.0,34.0,24.0,16.9,19.3,19.9,19.4,19.3,21.5,20.8,20.1,27.1,23.5,22.9,19.4,14.8,28.6,23.2,8.7,30.1,19.1,15.1,22.3,17.4,23.8,18.1,20.4,23.1,22.4,13.7,25.5,25.9,21.3,21.6,21.4,29.7,18.1,10.3,23.6,21.0,13.1,10.6,20.8,21.7,19.4,21.4,25.1,16.6,11.1,13.8,21.1,22.0,20.8,19.1,24.4,15.2,25.1,19.2,10.5,21.8,17.5,19.6,8.2,22.1,21.8,13.6,15.1,28.4,22.0,28.6,25.3,29.3,19.1,20.8,10.8,23.6,13.5,23.2,16.9,22.9,21.3,21.8,31.3,21.1,17.1,25.5,26.1,19.2,19.9,26.4,34.9,17.4,24.2,17.5,21.7,11.3,4.9,21.3,17.2,15.6,22.4,28.2,22.3,21.3,20.5,18.4,17.5,9.7,21.4,12.8,20.0,20.7,16.1,26.2,20.9,19.2,23.6,22.4,31.7,22.5,20.3,13.8,23.3,17.4,3.0,16.6,17.1,27.8,17.4,13.7,14.1,26.4,23.9,21.2,27.4,9.9,18.7,17.0,21.1,22.9,8.7,19.1,25.1,21.0,22.3,21.5,19.6,17.6,22.7,14.7,11.5,28.6,19.9,13.5,27.3,19.6,18.7,14.0,11.6,15.0,26.5,21.7,22.1,5.7,18.3,23.4,19.5,15.8,18.6,19.3,27.0,21.7,21.9,20.7,13.5,29.7,22.3,24.0,31.1,23.9,15.7,19.6])\n",
    "\n",
    "sns.histplot(weights, kde = True)"
   ]
  },
  {
   "cell_type": "code",
   "execution_count": null,
   "id": "b2d6ad8b-80c1-4b8e-853f-1809bdace298",
   "metadata": {},
   "outputs": [],
   "source": [
    "np.std(weights)"
   ]
  },
  {
   "cell_type": "code",
   "execution_count": null,
   "id": "ebef35d6-71ba-45b3-b78f-bafa86e57660",
   "metadata": {},
   "outputs": [],
   "source": [
    "age = 12.3\n",
    "std = 5.4\n",
    "mean = 19.8\n",
    "zscore = (age - mean) / std\n",
    "zscore"
   ]
  },
  {
   "cell_type": "code",
   "execution_count": null,
   "id": "ea5c8941-1a9d-4e6e-a31a-4e7745b1151e",
   "metadata": {},
   "outputs": [],
   "source": [
    "zscores = stats.zscore(weights)\n",
    "sns.histplot(zscores, kde = True)"
   ]
  },
  {
   "cell_type": "markdown",
   "id": "6c5d2a06-98bc-40c2-9dd5-401186e95974",
   "metadata": {},
   "source": [
    "68% propbability of weight within 25.2kg and 14.4kg"
   ]
  },
  {
   "cell_type": "code",
   "execution_count": null,
   "id": "2c801bdc-27dd-4359-ad89-bd4fe17432cc",
   "metadata": {},
   "outputs": [],
   "source": [
    "data = pd.read_csv(\"profits.csv\")\n",
    "data.head()"
   ]
  },
  {
   "cell_type": "code",
   "execution_count": null,
   "id": "22ffcc4d-59e3-461b-86f0-f8206f00e379",
   "metadata": {},
   "outputs": [],
   "source": [
    "data.Profit.mean()"
   ]
  },
  {
   "cell_type": "code",
   "execution_count": null,
   "id": "0bd3bc68-1072-4892-a288-de14618ecf3d",
   "metadata": {},
   "outputs": [],
   "source": [
    "data.Profit.std()"
   ]
  },
  {
   "cell_type": "code",
   "execution_count": null,
   "id": "390f97a0-577d-4637-95f5-2a8368492a4e",
   "metadata": {},
   "outputs": [],
   "source": [
    "sns.histplot(data.Profit, kde = True)"
   ]
  },
  {
   "cell_type": "code",
   "execution_count": null,
   "id": "1dbb0e1f-0c66-4c70-bd31-d82b91520e35",
   "metadata": {},
   "outputs": [],
   "source": [
    "stats.skew(data.Profit)"
   ]
  },
  {
   "cell_type": "code",
   "execution_count": null,
   "id": "a709ac2f-3c4a-489b-9b9f-4025ac72df36",
   "metadata": {},
   "outputs": [],
   "source": [
    "stats.kurtosis(data.Profit)"
   ]
  },
  {
   "cell_type": "code",
   "execution_count": null,
   "id": "dd4f2729-db20-4923-a0b5-560843fe04f3",
   "metadata": {},
   "outputs": [],
   "source": [
    "age = np.array([10, 2, 3, 4, 5, 6, 7, 8])\n",
    "stats.mode(age)"
   ]
  },
  {
   "cell_type": "code",
   "execution_count": null,
   "id": "56666543-01c9-4d45-bdfd-d8456b0a9eab",
   "metadata": {},
   "outputs": [],
   "source": []
  },
  {
   "cell_type": "markdown",
   "id": "db404fcb-b51f-4b6c-b0e8-3f58fd41b5f1",
   "metadata": {},
   "source": [
    "<hr><hr>"
   ]
  },
  {
   "cell_type": "markdown",
   "id": "5d249eb7-ceeb-4d1d-ac43-b99f465a3a50",
   "metadata": {},
   "source": [
    "## Explolatory Data Analysis"
   ]
  },
  {
   "cell_type": "markdown",
   "id": "5ff5b3fc-426c-4c43-b8f6-23e50785bc17",
   "metadata": {},
   "source": [
    "### Handling Null/Missing Values\n",
    "\n",
    "- Deletion:\n",
    "    - Listwise Deletion: Remove entire rows containing null values.\n",
    "    - Pairwise Deletion: Analyze data based on available pairs of variables, ignoring rows with null values in other variables.\n",
    "- Imputation:\n",
    "    - Mean/Median/Mode Imputation: Replace null values with the mean, median, or mode of the respective column.\n",
    "    - Forward Fill/Backward Fill: Fill null values with the preceding or succeeding non-null value in the same column.\n",
    "    - Linear Interpolation: Interpolate null values using linear interpolation based on neighboring data points.\n",
    "    - K-Nearest Neighbors (KNN) Imputation: Use the values of nearest neighbors to impute null values.\n",
    "    - Random Imputation: Replace null values with random values from the same column's distribution.\n",
    "- Bucketing: Group data into buckets or categories and treat null values as a separate category."
   ]
  },
  {
   "cell_type": "code",
   "execution_count": null,
   "id": "2bdfd2c7-365b-4d73-af8d-c4906d16db07",
   "metadata": {},
   "outputs": [],
   "source": [
    "ages = pd.DataFrame({'Age' : [49, 45, 40, 29, 57, np.nan, 49, 26, 32, np.nan, 27, 20, np.nan, 40, 37, 32, 39, 43]})"
   ]
  },
  {
   "cell_type": "markdown",
   "id": "1c767843-082c-40f1-a3a0-aea47946cca4",
   "metadata": {},
   "source": [
    "###### Ex. Check if there is any null value in the data"
   ]
  },
  {
   "cell_type": "code",
   "execution_count": null,
   "id": "6c33510c-22c9-495d-92f6-d38323496fbc",
   "metadata": {},
   "outputs": [],
   "source": [
    "ages.isna().any()"
   ]
  },
  {
   "cell_type": "code",
   "execution_count": null,
   "id": "684acc9a-71f4-441c-815c-e80feb6e59d1",
   "metadata": {},
   "outputs": [],
   "source": [
    "ages.isna().sum()"
   ]
  },
  {
   "cell_type": "markdown",
   "id": "d6d977dd-15fc-4b78-8371-e2e7563c8c89",
   "metadata": {},
   "source": [
    "#### Mean Impute"
   ]
  },
  {
   "cell_type": "code",
   "execution_count": null,
   "id": "518a14b2-6a3b-4dd4-8940-bc06b70d4887",
   "metadata": {},
   "outputs": [],
   "source": [
    "ages.fillna(ages.mean())  # Mean Impute"
   ]
  },
  {
   "cell_type": "code",
   "execution_count": null,
   "id": "4fa2961f-dd76-4861-b9a0-df01f61cb54e",
   "metadata": {},
   "outputs": [],
   "source": [
    "from sklearn.impute import SimpleImputer\n",
    "\n",
    "imputer = SimpleImputer(strategy=\"most_frequent\")\n",
    "imputer.fit_transform(ages)"
   ]
  },
  {
   "cell_type": "markdown",
   "id": "2f123c29-5f4a-4626-8397-514b98fbc069",
   "metadata": {},
   "source": [
    "#### Drop Nulls"
   ]
  },
  {
   "cell_type": "code",
   "execution_count": null,
   "id": "442bb128-bb5d-4128-8cdd-82fe3a2a4486",
   "metadata": {},
   "outputs": [],
   "source": [
    "data = pd.DataFrame({'Age' : [49, 45, 40, 29, 57, np.nan, 49, 26, 32, np.nan, 27, 20, np.nan, 40, 37, 32, 39, 43, 30, np.nan],\n",
    "                    \"Name\" : ['Claire', 'Darrin', 'Sean', 'Brosina', 'Andrew', 'Irene', 'Harold','Pete', 'Alejandro', 'Zuschuss', 'Ken', 'Sandra', 'Emily', 'Eric','Tracy', 'Matt', 'Gene', 'Steve', 'Linda', np.nan]})"
   ]
  },
  {
   "cell_type": "code",
   "execution_count": null,
   "id": "c516064b-573b-4e8e-9177-60f3e9989aac",
   "metadata": {},
   "outputs": [],
   "source": [
    "data.isna().sum()"
   ]
  },
  {
   "cell_type": "code",
   "execution_count": null,
   "id": "945b5826-11b5-4815-97bd-f73afb57e1c6",
   "metadata": {},
   "outputs": [],
   "source": [
    "data.dropna()  # Removes row where even 1 column is null"
   ]
  },
  {
   "cell_type": "code",
   "execution_count": null,
   "id": "f2a979bc-dd42-48f4-a270-200486a13785",
   "metadata": {},
   "outputs": [],
   "source": [
    "data.dropna(how = \"all\")  # Removes row where all columns are null"
   ]
  },
  {
   "cell_type": "markdown",
   "id": "e1ac4c20-5dd5-4a0c-a1ad-dec0bbc5edf1",
   "metadata": {},
   "source": [
    "#### Example from coffee sales file to handle nulls"
   ]
  },
  {
   "cell_type": "code",
   "execution_count": 183,
   "id": "2993aed8-9d81-4784-8cda-26a63da087e8",
   "metadata": {},
   "outputs": [
    {
     "data": {
      "text/html": [
       "<div>\n",
       "<style scoped>\n",
       "    .dataframe tbody tr th:only-of-type {\n",
       "        vertical-align: middle;\n",
       "    }\n",
       "\n",
       "    .dataframe tbody tr th {\n",
       "        vertical-align: top;\n",
       "    }\n",
       "\n",
       "    .dataframe thead th {\n",
       "        text-align: right;\n",
       "    }\n",
       "</style>\n",
       "<table border=\"1\" class=\"dataframe\">\n",
       "  <thead>\n",
       "    <tr style=\"text-align: right;\">\n",
       "      <th></th>\n",
       "      <th>Unnamed: 0</th>\n",
       "      <th>Date</th>\n",
       "      <th>Franchise</th>\n",
       "      <th>City</th>\n",
       "      <th>Product</th>\n",
       "      <th>Sales</th>\n",
       "      <th>Profit</th>\n",
       "      <th>Target Profit</th>\n",
       "      <th>Target Sales</th>\n",
       "    </tr>\n",
       "  </thead>\n",
       "  <tbody>\n",
       "    <tr>\n",
       "      <th>0</th>\n",
       "      <td>NaN</td>\n",
       "      <td>1-Jan-21</td>\n",
       "      <td>M1</td>\n",
       "      <td>Mumbai</td>\n",
       "      <td>Amaretto</td>\n",
       "      <td>$219.00</td>\n",
       "      <td>$94.00</td>\n",
       "      <td>$100.00</td>\n",
       "      <td>$220.00</td>\n",
       "    </tr>\n",
       "    <tr>\n",
       "      <th>1</th>\n",
       "      <td>NaN</td>\n",
       "      <td>1-Feb-21</td>\n",
       "      <td>M1</td>\n",
       "      <td>Mumbai</td>\n",
       "      <td>Amaretto</td>\n",
       "      <td>$140.00</td>\n",
       "      <td>$34.00</td>\n",
       "      <td>$50.00</td>\n",
       "      <td>$140.00</td>\n",
       "    </tr>\n",
       "    <tr>\n",
       "      <th>2</th>\n",
       "      <td>NaN</td>\n",
       "      <td>1-Mar-21</td>\n",
       "      <td>M1</td>\n",
       "      <td>Mumbai</td>\n",
       "      <td>Amaretto</td>\n",
       "      <td>$145.00</td>\n",
       "      <td>-$2.00</td>\n",
       "      <td>$30.00</td>\n",
       "      <td>$180.00</td>\n",
       "    </tr>\n",
       "    <tr>\n",
       "      <th>3</th>\n",
       "      <td>NaN</td>\n",
       "      <td>1-Apr-21</td>\n",
       "      <td>M1</td>\n",
       "      <td>Mumbai</td>\n",
       "      <td>Amaretto</td>\n",
       "      <td>$45.00</td>\n",
       "      <td>$11.00</td>\n",
       "      <td>$20.00</td>\n",
       "      <td>$40.00</td>\n",
       "    </tr>\n",
       "    <tr>\n",
       "      <th>4</th>\n",
       "      <td>NaN</td>\n",
       "      <td>1-May-21</td>\n",
       "      <td>M1</td>\n",
       "      <td>Mumbai</td>\n",
       "      <td>Amaretto</td>\n",
       "      <td>$120.00</td>\n",
       "      <td>$13.00</td>\n",
       "      <td>$30.00</td>\n",
       "      <td>$120.00</td>\n",
       "    </tr>\n",
       "  </tbody>\n",
       "</table>\n",
       "</div>"
      ],
      "text/plain": [
       "   Unnamed: 0      Date Franchise    City   Product    Sales  Profit  \\\n",
       "0         NaN  1-Jan-21        M1  Mumbai  Amaretto  $219.00  $94.00   \n",
       "1         NaN  1-Feb-21        M1  Mumbai  Amaretto  $140.00  $34.00   \n",
       "2         NaN  1-Mar-21        M1  Mumbai  Amaretto  $145.00  -$2.00   \n",
       "3         NaN  1-Apr-21        M1  Mumbai  Amaretto   $45.00  $11.00   \n",
       "4         NaN  1-May-21        M1  Mumbai  Amaretto  $120.00  $13.00   \n",
       "\n",
       "  Target Profit Target Sales  \n",
       "0       $100.00      $220.00  \n",
       "1        $50.00      $140.00  \n",
       "2        $30.00      $180.00  \n",
       "3        $20.00       $40.00  \n",
       "4        $30.00      $120.00  "
      ]
     },
     "execution_count": 183,
     "metadata": {},
     "output_type": "execute_result"
    }
   ],
   "source": [
    "# Read the data from the file\n",
    "df = pd.read_csv(\"coffee_sales.csv\", header=3)\n",
    "df.head()"
   ]
  },
  {
   "cell_type": "code",
   "execution_count": 184,
   "id": "3b6dab88-f054-491e-9f99-d28017cff712",
   "metadata": {},
   "outputs": [
    {
     "data": {
      "text/plain": [
       "Unnamed: 0       4248\n",
       "Date                0\n",
       "Franchise           0\n",
       "City                0\n",
       "Product             0\n",
       "Sales               0\n",
       "Profit              0\n",
       "Target Profit     188\n",
       "Target Sales        0\n",
       "dtype: int64"
      ]
     },
     "execution_count": 184,
     "metadata": {},
     "output_type": "execute_result"
    }
   ],
   "source": [
    "df.isna().sum()"
   ]
  },
  {
   "cell_type": "code",
   "execution_count": 185,
   "id": "b890c00b-45f5-4278-9820-c4045acf93e7",
   "metadata": {},
   "outputs": [],
   "source": [
    "df.dropna(how = \"all\", inplace=True)  # drops entire null rows"
   ]
  },
  {
   "cell_type": "code",
   "execution_count": 187,
   "id": "816d520e-5934-4614-8277-19614348353f",
   "metadata": {},
   "outputs": [
    {
     "data": {
      "text/html": [
       "<div>\n",
       "<style scoped>\n",
       "    .dataframe tbody tr th:only-of-type {\n",
       "        vertical-align: middle;\n",
       "    }\n",
       "\n",
       "    .dataframe tbody tr th {\n",
       "        vertical-align: top;\n",
       "    }\n",
       "\n",
       "    .dataframe thead th {\n",
       "        text-align: right;\n",
       "    }\n",
       "</style>\n",
       "<table border=\"1\" class=\"dataframe\">\n",
       "  <thead>\n",
       "    <tr style=\"text-align: right;\">\n",
       "      <th></th>\n",
       "      <th>Date</th>\n",
       "      <th>Franchise</th>\n",
       "      <th>City</th>\n",
       "      <th>Product</th>\n",
       "      <th>Sales</th>\n",
       "      <th>Profit</th>\n",
       "      <th>Target Profit</th>\n",
       "      <th>Target Sales</th>\n",
       "    </tr>\n",
       "  </thead>\n",
       "  <tbody>\n",
       "    <tr>\n",
       "      <th>0</th>\n",
       "      <td>1-Jan-21</td>\n",
       "      <td>M1</td>\n",
       "      <td>Mumbai</td>\n",
       "      <td>Amaretto</td>\n",
       "      <td>$219.00</td>\n",
       "      <td>$94.00</td>\n",
       "      <td>$100.00</td>\n",
       "      <td>$220.00</td>\n",
       "    </tr>\n",
       "    <tr>\n",
       "      <th>1</th>\n",
       "      <td>1-Feb-21</td>\n",
       "      <td>M1</td>\n",
       "      <td>Mumbai</td>\n",
       "      <td>Amaretto</td>\n",
       "      <td>$140.00</td>\n",
       "      <td>$34.00</td>\n",
       "      <td>$50.00</td>\n",
       "      <td>$140.00</td>\n",
       "    </tr>\n",
       "    <tr>\n",
       "      <th>2</th>\n",
       "      <td>1-Mar-21</td>\n",
       "      <td>M1</td>\n",
       "      <td>Mumbai</td>\n",
       "      <td>Amaretto</td>\n",
       "      <td>$145.00</td>\n",
       "      <td>-$2.00</td>\n",
       "      <td>$30.00</td>\n",
       "      <td>$180.00</td>\n",
       "    </tr>\n",
       "    <tr>\n",
       "      <th>3</th>\n",
       "      <td>1-Apr-21</td>\n",
       "      <td>M1</td>\n",
       "      <td>Mumbai</td>\n",
       "      <td>Amaretto</td>\n",
       "      <td>$45.00</td>\n",
       "      <td>$11.00</td>\n",
       "      <td>$20.00</td>\n",
       "      <td>$40.00</td>\n",
       "    </tr>\n",
       "    <tr>\n",
       "      <th>4</th>\n",
       "      <td>1-May-21</td>\n",
       "      <td>M1</td>\n",
       "      <td>Mumbai</td>\n",
       "      <td>Amaretto</td>\n",
       "      <td>$120.00</td>\n",
       "      <td>$13.00</td>\n",
       "      <td>$30.00</td>\n",
       "      <td>$120.00</td>\n",
       "    </tr>\n",
       "  </tbody>\n",
       "</table>\n",
       "</div>"
      ],
      "text/plain": [
       "       Date Franchise    City   Product    Sales  Profit Target Profit  \\\n",
       "0  1-Jan-21        M1  Mumbai  Amaretto  $219.00  $94.00       $100.00   \n",
       "1  1-Feb-21        M1  Mumbai  Amaretto  $140.00  $34.00        $50.00   \n",
       "2  1-Mar-21        M1  Mumbai  Amaretto  $145.00  -$2.00        $30.00   \n",
       "3  1-Apr-21        M1  Mumbai  Amaretto   $45.00  $11.00        $20.00   \n",
       "4  1-May-21        M1  Mumbai  Amaretto  $120.00  $13.00        $30.00   \n",
       "\n",
       "  Target Sales  \n",
       "0      $220.00  \n",
       "1      $140.00  \n",
       "2      $180.00  \n",
       "3       $40.00  \n",
       "4      $120.00  "
      ]
     },
     "execution_count": 187,
     "metadata": {},
     "output_type": "execute_result"
    }
   ],
   "source": [
    "df.dropna(axis=1, how=\"all\", inplace=True)  # drops entire null columns (axis = 1)\n",
    "df.head()"
   ]
  },
  {
   "cell_type": "code",
   "execution_count": 189,
   "id": "c035a03a-961e-420d-b5c5-bccc2aac37b0",
   "metadata": {},
   "outputs": [
    {
     "data": {
      "text/plain": [
       "Date             object\n",
       "Franchise        object\n",
       "City             object\n",
       "Product          object\n",
       "Sales            object\n",
       "Profit           object\n",
       "Target Profit    object\n",
       "Target Sales     object\n",
       "dtype: object"
      ]
     },
     "execution_count": 189,
     "metadata": {},
     "output_type": "execute_result"
    }
   ],
   "source": [
    "df.dtypes"
   ]
  },
  {
   "cell_type": "markdown",
   "id": "aec6e2c7-cbbc-471a-845b-edf4be8b5a76",
   "metadata": {},
   "source": [
    "###### Ex. Set null values for Target Profit column as 0 "
   ]
  },
  {
   "cell_type": "code",
   "execution_count": 191,
   "id": "525c7502-371c-47c9-89f0-c91f5699e4f3",
   "metadata": {},
   "outputs": [],
   "source": [
    "df[\"Target Profit\"].fillna(\"0\", inplace=True)"
   ]
  },
  {
   "cell_type": "code",
   "execution_count": 193,
   "id": "f994f1e7-6105-47a4-a38a-8baa192cc4a8",
   "metadata": {},
   "outputs": [
    {
     "data": {
      "text/plain": [
       "Date             0\n",
       "Franchise        0\n",
       "City             0\n",
       "Product          0\n",
       "Sales            0\n",
       "Profit           0\n",
       "Target Profit    0\n",
       "Target Sales     0\n",
       "dtype: int64"
      ]
     },
     "execution_count": 193,
     "metadata": {},
     "output_type": "execute_result"
    }
   ],
   "source": [
    "df.isna().sum()"
   ]
  },
  {
   "cell_type": "markdown",
   "id": "47bc8fe6-1879-47b1-9745-aaf302d685ad",
   "metadata": {},
   "source": [
    "###### Ex. replace vowels with * "
   ]
  },
  {
   "cell_type": "code",
   "execution_count": 207,
   "id": "9a92690a-4cff-4b67-82af-40cb9874d423",
   "metadata": {},
   "outputs": [
    {
     "data": {
      "text/plain": [
       "'s*ng*p*r*'"
      ]
     },
     "execution_count": 207,
     "metadata": {},
     "output_type": "execute_result"
    }
   ],
   "source": [
    "trans_obj = str.maketrans(\"aeiou\", \"*****\")\n",
    "\"singapore\".translate(trans_obj)"
   ]
  },
  {
   "cell_type": "code",
   "execution_count": null,
   "id": "a2c4de4b-7fbb-44d4-a923-d7f316804d73",
   "metadata": {},
   "outputs": [],
   "source": [
    "trans_obj = str.maketrans(\"\", \"\", \"$,\")\n",
    "\n",
    "df.Sales = df.Sales.str.translate(trans_obj).astype(float)\n",
    "df.Profit = df.Profit.str.translate(trans_obj).astype(float)\n",
    "df[\"Target Profit\"] = df[\"Target Profit\"].str.translate(trans_obj).astype(float)\n",
    "df[\"Target Sales\"] = df[\"Target Sales\"].str.translate(trans_obj).astype(float)"
   ]
  },
  {
   "cell_type": "code",
   "execution_count": 212,
   "id": "aa72fd8c-6df4-4aad-bfb4-c7b487de19cc",
   "metadata": {},
   "outputs": [
    {
     "data": {
      "text/plain": [
       "Date              object\n",
       "Franchise         object\n",
       "City              object\n",
       "Product           object\n",
       "Sales            float64\n",
       "Profit           float64\n",
       "Target Profit    float64\n",
       "Target Sales     float64\n",
       "dtype: object"
      ]
     },
     "execution_count": 212,
     "metadata": {},
     "output_type": "execute_result"
    }
   ],
   "source": [
    "df.dtypes"
   ]
  },
  {
   "cell_type": "code",
   "execution_count": 213,
   "id": "dd47fee3-a7fb-4ac5-a5d8-f5848dfad4c8",
   "metadata": {},
   "outputs": [
    {
     "data": {
      "text/html": [
       "<div>\n",
       "<style scoped>\n",
       "    .dataframe tbody tr th:only-of-type {\n",
       "        vertical-align: middle;\n",
       "    }\n",
       "\n",
       "    .dataframe tbody tr th {\n",
       "        vertical-align: top;\n",
       "    }\n",
       "\n",
       "    .dataframe thead th {\n",
       "        text-align: right;\n",
       "    }\n",
       "</style>\n",
       "<table border=\"1\" class=\"dataframe\">\n",
       "  <thead>\n",
       "    <tr style=\"text-align: right;\">\n",
       "      <th></th>\n",
       "      <th>Date</th>\n",
       "      <th>Franchise</th>\n",
       "      <th>City</th>\n",
       "      <th>Product</th>\n",
       "      <th>Sales</th>\n",
       "      <th>Profit</th>\n",
       "      <th>Target Profit</th>\n",
       "      <th>Target Sales</th>\n",
       "    </tr>\n",
       "  </thead>\n",
       "  <tbody>\n",
       "    <tr>\n",
       "      <th>0</th>\n",
       "      <td>1-Jan-21</td>\n",
       "      <td>M1</td>\n",
       "      <td>Mumbai</td>\n",
       "      <td>Amaretto</td>\n",
       "      <td>219.00</td>\n",
       "      <td>94.00</td>\n",
       "      <td>100.00</td>\n",
       "      <td>220.00</td>\n",
       "    </tr>\n",
       "    <tr>\n",
       "      <th>1</th>\n",
       "      <td>1-Feb-21</td>\n",
       "      <td>M1</td>\n",
       "      <td>Mumbai</td>\n",
       "      <td>Amaretto</td>\n",
       "      <td>140.00</td>\n",
       "      <td>34.00</td>\n",
       "      <td>50.00</td>\n",
       "      <td>140.00</td>\n",
       "    </tr>\n",
       "    <tr>\n",
       "      <th>2</th>\n",
       "      <td>1-Mar-21</td>\n",
       "      <td>M1</td>\n",
       "      <td>Mumbai</td>\n",
       "      <td>Amaretto</td>\n",
       "      <td>145.00</td>\n",
       "      <td>-2.00</td>\n",
       "      <td>30.00</td>\n",
       "      <td>180.00</td>\n",
       "    </tr>\n",
       "    <tr>\n",
       "      <th>3</th>\n",
       "      <td>1-Apr-21</td>\n",
       "      <td>M1</td>\n",
       "      <td>Mumbai</td>\n",
       "      <td>Amaretto</td>\n",
       "      <td>45.00</td>\n",
       "      <td>11.00</td>\n",
       "      <td>20.00</td>\n",
       "      <td>40.00</td>\n",
       "    </tr>\n",
       "    <tr>\n",
       "      <th>4</th>\n",
       "      <td>1-May-21</td>\n",
       "      <td>M1</td>\n",
       "      <td>Mumbai</td>\n",
       "      <td>Amaretto</td>\n",
       "      <td>120.00</td>\n",
       "      <td>13.00</td>\n",
       "      <td>30.00</td>\n",
       "      <td>120.00</td>\n",
       "    </tr>\n",
       "  </tbody>\n",
       "</table>\n",
       "</div>"
      ],
      "text/plain": [
       "       Date Franchise    City   Product  Sales  Profit  Target Profit  \\\n",
       "0  1-Jan-21        M1  Mumbai  Amaretto 219.00   94.00         100.00   \n",
       "1  1-Feb-21        M1  Mumbai  Amaretto 140.00   34.00          50.00   \n",
       "2  1-Mar-21        M1  Mumbai  Amaretto 145.00   -2.00          30.00   \n",
       "3  1-Apr-21        M1  Mumbai  Amaretto  45.00   11.00          20.00   \n",
       "4  1-May-21        M1  Mumbai  Amaretto 120.00   13.00          30.00   \n",
       "\n",
       "   Target Sales  \n",
       "0        220.00  \n",
       "1        140.00  \n",
       "2        180.00  \n",
       "3         40.00  \n",
       "4        120.00  "
      ]
     },
     "execution_count": 213,
     "metadata": {},
     "output_type": "execute_result"
    }
   ],
   "source": [
    "df.head()"
   ]
  },
  {
   "cell_type": "markdown",
   "id": "8968f93f-2b38-49f8-9511-dc2b38e15eeb",
   "metadata": {},
   "source": [
    "<br><br><br><br><br><br><br><br><br><br><br><br><br>"
   ]
  }
 ],
 "metadata": {
  "kernelspec": {
   "display_name": "Python 3 (ipykernel)",
   "language": "python",
   "name": "python3"
  },
  "language_info": {
   "codemirror_mode": {
    "name": "ipython",
    "version": 3
   },
   "file_extension": ".py",
   "mimetype": "text/x-python",
   "name": "python",
   "nbconvert_exporter": "python",
   "pygments_lexer": "ipython3",
   "version": "3.12.4"
  }
 },
 "nbformat": 4,
 "nbformat_minor": 5
}
