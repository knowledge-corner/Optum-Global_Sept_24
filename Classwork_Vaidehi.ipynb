{
 "cells": [
  {
   "cell_type": "markdown",
   "id": "242f9316-9427-43d7-984f-b7c328e79601",
   "metadata": {},
   "source": [
    "# Data Analysis with Python"
   ]
  },
  {
   "cell_type": "markdown",
   "id": "320e3100-f9bb-4f75-b4aa-fa2c031d0a48",
   "metadata": {},
   "source": [
    "## Learning Objectives"
   ]
  },
  {
   "cell_type": "markdown",
   "id": "45300f31-1ac0-4cc1-88c3-d75e0d77dbc7",
   "metadata": {
    "jp-MarkdownHeadingCollapsed": true
   },
   "source": [
    "- Types of Data\n",
    "- Population and Sample and its characteristics\n",
    "- Arrays and Dataframes - accessing data and performing operations on data\n",
    "- Types of Variables - features and labels\n",
    "- Descriptive Statistics and EDA\n",
    "    - Univariate Analysis\n",
    "    - Bivariate Analysis\n",
    "    - Handling Null Values\n",
    "    - Handling Outliers\n",
    "    - Hypothesis Testing\n",
    "- Introduction to Machine Learning and its types\n",
    "- Linear Regression\n",
    "- Logistic Regression"
   ]
  },
  {
   "cell_type": "markdown",
   "id": "a1ace9b9-d567-44a3-b20f-9de6ac0dcdd6",
   "metadata": {},
   "source": [
    "## Types of data "
   ]
  },
  {
   "cell_type": "markdown",
   "id": "15325bbd-c24d-47c6-898a-95d48974d62b",
   "metadata": {},
   "source": [
    "#### Numerical (Quantitative) Data:\n",
    "\n",
    "Numerical data consists of numbers and is measured on a continuous or discrete scale.\n",
    "- Continuous numerical data can take any value within a range (e.g., height, temperature).\n",
    "- Discrete numerical data can take only specific, distinct values (e.g., number of siblings, number of cars).\n",
    "\n",
    "#### Categorical (Qualitative) Data:\n",
    "\n",
    "Categorical data represents categories or labels and is not inherently numerical.\n",
    "- Nominal categorical data has categories with no inherent order or ranking (e.g., gender, eye color).\n",
    "- Ordinal categorical data has categories with a specific order or ranking (e.g., education level, socioeconomic status)."
   ]
  },
  {
   "cell_type": "markdown",
   "id": "534810a8-5e6f-42fa-96c0-0236d523b533",
   "metadata": {},
   "source": [
    "## Population and Sample"
   ]
  },
  {
   "cell_type": "markdown",
   "id": "4b25ea0c-e20d-45a5-9e2f-242138c7214f",
   "metadata": {},
   "source": [
    "#### Population:\n",
    "\n",
    "The population is the entire group or set of individuals, items, or elements that you are interested in studying and drawing conclusions about. It represents the complete set of possible observations that share a common characteristic or attribute.\n",
    "For example, if you are studying the heights of all adult males in a country, the population would consist of the heights of all adult males in that country.\n",
    "\n",
    "#### Sample:\n",
    "\n",
    "A sample is a subset or a smaller representative group selected from the population.\n",
    "It is used to make inferences or draw conclusions about the population without having to collect data from every individual in the population.\n",
    "\n",
    "The process of selecting a sample from the population is known as sampling.\n",
    "For example, instead of measuring the heights of all adult males in a country (which may be impractical or too costly), you might select a random sample of adult males and measure their heights to estimate the average height of the entire population.\n",
    "\n",
    "#### Key points to note about population and sample:\n",
    "\n",
    "- The population represents the entire group under study, while the sample represents a subset of that group.\n",
    "- In many cases, it is not feasible or practical to collect data from the entire population, so researchers use samples to make inferences about the population.\n",
    "- The goal of sampling is to obtain a representative sample that accurately reflects the characteristics of the population.\n",
    "Statistical techniques are used to analyze sample data and make generalizations or predictions about th##e population.\n",
    "\n",
    "#### Characteristics of Population\n",
    "\n",
    "- Mean (Average): The mean of a population is the average value of a quantitative variable across all individuals in the population. It represents the central tendency of the population distribution.\n",
    "\n",
    "- Median: The median of a population is the middle value of a quantitative variable when all observations are arranged in ascending order. It is another measure of central tendency that is less affected by extreme values (outliers) compared to the mean.\n",
    "\n",
    "- Mode: The mode of a population is the most frequently occurring value or category of a variable. It represents the value with the highest frequency in the population distribution.\n",
    "\n",
    "- Variance: The variance of a population measures the spread or dispersion of values around the mean. It quantifies the average squared deviation of individual observations from the mean.\n",
    "\n",
    "- Standard Deviation: The standard deviation of a population is the square root of the variance. It provides a measure of the average distance between individual observations and the mean.\n",
    "\n",
    "- Range: The range of a population is the difference between the maximum and minimum values of a variable. It provides a simple measure of the spread of values in the population.\n",
    "\n",
    "- Distribution: The distribution of a population describes how the values of a variable are spread or distributed across the population. Common types of distributions include normal (bell-shaped), skewed (asymmetric), and ##uniform (evenly distributed).\n",
    "\n",
    "#### Characteristics of a Sample\n",
    "\n",
    "- Sample Size: The sample size is the number of observations or individuals included in the sample. It represents the amount of data available for analysis and inference.\n",
    "- Sampling Method: The sampling method describes how the sample was selected from the population. Common sampling methods include simple random sampling, stratified sampling, cluster sampling, and systematic sampling.\n",
    "\n",
    "- Descriptive Statistics: Descriptive statistics summarize the main features of the sample data. Common descriptive statistics include measures of central tendency (mean, median, mode), measures of dispersion (range, variance, standard deviation), and measures of shape (skewness, kurtosis).\n",
    "\n",
    "- Sample Proportion: The sample proportion represents the fraction or percentage of observations with a specific attribute or characteristic in the sample. It provides insights into the relative frequency of different categories in the sample.\n",
    "\n",
    "- Confidence Interval: The confidence interval is a range of values that is likely to contain the true population parameter with a certain level of confidence. It is used to estimate the precision or uncertainty of sample statistics, such as the sample mean or proportion.\n",
    "\n",
    "- Sampling Bias: Sampling bias refers to the systematic distortion or deviation of the sample from the population due to the sampling method used. It can affect the representativeness and generalizability of the sample data to the population. the sample data to the population. distributed)."
   ]
  },
  {
   "cell_type": "markdown",
   "id": "d5c9e14a-7a71-4d9b-95bb-251bad26d6a1",
   "metadata": {},
   "source": [
    "<hr><hr>"
   ]
  },
  {
   "cell_type": "markdown",
   "id": "522ba259-e857-4dfb-a07c-ca8fb398f536",
   "metadata": {},
   "source": [
    "## Arrays and Dataframes"
   ]
  },
  {
   "cell_type": "code",
   "execution_count": null,
   "id": "39ce4dfe-ae3f-4346-9ec6-8d9c5940bc49",
   "metadata": {},
   "outputs": [],
   "source": [
    "import numpy as np  # has all functions required for basic numeric calculations\n",
    "import pandas as pd  # has Dataframe object and is used to store and manipulate data\n",
    "import matplotlib.pyplot as plt  # used for data visualization (base library)\n",
    "import seaborn as sns  # used for data viz (wrapper over matplotlib)\n",
    "import scipy.stats as stats  # for statistical functions\n",
    "\n",
    "# Optional Parameters -\n",
    "%matplotlib inline\n",
    "pd.options.display.float_format = '{:.2f}'.format\n",
    "plt.rcParams['figure.figsize'] = (4, 3)\n",
    "plt.rcParams['font.size'] = 10\n",
    "\n",
    "import warnings\n",
    "warnings.filterwarnings('ignore')"
   ]
  },
  {
   "cell_type": "markdown",
   "id": "9ea4b1e8-b5f0-40c3-ba58-72b27388dd4a",
   "metadata": {},
   "source": [
    "### Examples on arrays"
   ]
  },
  {
   "cell_type": "code",
   "execution_count": null,
   "id": "53f52876-6d67-46af-9a1d-9f9aa35d7258",
   "metadata": {},
   "outputs": [],
   "source": [
    "names = np.array(['Claire', 'Darrin', 'Sean', 'Brosina', 'Andrew', 'Irene', 'Harold', 'Pete', 'Alejandro', 'Zuschuss', 'Ken', 'Sandra', 'Emily', 'Eric','Tracy', 'Matt', 'Gene', 'Steve', 'Linda', 'Ruben', 'Erin', 'Odella', 'Patrick', 'Lena', 'Darren', 'Janet', 'Ted', 'Kunst', 'Paul', 'Brendan'])\n",
    "ages = np.array([35, 26, 36, 44, 33, 33, 23, 22, 35, 53, 25, 41, 24, 31, 34, 43, 22, 29, 35, 25, 47, 22, 26, 52, 25, 25, 27, 24, 27, 30])\n",
    "salary = np.array([ 88962,  67659, 117501, 149957,  32212,  63391,  14438,  22445, 72287, 195588,  17240, 115116,  18027,  55891, 109132,  83327, 22125,  29324,  54003,  18390, 141401,  19593,  57093, 130556, 22093,  13058,  26180,  23259,  34248,  27416])\n",
    "designation = np.array(['Manager', 'Team Lead', 'Manager', 'Senior Manager', 'Team Lead', 'Team Lead', 'Developer', 'Developer', 'Team Lead', 'Managing Director', 'Developer', 'Manager', 'Developer','Team Lead', 'Manager', 'Manager', 'Developer', 'Team Lead','Team Lead', 'Developer', 'Senior Manager', 'Developer', 'Team Lead', 'Senior Manager', 'Developer', 'Developer','Team Lead', 'Developer', 'Team Lead', 'Team Lead'])"
   ]
  },
  {
   "cell_type": "markdown",
   "id": "daac038c-93ef-47c7-8666-02d94bf2b2a4",
   "metadata": {},
   "source": [
    "###### Ex. How many employees are present in the array"
   ]
  },
  {
   "cell_type": "code",
   "execution_count": null,
   "id": "71c51e5a-b8e7-4789-80c6-72824d5264f8",
   "metadata": {},
   "outputs": [],
   "source": [
    "len(names)"
   ]
  },
  {
   "cell_type": "code",
   "execution_count": null,
   "id": "8ffd32e5-afa5-4370-be8d-b3b1330776c2",
   "metadata": {},
   "outputs": [],
   "source": [
    "names.size"
   ]
  },
  {
   "cell_type": "code",
   "execution_count": null,
   "id": "12783650-8665-4d2a-9ee2-c6ec3d253f3c",
   "metadata": {},
   "outputs": [],
   "source": [
    "names.dtype"
   ]
  },
  {
   "cell_type": "code",
   "execution_count": null,
   "id": "77273fee-676a-4872-b47f-b2d2c2f08094",
   "metadata": {},
   "outputs": [],
   "source": [
    "ages.dtype"
   ]
  },
  {
   "cell_type": "code",
   "execution_count": null,
   "id": "b0d12c59-4955-4f17-b397-13746a42c355",
   "metadata": {},
   "outputs": [],
   "source": [
    "ages.ndim  # dimension of array "
   ]
  },
  {
   "cell_type": "markdown",
   "id": "7ba48a8b-cf8f-4000-ae7c-0d6f2e46e29c",
   "metadata": {},
   "source": [
    "###### Extract the ages greater than 40"
   ]
  },
  {
   "cell_type": "code",
   "execution_count": null,
   "id": "13ed0a06-03c5-4ddd-8fd9-e7a16eb6cf3f",
   "metadata": {},
   "outputs": [],
   "source": [
    "ages[ages > 40]"
   ]
  },
  {
   "cell_type": "markdown",
   "id": "6f11b7da-cbf2-4305-8d10-e11abca6981d",
   "metadata": {},
   "source": [
    "###### Extract names of the employees whose age greater than 40"
   ]
  },
  {
   "cell_type": "code",
   "execution_count": null,
   "id": "1e7e86f6-1cb6-43bc-9422-ebd85794d4db",
   "metadata": {},
   "outputs": [],
   "source": [
    "names[ages > 40]"
   ]
  },
  {
   "cell_type": "markdown",
   "id": "25117f7c-12df-4aab-854e-f6f0abaa1b29",
   "metadata": {},
   "source": [
    "###### Apply 7% hike on salary to all employes in the array"
   ]
  },
  {
   "cell_type": "code",
   "execution_count": null,
   "id": "1e953e7c-9b37-4276-926d-311a10c89cdf",
   "metadata": {},
   "outputs": [],
   "source": [
    "salary * 1.07"
   ]
  },
  {
   "cell_type": "markdown",
   "id": "d7b2a386-3dc6-469a-b6ae-b63ddf19fda4",
   "metadata": {},
   "source": [
    "###### Apply 7% hike to all employes whose age is greater_eq than 40 and 10% hike to employees whose age is less than 40"
   ]
  },
  {
   "cell_type": "code",
   "execution_count": null,
   "id": "555bf42e-e54c-47d5-bceb-e33b4727671e",
   "metadata": {},
   "outputs": [],
   "source": [
    "np.where(ages >= 40, salary*1.07, salary * 1.10)"
   ]
  },
  {
   "cell_type": "markdown",
   "id": "9c0e86dd-b1a9-49ee-b35c-6ee31b7104d0",
   "metadata": {},
   "source": [
    "###### Generate 10 random numbers between 10-50"
   ]
  },
  {
   "cell_type": "code",
   "execution_count": null,
   "id": "d11eccfe-a6ab-4fad-906e-5f902247633c",
   "metadata": {},
   "outputs": [],
   "source": [
    "arr1 = np.random.randint(10, 50, 10)\n",
    "arr1"
   ]
  },
  {
   "cell_type": "code",
   "execution_count": null,
   "id": "3eae6ade-91e0-4fd2-9651-a010c40bb8fc",
   "metadata": {},
   "outputs": [],
   "source": [
    "arr1 = np.random.randint(10, 50, (5, 2))\n",
    "arr1"
   ]
  },
  {
   "cell_type": "markdown",
   "id": "c7cade7f-5e39-4808-84ba-d9d05a99f09b",
   "metadata": {},
   "source": [
    "###### Find unique elements from arr1"
   ]
  },
  {
   "cell_type": "code",
   "execution_count": null,
   "id": "35073b31-fe68-48c3-89a3-1681af1252b8",
   "metadata": {},
   "outputs": [],
   "source": [
    "np.unique(arr1)"
   ]
  },
  {
   "cell_type": "markdown",
   "id": "17303a98-cb43-44c9-84ce-d90dedd191a9",
   "metadata": {},
   "source": [
    "###### Find the elements of arr1 also present in arr2"
   ]
  },
  {
   "cell_type": "code",
   "execution_count": null,
   "id": "a3062903-c9a7-45b3-8a85-a7d6054ff33e",
   "metadata": {},
   "outputs": [],
   "source": [
    "arr1 = np.random.randint(10, 50, 10)\n",
    "arr1"
   ]
  },
  {
   "cell_type": "code",
   "execution_count": null,
   "id": "6d7d9944-1b61-48c7-9f6f-681ded3d1f52",
   "metadata": {},
   "outputs": [],
   "source": [
    "arr2 = np.random.randint(10, 50, 10)\n",
    "arr2"
   ]
  },
  {
   "cell_type": "code",
   "execution_count": null,
   "id": "33342940-18b3-4969-9dee-abf7691a6c57",
   "metadata": {},
   "outputs": [],
   "source": [
    "np.intersect1d(arr1, arr2)"
   ]
  },
  {
   "cell_type": "markdown",
   "id": "93962bc5-a9d1-4134-ba58-e16b6cbd6454",
   "metadata": {},
   "source": [
    "###### Are all elements of arr1 present in arr2"
   ]
  },
  {
   "cell_type": "code",
   "execution_count": null,
   "id": "e7cafa70-e4e3-4b18-bc6d-05cb5994634c",
   "metadata": {},
   "outputs": [],
   "source": [
    "np.all(np.in1d(arr1, arr2))  # Returns True if all elements in the array are True"
   ]
  },
  {
   "cell_type": "code",
   "execution_count": null,
   "id": "71700f02-f5b9-4c9e-b87b-456fe126def3",
   "metadata": {},
   "outputs": [],
   "source": [
    "np.any(np.in1d(arr1, arr2))  # Returns True if any one element in the array is True"
   ]
  },
  {
   "cell_type": "markdown",
   "id": "73ab42f8-e105-47c8-87f4-d9147f5625c7",
   "metadata": {},
   "source": [
    "###### Ex. Create age groups based on 3 criterions"
   ]
  },
  {
   "cell_type": "code",
   "execution_count": null,
   "id": "f68559d2-b8a4-40e5-b372-924c98fa8622",
   "metadata": {},
   "outputs": [],
   "source": [
    "conditions = [ages < 35, ages < 50]\n",
    "groups = [\"Group 1\", \"Group 2\"]\n",
    "np.select(conditions, groups, \"Group 3\")"
   ]
  },
  {
   "cell_type": "markdown",
   "id": "094e2b9e-5510-45c2-8359-d91608052b15",
   "metadata": {},
   "source": [
    "### Examples on Dataframes"
   ]
  },
  {
   "cell_type": "code",
   "execution_count": null,
   "id": "e1dcccf9-333f-4e46-bb52-051f00aee88f",
   "metadata": {},
   "outputs": [],
   "source": [
    "df = pd.DataFrame({\"Name\" : names, \"Age\":ages, \"Salary\" : salary, \"Designation\" : designation})\n",
    "df.head()  # displays only top N rows, default = 5"
   ]
  },
  {
   "cell_type": "code",
   "execution_count": null,
   "id": "882cb9de-7330-4e77-80ae-c8fc0854a081",
   "metadata": {},
   "outputs": [],
   "source": [
    "df.shape"
   ]
  },
  {
   "cell_type": "code",
   "execution_count": null,
   "id": "9adace0a-89e9-40c3-bfec-68d19832c4ee",
   "metadata": {},
   "outputs": [],
   "source": [
    "# No of rows\n",
    "df.shape[0]"
   ]
  },
  {
   "cell_type": "code",
   "execution_count": null,
   "id": "c2b54cd2-c996-4a66-977f-9405b97b2901",
   "metadata": {},
   "outputs": [],
   "source": [
    "df.dtypes"
   ]
  },
  {
   "cell_type": "markdown",
   "id": "c88b4bfc-fe3c-4ae2-b41c-710fc13cac2d",
   "metadata": {},
   "source": [
    "###### Ex. Display all the Developers in the DF"
   ]
  },
  {
   "cell_type": "code",
   "execution_count": null,
   "id": "a3fdb3d2-ea8a-4402-a309-1681114d33ba",
   "metadata": {},
   "outputs": [],
   "source": [
    "df[df[\"Designation\"] == \"Developer\"] # Filtering the dataframe"
   ]
  },
  {
   "cell_type": "code",
   "execution_count": null,
   "id": "a23300de-520c-4797-bfc4-8c411c60a53f",
   "metadata": {},
   "outputs": [],
   "source": [
    "df[df[\"Designation\"] == \"Developer\"].Salary  # Filtering the dataframe"
   ]
  },
  {
   "cell_type": "markdown",
   "id": "fe39fe2a-1f51-469c-924d-22f56c54f301",
   "metadata": {},
   "source": [
    "###### Ex. Display details of employees whose salary is in the range of 50k-80k"
   ]
  },
  {
   "cell_type": "code",
   "execution_count": null,
   "id": "ce8c7cd1-ba6f-4d8c-9f22-cc6f48bee427",
   "metadata": {},
   "outputs": [],
   "source": [
    "df[df.Salary.between(50000, 80000)]"
   ]
  },
  {
   "cell_type": "markdown",
   "id": "76e9ea28-0229-4cb9-ab73-ce1f2cb95750",
   "metadata": {},
   "source": [
    "###### Ex. Display employees in DESC sorted order of salaries "
   ]
  },
  {
   "cell_type": "code",
   "execution_count": null,
   "id": "3d650a8d-bd9c-4e53-a5a7-da192ea0b397",
   "metadata": {},
   "outputs": [],
   "source": [
    "df.sort_values(\"Salary\", ascending=False) # Original df is not modified"
   ]
  },
  {
   "cell_type": "code",
   "execution_count": null,
   "id": "223b9cc3-870c-4dcd-86bf-f127b14472fe",
   "metadata": {},
   "outputs": [],
   "source": [
    "df.sort_values(\"Salary\", ascending=False, inplace=True) # to modify original df set inplace = True\n",
    "df.head()"
   ]
  },
  {
   "cell_type": "markdown",
   "id": "7143bc85-cd5d-48aa-8652-dac8f24e9838",
   "metadata": {},
   "source": [
    "###### Ex. Extract first 10 rows based on index positions"
   ]
  },
  {
   "cell_type": "code",
   "execution_count": null,
   "id": "d7ceec34-2c8a-4e26-aff0-c63907f06ac5",
   "metadata": {},
   "outputs": [],
   "source": [
    "df.iloc[0:11]"
   ]
  },
  {
   "cell_type": "markdown",
   "id": "a1acb667-f890-4ad3-b9a2-4076378ac8b7",
   "metadata": {},
   "source": [
    "#### Adding columns and dropping columns"
   ]
  },
  {
   "cell_type": "markdown",
   "id": "c6caab26-3018-4d3b-a804-3cf268cfa97c",
   "metadata": {},
   "source": [
    "###### Ex. Salary hike based on age"
   ]
  },
  {
   "cell_type": "code",
   "execution_count": null,
   "id": "11dd1219-c6c2-4139-a190-0395faf273da",
   "metadata": {},
   "outputs": [],
   "source": [
    "df.insert(2, \"New Salary\", np.where(df.Age >= 40, df.Salary * 1.07, df.Salary * 1.10))"
   ]
  },
  {
   "cell_type": "code",
   "execution_count": null,
   "id": "af8528f4-e656-4cbf-9ca6-61486ceae080",
   "metadata": {},
   "outputs": [],
   "source": [
    "df[\"New Salary\"] = np.where(df.Age >= 40, df.Salary * 1.07, df.Salary * 1.10) \n",
    "df.head()"
   ]
  },
  {
   "cell_type": "code",
   "execution_count": null,
   "id": "7508a790-3698-4fb7-a099-fa115031e206",
   "metadata": {},
   "outputs": [],
   "source": [
    "df.drop(columns=[\"Salary\"])  # original d is not modified (inplace = True)"
   ]
  },
  {
   "cell_type": "markdown",
   "id": "8fed1a06-c180-45f3-aff9-e1ab901b61f1",
   "metadata": {},
   "source": [
    "#### Operations on DF"
   ]
  },
  {
   "cell_type": "code",
   "execution_count": null,
   "id": "937dfd3b-2baf-4df7-ab3e-a9e461d6cadd",
   "metadata": {},
   "outputs": [],
   "source": [
    "num_data = pd.DataFrame({\"Name\" : [\"Jane\", \"Sam\", \"Bill\"],\n",
    "                         \"English\" :[10, 20, 50], \"Maths\":[40, 40, 60], \"Science\" : [30, 20, 80]})\n",
    "num_data"
   ]
  },
  {
   "cell_type": "markdown",
   "id": "22f87d77-ca0f-4947-bb29-ce56f4dd2fe5",
   "metadata": {},
   "source": [
    "###### Ex. Calculate Total Marks and Percentage"
   ]
  },
  {
   "cell_type": "code",
   "execution_count": null,
   "id": "6c14f47f-e86b-4777-aefe-4fdd07e8e0fc",
   "metadata": {},
   "outputs": [],
   "source": [
    "num_data[\"English\"] + num_data[\"Maths\"] + num_data[\"Science\"]"
   ]
  },
  {
   "cell_type": "code",
   "execution_count": null,
   "id": "0efaadbc-ebdd-4794-9bb0-ed0810e784ac",
   "metadata": {},
   "outputs": [],
   "source": [
    "num_data.select_dtypes(\"number\").sum()  # Column wise sum"
   ]
  },
  {
   "cell_type": "code",
   "execution_count": null,
   "id": "de2e2d29-2c10-4b8c-9770-4d010457105b",
   "metadata": {},
   "outputs": [],
   "source": [
    "num_data.select_dtypes(\"number\").sum(axis = 1) # row wise sum"
   ]
  },
  {
   "cell_type": "code",
   "execution_count": null,
   "id": "1520de99-c8ef-4041-b554-f0932d06d1cc",
   "metadata": {},
   "outputs": [],
   "source": [
    "num_data[\"Total\"] = num_data.select_dtypes(\"number\").sum(axis = 1) # row wise sum\n",
    "num_data"
   ]
  },
  {
   "cell_type": "code",
   "execution_count": null,
   "id": "f2d9d868-f0b0-420d-8908-038b01cc4b97",
   "metadata": {},
   "outputs": [],
   "source": [
    "num_data[\"Percentage\"] = (num_data[\"Total\"] / 3) \n",
    "num_data"
   ]
  },
  {
   "cell_type": "code",
   "execution_count": null,
   "id": "93e4dc89-852a-407f-8218-8317f5b4fceb",
   "metadata": {},
   "outputs": [],
   "source": [
    "num_data.select_dtypes(\"object\")"
   ]
  },
  {
   "cell_type": "markdown",
   "id": "fa051656-5e37-4395-9499-a5465204bc81",
   "metadata": {},
   "source": [
    "#### map(), replace() and apply()"
   ]
  },
  {
   "cell_type": "code",
   "execution_count": null,
   "id": "bc4a9560-dfe1-4950-9c1a-7d46c211d558",
   "metadata": {},
   "outputs": [],
   "source": [
    "df.head()"
   ]
  },
  {
   "cell_type": "code",
   "execution_count": null,
   "id": "19002035-1132-4ab1-aca7-98fe0361e5ed",
   "metadata": {},
   "outputs": [],
   "source": [
    "new_values = {'Senior Manager' : \"SM\", 'Manager' : \"MN\", \n",
    "              'Team Lead' : \"TL\", 'Developer' : \"DL\"}\n",
    "\n",
    "# df.Designation.replace(new_values, inplace=True)  # modified original\n",
    "df.Designation.replace(new_values)"
   ]
  },
  {
   "cell_type": "code",
   "execution_count": null,
   "id": "87dcd426-86e5-4e73-bd6a-b2c64f7717f6",
   "metadata": {},
   "outputs": [],
   "source": [
    "# map using function object\n",
    "new_values = {'Senior Manager' : \"SM\", 'Manager' : \"MN\", 'Team Lead' : \"TL\", 'Developer' : \"DL\"}\n",
    "\n",
    "df.Designation.map(new_values)  "
   ]
  },
  {
   "cell_type": "markdown",
   "id": "30253e16-f618-435c-ab8d-c3ccbff6feb8",
   "metadata": {},
   "source": [
    "###### Ex. Apply 7% hike to all employees"
   ]
  },
  {
   "cell_type": "code",
   "execution_count": null,
   "id": "2d38f19e-a3d6-48c0-b9d5-2e14539638a1",
   "metadata": {},
   "outputs": [],
   "source": [
    "df.Salary * 1.07"
   ]
  },
  {
   "cell_type": "code",
   "execution_count": null,
   "id": "acfd7121-10b6-447a-9784-7628c4f98e66",
   "metadata": {},
   "outputs": [],
   "source": [
    "df.Salary.apply(lambda sal : sal * 1.07)  # Applies the functionality to all elements in the series."
   ]
  },
  {
   "cell_type": "markdown",
   "id": "cf372c7d-91c1-4113-94be-fb6d2558a05f",
   "metadata": {},
   "source": [
    "<hr><hr>"
   ]
  },
  {
   "cell_type": "markdown",
   "id": "3cb0025b-9a0a-4e88-9ce9-34a9af14a53c",
   "metadata": {},
   "source": [
    "## Types of Variables "
   ]
  },
  {
   "cell_type": "markdown",
   "id": "887272e7-e1d0-4579-b919-703eefdee11b",
   "metadata": {
    "jp-MarkdownHeadingCollapsed": true
   },
   "source": [
    "- Features: Features, also known as independent variables or input variables, are the attributes or characteristics of the data that are used as input to the machine learning model to make predictions. Features represent the variables that the model learns from to make predictions or classifications. Each feature can be either numerical or categorical and may have different scales or levels of measurement.\n",
    "\n",
    "- Labels: Labels, also known as target variables or dependent variables, are the outputs or predictions that the machine learning model aims to predict based on the input features. Labels represent the target variable that the model is trying to learn or predict. In supervised learning tasks, the labels are typically known for a subset of the data, and the goal is to train the model to accurately predict the labels for unseen data."
   ]
  },
  {
   "cell_type": "markdown",
   "id": "6ccf7471-e18a-4b7f-827d-4589e24eacf2",
   "metadata": {},
   "source": [
    "## Descriptive Statistics"
   ]
  },
  {
   "cell_type": "markdown",
   "id": "2f836be2-137a-4ee4-afbc-cd217bca2078",
   "metadata": {},
   "source": [
    "Descriptive statistics deals with summarizing and describing the features of a dataset or sample. Descriptive statistics provides a summary of the main features of the data, including measures of central tendency, dispersion, shape, and relationships between variables.\n",
    "\n",
    "#### Measures of Central Tendency:\n",
    "    - Mean: The average value of the data points.\n",
    "    - Median: The middle value of the data when arranged in ascending order.\n",
    "    - Mode: The most frequently occurring value in the dataset.\n",
    "\n",
    "#### Measures of Dispersion:\n",
    "    - Range: The difference between the maximum and minimum values in the dataset.\n",
    "    - Variance: The average of the squared differences from the mean.\n",
    "    - Standard Deviation: The square root of the variance, representing the average deviation from the mean.\n",
    "\n",
    "#### Measures of Shape:\n",
    "    - Skewness: A measure of the asymmetry of the distribution.\n",
    "        - Positive skewness indicates a longer right tail and a concentration of data on the left side.\n",
    "        - Negative skewness indicates a longer left tail and a concentration of data on the right side.\n",
    "        - Skewness close to zero indicates approximate symmetry around the mean.\n",
    "\n",
    "    - Kurtosis: A measure of the \"peakedness\" or \"flatness\" of the distribution.\n",
    "        - Positive kurtosis indicates heavy tails and a sharp peak (leptokurtic).\n",
    "        - Negative kurtosis indicates light tails and a flat peak (platykurtic).\n",
    "        - A kurtosis of 0 indicates a distribution with similar tails to the normal distribution (mesokurtic).\n",
    "\n",
    "#### Frequency Distribution:\n",
    "    - Frequency table: A table that shows the frequency or count of each value in the dataset.\n",
    "    - Histogram: A graphical representation of the frequency distribution, showing the distribution of values in bins or intervals.\n",
    "\n",
    "#### Measures of Association:\n",
    "    - Correlation: A measure of the strength and direction of the linear relationship between two variables.\n",
    "    - Covariance: A measure of the joint variability between two variables."
   ]
  },
  {
   "cell_type": "markdown",
   "id": "969a8a63-3d03-4763-a400-1c3f1a5b087c",
   "metadata": {},
   "source": [
    "### Example 1 - \n",
    "- Find Mean, Median, Mode, Range, Standard Deviation, Skewness, Kurtosis, Frequency Distribution - Histogram"
   ]
  },
  {
   "cell_type": "code",
   "execution_count": null,
   "id": "025f8aad-4bc2-40d8-9df2-cc33034f8e42",
   "metadata": {},
   "outputs": [],
   "source": [
    "# dataset consists of weights children in the age group of 0 to 10 years\n",
    "weights = np.array([20.8,15.3,23.2,15.5,17.5,27.3,23.3,20.5,16.4,17.4,22.6,20.8,16.7,29.1,14.2,18.5,17.6,17.1,18.2,26.0,25.6,19.1,17.8,21.6,19.6,28.4,19.4,22.8,25.9,27.1,20.8,21.9,15.4,30.2,23.0,25.0,24.0,17.1,18.8,25.8,23.2,14.9,20.4,15.0,12.3,17.6,10.3,12.1,25.8,21.9,9.9,24.8,17.9,22.0,27.6,21.7,26.3,19.9,16.6,17.8,8.0,21.5,17.9,33.6,20.4,21.9,19.8,15.3,25.6,24.7,10.6,22.1,18.8,9.8,14.9,18.7,27.6,21.2,25.1,21.9,22.1,19.6,10.4,17.2,18.3,21.2,21.1,21.0,19.1,14.8,19.2,18.3,22.1,14.1,19.3,16.2,25.6,14.8,22.3,25.0,20.8,21.2,16.6,15.0,15.6,24.7,26.1,18.1,14.1,25.5,21.4,32.7,13.8,27.4,15.8,18.4,21.3,27.5,15.8,27.2,26.9,16.2,22.6,15.3,22.5,26.6,24.7,28.4,28.0,19.9,9.9,16.5,19.5,11.7,27.9,28.1,21.1,20.0,14.5,25.9,13.3,15.8,21.3,10.7,14.6,19.9,21.6,26.6,26.0,23.7,20.5,11.8,15.6,14.9,24.6,20.9,24.5,26.8,25.3,30.9,26.1,14.9,17.9,18.5,25.7,16.4,8.2,24.1,19.5,13.1,17.6,13.4,24.4,16.4,19.9,12.9,14.3,25.4,15.4,17.7,17.3,18.7,16.1,7.4,18.4,16.2,18.7,19.8,25.6,23.7,22.5,20.5,14.9,25.0,4.7,6.8,21.8,22.2,24.4,13.4,32.1,26.6,27.2,17.8,19.6,16.8,14.4,24.9,12.6,15.0,15.4,10.1,12.9,15.9,22.3,15.0,24.4,21.0,17.2,25.2,15.6,24.6,24.9,13.6,10.3,25.6,18.3,25.1,18.1,20.2,29.1,25.7,14.9,11.4,19.2,21.5,13.9,19.5,19.1,23.0,26.8,14.8,24.4,14.7,24.3,24.5,19.9,12.1,21.2,16.4,19.5,25.8,8.5,19.8,23.4,21.3,14.7,17.9,15.7,14.9,5.2,3.8,31.5,17.4,16.0,20.7,18.4,8.1,22.9,32.8,19.0,33.0,26.0,14.2,18.4,15.1,29.5,13.9,5.1,28.1,18.2,10.5,27.8,19.4,13.1,21.9,18.6,11.0,19.7,20.2,20.1,17.6,21.6,21.2,30.0,26.1,20.5,22.8,20.5,19.6,18.0,19.8,21.8,7.0,21.4,22.5,18.9,15.1,22.0,25.5,11.1,15.4,21.5,13.5,11.2,19.3,25.5,20.2,18.3,15.3,40.3,22.1,23.2,17.1,19.4,15.3,28.6,23.0,19.4,16.7,20.9,21.1,15.9,29.6,17.0,19.0,20.8,20.4,9.8,24.0,15.2,26.2,22.0,21.4,16.2,29.2,21.4,28.9,16.9,21.9,11.2,19.0,21.2,20.8,9.3,12.5,26.9,10.7,18.9,17.5,23.3,12.5,13.4,26.3,23.0,21.8,25.6,20.7,18.0,32.5,25.6,8.4,19.8,24.5,18.0,24.7,21.3,12.9,21.6,29.1,25.8,26.4,27.0,25.6,19.0,20.0,10.4,17.5,19.5,17.5,21.1,19.6,23.1,18.2,27.0,18.5,19.3,25.4,20.8,20.8,20.6,20.4,23.1,17.6,18.7,16.2,18.9,15.2,22.5,10.0,21.1,29.3,17.8,27.1,16.8,18.0,28.3,16.5,19.8,16.7,23.2,23.6,18.5,29.8,24.2,22.4,29.3,29.3,21.5,15.5,23.0,12.8,20.8,11.5,20.0,15.2,18.7,17.2,22.5,13.5,13.1,17.6,12.1,23.2,18.0,24.2,7.3,17.0,17.0,22.7,22.1,18.0,15.6,13.9,17.7,14.7,26.1,12.2,20.3,17.8,16.5,10.2,18.2,22.2,26.3,26.6,19.2,19.5,14.3,15.6,13.9,20.2,11.6,31.2,6.3,23.4,21.1,22.0,8.5,11.5,19.3,17.7,11.9,14.8,16.9,16.1,13.0,17.9,22.0,14.2,13.9,25.4,21.1,16.3,16.4,19.3,18.3,23.0,27.4,24.2,14.9,12.7,16.7,17.8,19.5,14.9,23.9,15.2,25.4,22.9,25.2,12.7,26.0,26.7,15.8,24.9,24.4,15.5,20.0,7.8,20.6,19.0,29.8,14.1,14.1,17.8,24.9,20.7,19.8,24.2,16.7,21.3,23.7,20.9,23.6,25.3,9.9,21.7,16.7,10.3,18.9,25.2,12.7,27.4,21.4,23.0,11.8,22.1,13.0,20.0,27.2,19.8,16.9,18.8,25.0,9.0,19.0,11.1,19.6,24.0,29.3,20.7,10.7,26.9,18.6,21.5,26.2,21.5,27.9,22.1,25.1,27.9,18.9,26.4,20.0,25.6,27.5,17.7,18.9,27.0,14.9,27.6,19.6,18.1,19.2,20.2,16.4,16.6,14.1,8.9,17.6,17.3,21.0,14.3,18.7,19.9,12.3,24.4,23.3,25.1,27.9,15.1,18.3,23.2,17.8,15.5,22.0,23.0,20.4,15.5,22.8,19.5,22.2,22.3,25.1,15.0,19.9,23.8,18.8,17.0,7.9,24.0,31.4,17.6,27.4,28.1,17.9,18.3,17.3,21.6,17.8,22.4,19.2,22.8,21.4,19.1,22.4,29.4,13.6,15.0,28.8,18.2,25.8,15.1,23.6,12.2,10.1,15.4,27.0,17.2,11.6,20.8,18.8,20.4,18.1,20.9,31.1,19.0,18.5,17.9,23.1,32.0,21.7,23.4,17.1,19.0,18.1,19.3,18.8,25.8,19.8,22.1,15.8,15.9,21.3,18.4,17.8,23.1,22.2,15.3,20.0,20.8,30.2,24.0,12.6,9.2,21.7,19.8,16.6,16.5,18.0,21.1,10.0,23.5,26.9,23.7,16.8,12.7,29.8,17.9,18.6,19.9,23.6,26.4,18.2,18.1,19.2,15.3,19.4,20.2,33.2,26.2,26.9,15.3,18.9,18.3,27.6,29.0,22.5,30.2,22.8,13.8,21.4,27.3,25.1,26.7,7.9,27.3,21.9,15.6,18.1,19.9,23.0,22.9,15.0,16.5,18.9,24.8,4.9,16.7,20.2,7.9,19.3,16.1,22.5,27.4,29.6,18.7,21.9,9.9,24.6,10.1,21.5,20.6,11.4,14.0,18.4,6.5,12.8,25.5,19.5,14.6,20.5,18.9,14.8,21.7,17.3,33.1,23.1,25.1,30.2,17.0,13.2,29.2,14.8,13.5,22.3,9.0,19.2,19.1,20.4,14.2,20.6,19.3,27.6,21.4,15.5,23.4,13.2,12.1,23.2,33.8,17.5,19.1,23.2,12.6,24.6,14.6,19.5,20.1,13.4,12.4,14.6,16.8,27.5,19.5,11.5,15.4,24.0,21.1,21.8,29.1,18.9,21.3,18.9,20.1,13.7,19.7,17.0,34.0,24.0,16.9,19.3,19.9,19.4,19.3,21.5,20.8,20.1,27.1,23.5,22.9,19.4,14.8,28.6,23.2,8.7,30.1,19.1,15.1,22.3,17.4,23.8,18.1,20.4,23.1,22.4,13.7,25.5,25.9,21.3,21.6,21.4,29.7,18.1,10.3,23.6,21.0,13.1,10.6,20.8,21.7,19.4,21.4,25.1,16.6,11.1,13.8,21.1,22.0,20.8,19.1,24.4,15.2,25.1,19.2,10.5,21.8,17.5,19.6,8.2,22.1,21.8,13.6,15.1,28.4,22.0,28.6,25.3,29.3,19.1,20.8,10.8,23.6,13.5,23.2,16.9,22.9,21.3,21.8,31.3,21.1,17.1,25.5,26.1,19.2,19.9,26.4,34.9,17.4,24.2,17.5,21.7,11.3,4.9,21.3,17.2,15.6,22.4,28.2,22.3,21.3,20.5,18.4,17.5,9.7,21.4,12.8,20.0,20.7,16.1,26.2,20.9,19.2,23.6,22.4,31.7,22.5,20.3,13.8,23.3,17.4,3.0,16.6,17.1,27.8,17.4,13.7,14.1,26.4,23.9,21.2,27.4,9.9,18.7,17.0,21.1,22.9,8.7,19.1,25.1,21.0,22.3,21.5,19.6,17.6,22.7,14.7,11.5,28.6,19.9,13.5,27.3,19.6,18.7,14.0,11.6,15.0,26.5,21.7,22.1,5.7,18.3,23.4,19.5,15.8,18.6,19.3,27.0,21.7,21.9,20.7,13.5,29.7,22.3,24.0,31.1,23.9,15.7,19.6])\n",
    "\n",
    "print(f\"Mean - {weights.mean()}\\nMedian - {np.median(weights)}\\nMode - {stats.mode(weights).mode}\")\n",
    "print(f\"Stdev - {np.std(weights).round(2)}\\nSkewness - {stats.skew(weights).round(2)}\\nkurtosis - {stats.kurtosis(weights).round(2)}\")\n",
    "sns.histplot(weights, kde = True)\n",
    "plt.axvline(np.mean(weights), color = \"red\", label = \"Mean\")\n",
    "plt.axvline(np.median(weights), color = \"green\", label = \"Median\")"
   ]
  },
  {
   "cell_type": "markdown",
   "id": "7933ea27-ff4d-45b5-874e-26d8426c70fd",
   "metadata": {},
   "source": [
    "### Example 2 -\n",
    "- Find Mean, Median, Mode, Range, Standard Deviation, Skewness, Kurtosis, Frequency Distribution - Histogram"
   ]
  },
  {
   "cell_type": "markdown",
   "id": "770a7b0e-5102-4977-a5db-2e82909fb794",
   "metadata": {},
   "source": [
    "##### Right Skewed - \n",
    "mean > median > mode"
   ]
  },
  {
   "cell_type": "code",
   "execution_count": null,
   "id": "eba85ad4-0e2a-4081-a13f-a8995eee5fc4",
   "metadata": {},
   "outputs": [],
   "source": [
    "# dataset consists of Salaries of employees in an organisation\n",
    "salaries = np.array([29756,20014,20347,57214,41327,40209,93390,122004,17725,47210,44386,48407,16837,83731,9130,66723,72525,57347,10941,18726,8913,59251,13090,37983,134656,45499,59533,82998,31440,11672,16295,30676,21822,35263,27340,65522,23380,11662,7066,22403,41230,46693,22478,82491,7347,16263,72672,20522,38409,30175,31383,98820,13605,45096,12397,90988,6602,29786,102559,31790,29768,50085,22649,24426,4059,95210,68657,17799,37370,46160,35133,40969,57201,54757,17973,13610,46004,91341,24474,48005,9473,10277,71287,9383,36492,104352,13473,51293,51911,10026,39992,125885,44462,76531,41512,47267,33231,14180,44474,55702,39554,8359,51892,98574,43638,90568,40508,34129,98497,74784,63383,47197,83519,26458,38642,9629,18404,47324,15793,120345,61126,64613,57964,47582,77944,27082,51891,98126,69008,23284,49785,72406,56418,36769,58715,42999,47333,45733,141091,3848,57584,48356,95301,95269,49894,101380,44028,54577,71055,32066,26596,66653,3179,44484,62889,62952,50903,74656,50733,38180,59410,105003,73854,33579,150293,26348,6769,26315,53038,35766,50517,64714,27523,26867,46607,9882,60052,46653,42143,37371,14475,103629,55402,6149,65128,32861,27603,75553,35641,21457,106916,50369,37731,6473,73858,7716,21144,34340,27917,18150,49270,16344,84532,28616,18452,84678,17990,26463,13671,70005,26237,7245,16941,64383,3317,7275,26981,12600,36983,40054,7283,82140,65120,8259,44235,30682,68578,80737,14009,88942,48374,43148,11447,32203,67168,50149,8607,9680,35442,47306,67316,52503,89884,18337,11798,40659,90852,25479,4737,107231,40006,34020,61695,12128,14126,71024,42150,54591,93625,23809,9698,50910,75967,36494,53497,28006,16650,50352,42133,10915,50698,19962,30772,23430,75790,72083,162101,75728,60565,40074,58299,18280,128972,76801,38314,12744,25607,22188,31862,15955,31175,11044,44390,49677,33251,85617,81684,48054,63108,33461,39505,51449,47547,49199,152777,49820,23147,35010,44921,39633,16546,35436,32229,28603,31804,21668,102866,58514,140647,22149,26732,88552,77813,75665,38038,123394,9457,28241,52657,9075,148287,70362,27398,18672,19003,17600,114609,4318,19729,23148,32015,87090,5342,56550,38458,5400,50686,46353,14777,19302,16606,21645,37117,22488,5465,28650,57321,34736,43956,37151,9776,37461,17631,98557,18773,15927,62892,35395,23658,27429,22496,60550,36644,38050,79320,7934,30101,71573,14389,4701,31291,11384,39725,123530,44408,58972,95799,10389,46232,3432,40560,35984,4665,169950,111402,18065,21540,70358,51973,26344,101435,5668,28783,6701,64979,30591,53626,89555,54550,47720,72312,32532,81224,32367,12856,45452,23288,68436,11028,48698,59988,25334,12898,76129,76496,66076,28330,66192,34221,24405,81851,52335,38502,25430,29421,7258,23734,12534,60625,23697,17543,35830,5033,17253,27189,48127,91649,58796,46586,42569,40202,70022,3922,41658,66536,67928,13621,71191,63947,89954,7543,20366,73226,55216,63823,20147,28646,62441,10910,21883,40687,5770,12349,59303,82027,45440,12710,126532,87569,69111,27004,13098,37670,125784,37616,46404,36971,20823,44255,53184,53752,9362,16464,13631,24283,57198,27205,60289,35590,21193,59034,71649,40198,22347,37446,30613,39731,23986,65414,6705,23140,42971,9792,23886,16397,17598,42024,32014,78351,31432,3978,34883,19845,10204,56595,25611,58573,31771,60213,24678,85938,22206,27750,43462,24977,22131,65617,70257,71995,75183,106608,54436,44381,61439,41163,81099,34095,36953,14703,23992,105384,20334,34145,48786,72804,71943,32757,77178,6381,77041,85234,31634,62231,7004,66194,23721,18122,82066,43339,13417,28110,26647,11703,160005,55765,78251,35519,22708,66840,6126,37952,31632,55294,13842,57847,43009,57445,41641,13437,41892,8126,55609,71439,65768,3032,12225,16758,12150,110890,58822,80581,12690,69074,49169,118185,9745,24482,35611,21100,13245,25269,26177,60738,119320,13615,120677,36560,14048,16249,73591,11789,42419,8691,44373,5698,38758,39244,36214,7654,26381,42371,42425,5167,38173,28250,11362,41671,38101,22759,29654,16846,42528,32035,51949,34841,65641,94153,55081,42157,53629,5482,6064,33333,53055,38653,54655,25486,28830,18681,38431,89032,38939,44533,44382,7073,93080,39698,68653,14900,4180,26923,27360,30629,33018,23166,4915,50098,31775,14625,48831,53413,50677,16354,24128,49869,23038,53312,43846,11263,19507,11322,86895,60729,144564,33429,36964,4437,48013,39779,71605,45697,20501,3059,39338,3228,22719,37974,72431,8486,24363,19558,64046,35799,20259,79873,13544,36404,55886,13904,42955,43750,17743,107390,86058,40137,65042,29084,8999,6357,29914,45867,75705,19543,64725,60567,58452,5015,50256,60877,91907,42209,13678,7797,23545,65227,86909,18614,12483,34314,52497,28754,112096,30756,16519,18075,9958,14076,16114,5200,40241,14275,53117,50561,27253,3998,85851,32716,44901,40698,42272,67106,73621,23828,50619,64147,89432,67240,119266,15347,50315,39374,27347,21786,7037,33320,9277,14225,25474,50546,61235,64796,38341,46464,38388,53785,8315,29782,35079,5943,9616,73662,52409,28236,40773,84419,49739,8678,46548,16583,15864,5920,42891,6635,91882,54534,32013,105413,11681,18153,98213,60754,53642,40221,43931,60076,9481,17046,26098,22609,21386,2797,11266,59378,57464,46271,10182,53724,89160,33549,19557,8022,43213,62795,42025,74820,49326,55701,65268,49257,38526,47121,32407,100592,21980,10691,10664,13298,58489,81011,24481,30354,5334,11554,62781,80241,17457,13682,12911,32340,54094,4987,15562,19126,58105,62497,34333,74015,78119,27715,20098,37580,14200,24208,36266,68885,66174,3965,143792,35892,43824,14009,7294,69932,11540,31644,55554,6756,69754,65940,26128,88712,11048,14382,34369,3908,30339,9290,22745,49669,93604,62655,50036,60244,52406,44821,37915,4894,38413,44612,19168,26668,20326,45231,12448,35082,121782,4863,7291,24332,42551,28462,67887,21226,41026,137990,53668,40922,15485,21118,118903,77715,24519,58873,61054,25674,2960,30624,103189,48284,40536,56053,37084,50773,11615,83270,4311,30367,6372,56358,14518,10602,35857,93798,51500,69148,51610,27676,16157,92788,4395,23687,11944,57418,71058,37037,23290,34201,84364,68400,24135,18615,15050,113480,83720,52761,26031,43187,11278,3710,27465,97386,3393,65371,5707,106125,46278,12099,17823,39132,34422])\n",
    "\n",
    "print(f\"Mean - {salaries.mean()}\\nMedian - {np.median(salaries)}\\nMode - {stats.mode(salaries).mode}\")\n",
    "print(f\"Stdev - {np.std(salaries).round(2)}\\nSkewness - {stats.skew(salaries).round(2)}\\nkurtosis - {stats.kurtosis(salaries).round(2)}\")\n",
    "sns.histplot(salaries, kde = True)\n",
    "plt.axvline(np.mean(salaries), color = \"red\", label = \"Mean\")\n",
    "plt.axvline(np.median(salaries), color = \"green\", label = \"Median\")"
   ]
  },
  {
   "cell_type": "markdown",
   "id": "7110e6f5-ab73-4173-8403-e998912860f6",
   "metadata": {},
   "source": [
    "### Example 3 -\n",
    "- Find Mean, Median, Mode, Range, Standard Deviation, Skewness, Kurtosis, Frequency Distribution - Histogram"
   ]
  },
  {
   "cell_type": "markdown",
   "id": "b1f99981-a749-4f6f-b501-9e916d580af7",
   "metadata": {},
   "source": [
    "##### Left Skewed - \n",
    "mean < median < mode"
   ]
  },
  {
   "cell_type": "code",
   "execution_count": null,
   "id": "261ce493-f735-4f3c-8334-709f8a2d1fbf",
   "metadata": {},
   "outputs": [],
   "source": [
    "# dataset consists of life-expectancy data \n",
    "life_expectancy = np.array([52, 61, 58, 75, 74, 77, 58, 74, 54, 65, 67, 75, 74, 70, 36, 65, 35,55, 64, 28, 46, 52, 75, 42, 64, 75, 44, 65, 58, 65, 45, 73, 79, 48,55, 65, 53, 66, 56, 40, 76, 52, 77, 63, 74, 53, 22, 43, 33, 75, 60,58, 44, 69, 73, 36, 74, 72, 65, 56, 67, 68, 56, 67, 62, 59, 68, 53,59, 61, 59, 77, 76, 70, 78, 74, 64, 15, 42, 65, 70, 65, 64, 67, 65,66, 25, 65, 63, 75, 78, 63, 81, 80, 82, 66, 42, 26, 64, 72, 59, 78,69, 73, 79, 65, 60, 39, 64, 44, 77, 74, 42, 13, 73, 64, 65, 75, 78,72, 49, 75, 65, 59, 40, 70, 31, 58, 61, 79, 56, 67, 79, 61, 48, 68,52, 79, 70, 70, 59, 53, 75, 63, 31, 25, 63, 79, 60, 77, 77, 64, 33,52, 64, 40, 59, 80, 36, 64, 61, 54, 73, 21, 67, 45, 77, 78, 56, 32,81, 69, 82, 33, 16, 41, 79, 34, 77, 71, 74, 73, 44, 33, 59, 74, 43,67, 63, 73, 58, 59, 65, 55, 64, 76, 71, 60, 79, 76, 62, 50, 42, 72,60, 77, 44, 72, 54, 58, 56, 40, 61, 25, 47, 66, 74, 79, 62, 69, 22,67, 71, 40, 74, 80, 45, 68, 64, 55, 48, 52, 48, 49, 60, 62, 57, 23,67, 72, 76, 69, 56, 67, 58, 40, 78, 50, 53, 73, 66, 69, 73, 73, 37,60, 65, 60, 60, 68, 50, 33, 68, 24, 79, 52, 78, 30, 58, 81, 72, 79,75, 52, 51, 74, 66, 65, 41, 53, 57, 76, 63, 64, 48, 48, 77, 52, 60,61, 52, 39, 71, 26, 54, 68, 77, 64, 67, 62, 40, 67, 66, 47, 33, 69,74, 76, 62, 69, 54, 67, 33, 71, 56, 41, 79, 37, 64, 37, 70, 49, 60,74, 79, 65, 79, 79, 75, 78, 72, 76, 31, 70, 24, 59, 28, 78, 61, 75,40, 51, 74, 53, 72, 71, 55, 67, 39, 60, 67, 60, 72, 81, 75, 52, 63,66, 38, 57, 58, 71, 40, 72, 70,  6, 81, 41, 79, 46, 28, 48, 50, 65,76, 75, 32, 75, 70, 46, 73, 61, 48, 55, 41, 52, 48, 53, 62, 65, 69,18, 79, 78, 66, 65, 72, 65, 69, 69, 75, 83, 62, 78, 51, 46, 47, 46,82, 76, 64, 54, 72, 62, 47, 59, 63, 72, 55, 63, 78, 68, 73, 82, 61,47, 52, 78, 75, 42, 53, 65, 60, 48, 59, 52, 58, 76, 63, 76, 58, 67,40, 69, 74, 48, 60, 56, 75, 75, 54, 26, 50, 67, 59, 50, 70, 70, 62,38, 42, 63, 39, 72, 63, 42, 79, 69, 53, 59, 72, 75, 65, 37, 71, 39,43, 64, 84, 75, 80, 54, 66, 44, 60, 72, 73, 50, 62, 62, 58, 42, 61,80, 55, 73, 59, 60, 67, 50, 64, 74, 58, 73, 60, 57, 30, 70, 72, 63,54, 77, 56, 53, 73, 49, 75, 49, 47, 71, 77, 19, 77, 72, 63, 49, 67,65, 47, 71, 77, 71, 71, 53, 78, 76, 67, 65, 61, 60, 21, 60, 59, 68,43, 64, 76, 59, 72, 64, 38, 61, 65, 77, 64, 52, 78, 80, 35, 37, 80,58, 62, 71, 23, 67, 39, 67, 62, 52, 49, 61, 76, 66, 59, 42, 68, 75,60, 52, 73, 60, 70, 62, 74, 74, 61, 51, 23,  2, 39, 69, 52, 40, 46,72, 82, 77, 71, 82, 75, 77, 37, 52, 53, 70, 69, 65, 29, 54, 55, 55,75, 62, 46, 66, 77, 75, 73, 77, 71, 72, 77, 55, 51, 58, 66, 58, 80,75, 47, 78, 59, 66, 30, 76, 63, 57, 29, 53, 78, 71, 48, 58, 45, 59,63, 46, 68, 73, 69, 42, 63, 76, 59, 61, 65, 55, 70, 68, 38, 21, 64,71, 74, 77, 61, 67, 73, 78, 49, 31, 46, 64, 72, 33, 68, 76, 82, 59,59, 52, 66, 63, 11, 61, 74, 60, 61, 73, 54, 70, 45, 42, 58, 73, 36,82, 75, 51, 79, 58, 59, 68,  0, 78, 52, 61, 65, 73, 46, 81, 63, 27,82, 68, 80, 61, 79, 69, 42, 66, 52, 45, 62, 27, 76, 62, 64, 67, 43,51, 71, 77, 43, 24, 53, 52, 36, 52, 76, 69, 65, 73, 62, 68, 70, 75,70, 48, 58, 56, 66, 55, 62, 77, 62, 65, 51, 70, 60, 76, 74, 65, 72,62, 72, 42, 41, 43, 77, 68, 76, 76, 72, 56, 80, 77, 66, 57,  5, 72,67, 78, 81, 77, 66, 35, 54, 37, 42, 71, 78, 66, 68, 33, 25, 54,  8,72, 63, 38, 45, 67, 56, 64, 36, 54, 70, 71, 64, 72, 57, 59, 66, 51,77, 72, 36, 71, 70, 80, 39, 72, 74, 50, 58, 79, 25, 35, 61, 63, 50,68, 60, 82, 58, 14, 32, 77, 70, 65, 81, 73, 48, 67, 67, 30, 69, 69,59, 67, 74, 46, 53, 64, 75, 67, 54, 75, 61, 67, 19, 30, 62, 70, 76,47, 70, 73, 34, 57, 71, 56, 68, 44, 38, 47, 66, 72, 46, 68, 72, 44,58, 42, 62, 79, 45, 75, 37, 44, 24, 78, 52, 40, 75, 45, 52, 34, 74,82,  6, 78, 70, 36, 42, 75, 58, 20,  4, 53, 57, 69, 71, 53, 61, 26,67, 60, 76, 44, 68, 78, 80, 76, 55, 66, 67, 69, 71, 58, 69, 42, 53,35, 74, 56, 59, 41, 71, 64, 49, 68, 58, 69, 52, 75, 47, 77, 63, 53,42, 44, 72, 60, 59, 55, 57, 35, 78, 66, 73, 61, 47, 74, 75, 71, 45,43, 60, 53, 54, 79, 69, 46, 57, 64, 58, 36, 51, 77, 64, 72, 64, 44,54, 69, 59, 54, 58, 59, 68, 58, 75, 73, 62, 78, 51, 60])\n",
    "\n",
    "print(f\"Mean - {life_expectancy.mean()}\\nMedian - {np.median(life_expectancy)}\\nMode - {stats.mode(life_expectancy).mode}\")\n",
    "print(f\"Stdev - {np.std(life_expectancy).round(2)}\\nSkewness - {stats.skew(life_expectancy).round(2)}\\nkurtosis - {stats.kurtosis(life_expectancy).round(2)}\")\n",
    "sns.histplot(life_expectancy, kde = True)\n",
    "plt.axvline(np.mean(life_expectancy), color = \"red\", label = \"Mean\")\n",
    "plt.axvline(np.median(life_expectancy), color = \"green\", label = \"Median\")"
   ]
  },
  {
   "cell_type": "code",
   "execution_count": null,
   "id": "82b65b51-749e-432e-9597-5308f349825e",
   "metadata": {},
   "outputs": [],
   "source": [
    "age = np.array([14, 14, 16, 18, 25, 30, 35, 38, 39, 43, 72])\n",
    "age.mean()"
   ]
  },
  {
   "cell_type": "code",
   "execution_count": null,
   "id": "1cb1e865-ba76-49b2-963b-066dc66dcd72",
   "metadata": {},
   "outputs": [],
   "source": [
    "np.median(age)  # 50% of people are under 30 yrs of age"
   ]
  },
  {
   "cell_type": "markdown",
   "id": "a8f1613a-b309-4e3f-a5e0-40f7809ebdfd",
   "metadata": {},
   "source": [
    "#### Empirical Rule\n",
    "\n",
    "- 68% of probability of getting value under 1 zscore\n",
    "- 95% of probability of getting value under 2 zscore\n",
    "- 99.7% of probability of getting value under 3 zscore\n",
    "\n",
    "datapoints beyond 3 zscore are outliers"
   ]
  },
  {
   "cell_type": "code",
   "execution_count": null,
   "id": "824f88f9-0652-44ba-b141-c24489989358",
   "metadata": {},
   "outputs": [],
   "source": [
    "weights = np.array([20.8,15.3,23.2,15.5,17.5,27.3,23.3,20.5,16.4,17.4,22.6,20.8,16.7,29.1,14.2,18.5,17.6,17.1,18.2,26.0,25.6,19.1,17.8,21.6,19.6,28.4,19.4,22.8,25.9,27.1,20.8,21.9,15.4,30.2,23.0,25.0,24.0,17.1,18.8,25.8,23.2,14.9,20.4,15.0,12.3,17.6,10.3,12.1,25.8,21.9,9.9,24.8,17.9,22.0,27.6,21.7,26.3,19.9,16.6,17.8,8.0,21.5,17.9,33.6,20.4,21.9,19.8,15.3,25.6,24.7,10.6,22.1,18.8,9.8,14.9,18.7,27.6,21.2,25.1,21.9,22.1,19.6,10.4,17.2,18.3,21.2,21.1,21.0,19.1,14.8,19.2,18.3,22.1,14.1,19.3,16.2,25.6,14.8,22.3,25.0,20.8,21.2,16.6,15.0,15.6,24.7,26.1,18.1,14.1,25.5,21.4,32.7,13.8,27.4,15.8,18.4,21.3,27.5,15.8,27.2,26.9,16.2,22.6,15.3,22.5,26.6,24.7,28.4,28.0,19.9,9.9,16.5,19.5,11.7,27.9,28.1,21.1,20.0,14.5,25.9,13.3,15.8,21.3,10.7,14.6,19.9,21.6,26.6,26.0,23.7,20.5,11.8,15.6,14.9,24.6,20.9,24.5,26.8,25.3,30.9,26.1,14.9,17.9,18.5,25.7,16.4,8.2,24.1,19.5,13.1,17.6,13.4,24.4,16.4,19.9,12.9,14.3,25.4,15.4,17.7,17.3,18.7,16.1,7.4,18.4,16.2,18.7,19.8,25.6,23.7,22.5,20.5,14.9,25.0,4.7,6.8,21.8,22.2,24.4,13.4,32.1,26.6,27.2,17.8,19.6,16.8,14.4,24.9,12.6,15.0,15.4,10.1,12.9,15.9,22.3,15.0,24.4,21.0,17.2,25.2,15.6,24.6,24.9,13.6,10.3,25.6,18.3,25.1,18.1,20.2,29.1,25.7,14.9,11.4,19.2,21.5,13.9,19.5,19.1,23.0,26.8,14.8,24.4,14.7,24.3,24.5,19.9,12.1,21.2,16.4,19.5,25.8,8.5,19.8,23.4,21.3,14.7,17.9,15.7,14.9,5.2,3.8,31.5,17.4,16.0,20.7,18.4,8.1,22.9,32.8,19.0,33.0,26.0,14.2,18.4,15.1,29.5,13.9,5.1,28.1,18.2,10.5,27.8,19.4,13.1,21.9,18.6,11.0,19.7,20.2,20.1,17.6,21.6,21.2,30.0,26.1,20.5,22.8,20.5,19.6,18.0,19.8,21.8,7.0,21.4,22.5,18.9,15.1,22.0,25.5,11.1,15.4,21.5,13.5,11.2,19.3,25.5,20.2,18.3,15.3,40.3,22.1,23.2,17.1,19.4,15.3,28.6,23.0,19.4,16.7,20.9,21.1,15.9,29.6,17.0,19.0,20.8,20.4,9.8,24.0,15.2,26.2,22.0,21.4,16.2,29.2,21.4,28.9,16.9,21.9,11.2,19.0,21.2,20.8,9.3,12.5,26.9,10.7,18.9,17.5,23.3,12.5,13.4,26.3,23.0,21.8,25.6,20.7,18.0,32.5,25.6,8.4,19.8,24.5,18.0,24.7,21.3,12.9,21.6,29.1,25.8,26.4,27.0,25.6,19.0,20.0,10.4,17.5,19.5,17.5,21.1,19.6,23.1,18.2,27.0,18.5,19.3,25.4,20.8,20.8,20.6,20.4,23.1,17.6,18.7,16.2,18.9,15.2,22.5,10.0,21.1,29.3,17.8,27.1,16.8,18.0,28.3,16.5,19.8,16.7,23.2,23.6,18.5,29.8,24.2,22.4,29.3,29.3,21.5,15.5,23.0,12.8,20.8,11.5,20.0,15.2,18.7,17.2,22.5,13.5,13.1,17.6,12.1,23.2,18.0,24.2,7.3,17.0,17.0,22.7,22.1,18.0,15.6,13.9,17.7,14.7,26.1,12.2,20.3,17.8,16.5,10.2,18.2,22.2,26.3,26.6,19.2,19.5,14.3,15.6,13.9,20.2,11.6,31.2,6.3,23.4,21.1,22.0,8.5,11.5,19.3,17.7,11.9,14.8,16.9,16.1,13.0,17.9,22.0,14.2,13.9,25.4,21.1,16.3,16.4,19.3,18.3,23.0,27.4,24.2,14.9,12.7,16.7,17.8,19.5,14.9,23.9,15.2,25.4,22.9,25.2,12.7,26.0,26.7,15.8,24.9,24.4,15.5,20.0,7.8,20.6,19.0,29.8,14.1,14.1,17.8,24.9,20.7,19.8,24.2,16.7,21.3,23.7,20.9,23.6,25.3,9.9,21.7,16.7,10.3,18.9,25.2,12.7,27.4,21.4,23.0,11.8,22.1,13.0,20.0,27.2,19.8,16.9,18.8,25.0,9.0,19.0,11.1,19.6,24.0,29.3,20.7,10.7,26.9,18.6,21.5,26.2,21.5,27.9,22.1,25.1,27.9,18.9,26.4,20.0,25.6,27.5,17.7,18.9,27.0,14.9,27.6,19.6,18.1,19.2,20.2,16.4,16.6,14.1,8.9,17.6,17.3,21.0,14.3,18.7,19.9,12.3,24.4,23.3,25.1,27.9,15.1,18.3,23.2,17.8,15.5,22.0,23.0,20.4,15.5,22.8,19.5,22.2,22.3,25.1,15.0,19.9,23.8,18.8,17.0,7.9,24.0,31.4,17.6,27.4,28.1,17.9,18.3,17.3,21.6,17.8,22.4,19.2,22.8,21.4,19.1,22.4,29.4,13.6,15.0,28.8,18.2,25.8,15.1,23.6,12.2,10.1,15.4,27.0,17.2,11.6,20.8,18.8,20.4,18.1,20.9,31.1,19.0,18.5,17.9,23.1,32.0,21.7,23.4,17.1,19.0,18.1,19.3,18.8,25.8,19.8,22.1,15.8,15.9,21.3,18.4,17.8,23.1,22.2,15.3,20.0,20.8,30.2,24.0,12.6,9.2,21.7,19.8,16.6,16.5,18.0,21.1,10.0,23.5,26.9,23.7,16.8,12.7,29.8,17.9,18.6,19.9,23.6,26.4,18.2,18.1,19.2,15.3,19.4,20.2,33.2,26.2,26.9,15.3,18.9,18.3,27.6,29.0,22.5,30.2,22.8,13.8,21.4,27.3,25.1,26.7,7.9,27.3,21.9,15.6,18.1,19.9,23.0,22.9,15.0,16.5,18.9,24.8,4.9,16.7,20.2,7.9,19.3,16.1,22.5,27.4,29.6,18.7,21.9,9.9,24.6,10.1,21.5,20.6,11.4,14.0,18.4,6.5,12.8,25.5,19.5,14.6,20.5,18.9,14.8,21.7,17.3,33.1,23.1,25.1,30.2,17.0,13.2,29.2,14.8,13.5,22.3,9.0,19.2,19.1,20.4,14.2,20.6,19.3,27.6,21.4,15.5,23.4,13.2,12.1,23.2,33.8,17.5,19.1,23.2,12.6,24.6,14.6,19.5,20.1,13.4,12.4,14.6,16.8,27.5,19.5,11.5,15.4,24.0,21.1,21.8,29.1,18.9,21.3,18.9,20.1,13.7,19.7,17.0,34.0,24.0,16.9,19.3,19.9,19.4,19.3,21.5,20.8,20.1,27.1,23.5,22.9,19.4,14.8,28.6,23.2,8.7,30.1,19.1,15.1,22.3,17.4,23.8,18.1,20.4,23.1,22.4,13.7,25.5,25.9,21.3,21.6,21.4,29.7,18.1,10.3,23.6,21.0,13.1,10.6,20.8,21.7,19.4,21.4,25.1,16.6,11.1,13.8,21.1,22.0,20.8,19.1,24.4,15.2,25.1,19.2,10.5,21.8,17.5,19.6,8.2,22.1,21.8,13.6,15.1,28.4,22.0,28.6,25.3,29.3,19.1,20.8,10.8,23.6,13.5,23.2,16.9,22.9,21.3,21.8,31.3,21.1,17.1,25.5,26.1,19.2,19.9,26.4,34.9,17.4,24.2,17.5,21.7,11.3,4.9,21.3,17.2,15.6,22.4,28.2,22.3,21.3,20.5,18.4,17.5,9.7,21.4,12.8,20.0,20.7,16.1,26.2,20.9,19.2,23.6,22.4,31.7,22.5,20.3,13.8,23.3,17.4,3.0,16.6,17.1,27.8,17.4,13.7,14.1,26.4,23.9,21.2,27.4,9.9,18.7,17.0,21.1,22.9,8.7,19.1,25.1,21.0,22.3,21.5,19.6,17.6,22.7,14.7,11.5,28.6,19.9,13.5,27.3,19.6,18.7,14.0,11.6,15.0,26.5,21.7,22.1,5.7,18.3,23.4,19.5,15.8,18.6,19.3,27.0,21.7,21.9,20.7,13.5,29.7,22.3,24.0,31.1,23.9,15.7,19.6])\n",
    "\n",
    "sns.histplot(weights, kde = True)"
   ]
  },
  {
   "cell_type": "code",
   "execution_count": null,
   "id": "b2d6ad8b-80c1-4b8e-853f-1809bdace298",
   "metadata": {},
   "outputs": [],
   "source": [
    "np.std(weights)"
   ]
  },
  {
   "cell_type": "code",
   "execution_count": null,
   "id": "ebef35d6-71ba-45b3-b78f-bafa86e57660",
   "metadata": {},
   "outputs": [],
   "source": [
    "age = 12.3\n",
    "std = 5.4\n",
    "mean = 19.8\n",
    "zscore = (age - mean) / std\n",
    "zscore"
   ]
  },
  {
   "cell_type": "code",
   "execution_count": null,
   "id": "ea5c8941-1a9d-4e6e-a31a-4e7745b1151e",
   "metadata": {},
   "outputs": [],
   "source": [
    "zscores = stats.zscore(weights)\n",
    "sns.histplot(zscores, kde = True)"
   ]
  },
  {
   "cell_type": "markdown",
   "id": "6c5d2a06-98bc-40c2-9dd5-401186e95974",
   "metadata": {},
   "source": [
    "68% propbability of weight within 25.2kg and 14.4kg"
   ]
  },
  {
   "cell_type": "code",
   "execution_count": null,
   "id": "2c801bdc-27dd-4359-ad89-bd4fe17432cc",
   "metadata": {},
   "outputs": [],
   "source": [
    "data = pd.read_csv(\"profits.csv\")\n",
    "data.head()"
   ]
  },
  {
   "cell_type": "code",
   "execution_count": null,
   "id": "22ffcc4d-59e3-461b-86f0-f8206f00e379",
   "metadata": {},
   "outputs": [],
   "source": [
    "data.Profit.mean()"
   ]
  },
  {
   "cell_type": "code",
   "execution_count": null,
   "id": "0bd3bc68-1072-4892-a288-de14618ecf3d",
   "metadata": {},
   "outputs": [],
   "source": [
    "data.Profit.std()"
   ]
  },
  {
   "cell_type": "code",
   "execution_count": null,
   "id": "390f97a0-577d-4637-95f5-2a8368492a4e",
   "metadata": {},
   "outputs": [],
   "source": [
    "sns.histplot(data.Profit, kde = True)"
   ]
  },
  {
   "cell_type": "code",
   "execution_count": null,
   "id": "1dbb0e1f-0c66-4c70-bd31-d82b91520e35",
   "metadata": {},
   "outputs": [],
   "source": [
    "stats.skew(data.Profit)"
   ]
  },
  {
   "cell_type": "code",
   "execution_count": null,
   "id": "a709ac2f-3c4a-489b-9b9f-4025ac72df36",
   "metadata": {},
   "outputs": [],
   "source": [
    "stats.kurtosis(data.Profit)"
   ]
  },
  {
   "cell_type": "code",
   "execution_count": null,
   "id": "dd4f2729-db20-4923-a0b5-560843fe04f3",
   "metadata": {},
   "outputs": [],
   "source": [
    "age = np.array([10, 2, 3, 4, 5, 6, 7, 8])\n",
    "stats.mode(age)"
   ]
  },
  {
   "cell_type": "code",
   "execution_count": null,
   "id": "56666543-01c9-4d45-bdfd-d8456b0a9eab",
   "metadata": {},
   "outputs": [],
   "source": []
  },
  {
   "cell_type": "markdown",
   "id": "db404fcb-b51f-4b6c-b0e8-3f58fd41b5f1",
   "metadata": {},
   "source": [
    "<hr><hr>"
   ]
  },
  {
   "cell_type": "markdown",
   "id": "5d249eb7-ceeb-4d1d-ac43-b99f465a3a50",
   "metadata": {},
   "source": [
    "## Explolatory Data Analysis"
   ]
  },
  {
   "cell_type": "markdown",
   "id": "5ff5b3fc-426c-4c43-b8f6-23e50785bc17",
   "metadata": {},
   "source": [
    "### Handling Null/Missing Values\n",
    "\n",
    "- Deletion:\n",
    "    - Listwise Deletion: Remove entire rows containing null values.\n",
    "    - Pairwise Deletion: Analyze data based on available pairs of variables, ignoring rows with null values in other variables.\n",
    "- Imputation:\n",
    "    - Mean/Median/Mode Imputation: Replace null values with the mean, median, or mode of the respective column.\n",
    "    - Forward Fill/Backward Fill: Fill null values with the preceding or succeeding non-null value in the same column.\n",
    "    - Linear Interpolation: Interpolate null values using linear interpolation based on neighboring data points.\n",
    "    - K-Nearest Neighbors (KNN) Imputation: Use the values of nearest neighbors to impute null values.\n",
    "    - Random Imputation: Replace null values with random values from the same column's distribution.\n",
    "- Bucketing: Group data into buckets or categories and treat null values as a separate category."
   ]
  },
  {
   "cell_type": "code",
   "execution_count": null,
   "id": "2bdfd2c7-365b-4d73-af8d-c4906d16db07",
   "metadata": {},
   "outputs": [],
   "source": [
    "ages = pd.DataFrame({'Age' : [49, 45, 40, 29, 57, np.nan, 49, 26, 32, np.nan, 27, 20, np.nan, 40, 37, 32, 39, 43]})"
   ]
  },
  {
   "cell_type": "markdown",
   "id": "1c767843-082c-40f1-a3a0-aea47946cca4",
   "metadata": {},
   "source": [
    "###### Ex. Check if there is any null value in the data"
   ]
  },
  {
   "cell_type": "code",
   "execution_count": null,
   "id": "6c33510c-22c9-495d-92f6-d38323496fbc",
   "metadata": {},
   "outputs": [],
   "source": [
    "ages.isna().any()"
   ]
  },
  {
   "cell_type": "code",
   "execution_count": null,
   "id": "684acc9a-71f4-441c-815c-e80feb6e59d1",
   "metadata": {},
   "outputs": [],
   "source": [
    "ages.isna().sum()"
   ]
  },
  {
   "cell_type": "markdown",
   "id": "d6d977dd-15fc-4b78-8371-e2e7563c8c89",
   "metadata": {},
   "source": [
    "#### Mean Impute"
   ]
  },
  {
   "cell_type": "code",
   "execution_count": null,
   "id": "518a14b2-6a3b-4dd4-8940-bc06b70d4887",
   "metadata": {},
   "outputs": [],
   "source": [
    "ages.fillna(ages.mean())  # Mean Impute"
   ]
  },
  {
   "cell_type": "code",
   "execution_count": null,
   "id": "4fa2961f-dd76-4861-b9a0-df01f61cb54e",
   "metadata": {},
   "outputs": [],
   "source": [
    "from sklearn.impute import SimpleImputer\n",
    "\n",
    "imputer = SimpleImputer(strategy=\"most_frequent\")\n",
    "imputer.fit_transform(ages)"
   ]
  },
  {
   "cell_type": "markdown",
   "id": "2f123c29-5f4a-4626-8397-514b98fbc069",
   "metadata": {},
   "source": [
    "#### Drop Nulls"
   ]
  },
  {
   "cell_type": "code",
   "execution_count": null,
   "id": "442bb128-bb5d-4128-8cdd-82fe3a2a4486",
   "metadata": {},
   "outputs": [],
   "source": [
    "data = pd.DataFrame({'Age' : [49, 45, 40, 29, 57, np.nan, 49, 26, 32, np.nan, 27, 20, np.nan, 40, 37, 32, 39, 43, 30, np.nan],\n",
    "                    \"Name\" : ['Claire', 'Darrin', 'Sean', 'Brosina', 'Andrew', 'Irene', 'Harold','Pete', 'Alejandro', 'Zuschuss', 'Ken', 'Sandra', 'Emily', 'Eric','Tracy', 'Matt', 'Gene', 'Steve', 'Linda', np.nan]})"
   ]
  },
  {
   "cell_type": "code",
   "execution_count": null,
   "id": "c516064b-573b-4e8e-9177-60f3e9989aac",
   "metadata": {},
   "outputs": [],
   "source": [
    "data.isna().sum()"
   ]
  },
  {
   "cell_type": "code",
   "execution_count": null,
   "id": "945b5826-11b5-4815-97bd-f73afb57e1c6",
   "metadata": {},
   "outputs": [],
   "source": [
    "data.dropna()  # Removes row where even 1 column is null"
   ]
  },
  {
   "cell_type": "code",
   "execution_count": null,
   "id": "f2a979bc-dd42-48f4-a270-200486a13785",
   "metadata": {},
   "outputs": [],
   "source": [
    "data.dropna(how = \"all\")  # Removes row where all columns are null"
   ]
  },
  {
   "cell_type": "markdown",
   "id": "e1ac4c20-5dd5-4a0c-a1ad-dec0bbc5edf1",
   "metadata": {},
   "source": [
    "#### Example from coffee sales file to handle nulls"
   ]
  },
  {
   "cell_type": "code",
   "execution_count": null,
   "id": "2993aed8-9d81-4784-8cda-26a63da087e8",
   "metadata": {},
   "outputs": [],
   "source": [
    "# Read the data from the file\n",
    "df = pd.read_csv(\"coffee_sales.csv\", header=3)\n",
    "df.head()"
   ]
  },
  {
   "cell_type": "code",
   "execution_count": null,
   "id": "3b6dab88-f054-491e-9f99-d28017cff712",
   "metadata": {},
   "outputs": [],
   "source": [
    "df.isna().sum()"
   ]
  },
  {
   "cell_type": "code",
   "execution_count": null,
   "id": "b890c00b-45f5-4278-9820-c4045acf93e7",
   "metadata": {},
   "outputs": [],
   "source": [
    "df.dropna(how = \"all\", inplace=True)  # drops entire null rows"
   ]
  },
  {
   "cell_type": "code",
   "execution_count": null,
   "id": "816d520e-5934-4614-8277-19614348353f",
   "metadata": {},
   "outputs": [],
   "source": [
    "df.dropna(axis=1, how=\"all\", inplace=True)  # drops entire null columns (axis = 1)\n",
    "df.head()"
   ]
  },
  {
   "cell_type": "code",
   "execution_count": null,
   "id": "c035a03a-961e-420d-b5c5-bccc2aac37b0",
   "metadata": {},
   "outputs": [],
   "source": [
    "df.dtypes"
   ]
  },
  {
   "cell_type": "markdown",
   "id": "aec6e2c7-cbbc-471a-845b-edf4be8b5a76",
   "metadata": {},
   "source": [
    "###### Ex. Set null values for Target Profit column as 0 "
   ]
  },
  {
   "cell_type": "code",
   "execution_count": null,
   "id": "525c7502-371c-47c9-89f0-c91f5699e4f3",
   "metadata": {},
   "outputs": [],
   "source": [
    "df[\"Target Profit\"].fillna(\"0\", inplace=True)"
   ]
  },
  {
   "cell_type": "code",
   "execution_count": null,
   "id": "f994f1e7-6105-47a4-a38a-8baa192cc4a8",
   "metadata": {},
   "outputs": [],
   "source": [
    "df.isna().sum()"
   ]
  },
  {
   "cell_type": "markdown",
   "id": "47bc8fe6-1879-47b1-9745-aaf302d685ad",
   "metadata": {},
   "source": [
    "###### Ex. replace vowels with * "
   ]
  },
  {
   "cell_type": "code",
   "execution_count": null,
   "id": "9a92690a-4cff-4b67-82af-40cb9874d423",
   "metadata": {},
   "outputs": [],
   "source": [
    "trans_obj = str.maketrans(\"aeiou\", \"*****\")\n",
    "\"singapore\".translate(trans_obj)"
   ]
  },
  {
   "cell_type": "code",
   "execution_count": null,
   "id": "a2c4de4b-7fbb-44d4-a923-d7f316804d73",
   "metadata": {},
   "outputs": [],
   "source": [
    "trans_obj = str.maketrans(\"\", \"\", \"$,\")\n",
    "\n",
    "df.Sales = df.Sales.str.translate(trans_obj).astype(float)\n",
    "df.Profit = df.Profit.str.translate(trans_obj).astype(float)\n",
    "df[\"Target Profit\"] = df[\"Target Profit\"].str.translate(trans_obj).astype(float)\n",
    "df[\"Target Sales\"] = df[\"Target Sales\"].str.translate(trans_obj).astype(float)"
   ]
  },
  {
   "cell_type": "code",
   "execution_count": null,
   "id": "aa72fd8c-6df4-4aad-bfb4-c7b487de19cc",
   "metadata": {},
   "outputs": [],
   "source": [
    "df.dtypes"
   ]
  },
  {
   "cell_type": "code",
   "execution_count": null,
   "id": "dd47fee3-a7fb-4ac5-a5d8-f5848dfad4c8",
   "metadata": {},
   "outputs": [],
   "source": [
    "df.head()"
   ]
  },
  {
   "cell_type": "code",
   "execution_count": null,
   "id": "628c790d-5dcb-4e44-b5cb-08d7c093cd31",
   "metadata": {},
   "outputs": [],
   "source": [
    "# Read the data from the file\n",
    "df = pd.read_csv(\"coffee_sales.csv\", header=3)\n",
    "df.dropna(how = \"all\", axis = 1, inplace = True)\n",
    "df.head()"
   ]
  },
  {
   "cell_type": "code",
   "execution_count": null,
   "id": "5f2a15dc-2730-432c-8f89-1605495449e9",
   "metadata": {},
   "outputs": [],
   "source": [
    "# Read the data from the file\n",
    "df = pd.read_csv(\"coffee_sales.csv\", header=3).dropna(how = \"all\", axis = 1)\n",
    "df.head()"
   ]
  },
  {
   "cell_type": "markdown",
   "id": "68939d30-c9c2-4091-bec3-6fcd8e58b0ff",
   "metadata": {},
   "source": [
    "### Handling Outliers - \n",
    "\n",
    "#### `Z-Score Method:`\n",
    "\n",
    "- The z-score method involves calculating the z-score for each data point, which represents the number of standard deviations away from the mean.\n",
    "Data points with z-scores beyond a certain threshold (e.g., |z-score| > 3) are considered outliers and can be removed or treated separately.\n",
    "The z-score method is sensitive to the mean and standard deviation of the data, and it assumes that the data is normally distributed.\n",
    "This method is useful when the data is approximately normally distributed and when the goal is to identify outliers based on their deviation from the mean.\n",
    "\n",
    "#### `IQR Method:`\n",
    "\n",
    "- The IQR method involves calculating the interquartile range (IQR), which is the difference between the third quartile (Q3) and the first quartile (Q1) of the data.\n",
    "Outliers are defined as data points that fall below Q1 - 1.5 * IQR or above Q3 + 1.5 * IQR.\n",
    "The IQR method is robust to outliers and does not assume any specific distribution of the data.\n",
    "This method is useful when the data is skewed or not normally distributed, as it focuses on the middle 50% of the data and is less influenced by extreme values.\n",
    "In general, if the data is approximately normally distributed and the goal is to identify outliers based on their deviation from the mean, the z-score method may be more appropriate. On the other hand, if the data is skewed or not normally distributed, or if the goal is to identify outliers based on their relative position within the dataset, the IQR method may be a better choice."
   ]
  },
  {
   "cell_type": "code",
   "execution_count": null,
   "id": "d780904c-9e5e-402e-8c95-73098cde4768",
   "metadata": {},
   "outputs": [],
   "source": [
    "salaries = pd.Series([29756,20014,20347,57214,41327,40209,93390,122004,17725,47210,44386,48407,16837,83731,9130,66723,72525,57347,10941,18726,8913,59251,13090,37983,134656,45499,59533,82998,31440,11672,16295,30676,21822,35263,27340,65522,23380,11662,7066,22403,41230,46693,22478,82491,7347,16263,72672,20522,38409,30175,31383,98820,13605,45096,12397,90988,6602,29786,102559,31790,29768,50085,22649,24426,4059,95210,68657,17799,37370,46160,35133,40969,57201,54757,17973,13610,46004,91341,24474,48005,9473,10277,71287,9383,36492,104352,13473,51293,51911,10026,39992,125885,44462,76531,41512,47267,33231,14180,44474,55702,39554,8359,51892,98574,43638,90568,40508,34129,98497,74784,63383,47197,83519,26458,38642,9629,18404,47324,15793,120345,61126,64613,57964,47582,77944,27082,51891,98126,69008,23284,49785,72406,56418,36769,58715,42999,47333,45733,141091,3848,57584,48356,95301,95269,49894,101380,44028,54577,71055,32066,26596,66653,3179,44484,62889,62952,50903,74656,50733,38180,59410,105003,73854,33579,150293,26348,6769,26315,53038,35766,50517,64714,27523,26867,46607,9882,60052,46653,42143,37371,14475,103629,55402,6149,65128,32861,27603,75553,35641,21457,106916,50369,37731,6473,73858,7716,21144,34340,27917,18150,49270,16344,84532,28616,18452,84678,17990,26463,13671,70005,26237,7245,16941,64383,3317,7275,26981,12600,36983,40054,7283,82140,65120,8259,44235,30682,68578,80737,14009,88942,48374,43148,11447,32203,67168,50149,8607,9680,35442,47306,67316,52503,89884,18337,11798,40659,90852,25479,4737,107231,40006,34020,61695,12128,14126,71024,42150,54591,93625,23809,9698,50910,75967,36494,53497,28006,16650,50352,42133,10915,50698,19962,30772,23430,75790,72083,162101,75728,60565,40074,58299,18280,128972,76801,38314,12744,25607,22188,31862,15955,31175,11044,44390,49677,33251,85617,81684,48054,63108,33461,39505,51449,47547,49199,152777,49820,23147,35010,44921,39633,16546,35436,32229,28603,31804,21668,102866,58514,140647,22149,26732,88552,77813,75665,38038,123394,9457,28241,52657,9075,148287,70362,27398,18672,19003,17600,114609,4318,19729,23148,32015,87090,5342,56550,38458,5400,50686,46353,14777,19302,16606,21645,37117,22488,5465,28650,57321,34736,43956,37151,9776,37461,17631,98557,18773,15927,62892,35395,23658,27429,22496,60550,36644,38050,79320,7934,30101,71573,14389,4701,31291,11384,39725,123530,44408,58972,95799,10389,46232,3432,40560,35984,4665,169950,111402,18065,21540,70358,51973,26344,101435,5668,28783,6701,64979,30591,53626,89555,54550,47720,72312,32532,81224,32367,12856,45452,23288,68436,11028,48698,59988,25334,12898,76129,76496,66076,28330,66192,34221,24405,81851,52335,38502,25430,29421,7258,23734,12534,60625,23697,17543,35830,5033,17253,27189,48127,91649,58796,46586,42569,40202,70022,3922,41658,66536,67928,13621,71191,63947,89954,7543,20366,73226,55216,63823,20147,28646,62441,10910,21883,40687,5770,12349,59303,82027,45440,12710,126532,87569,69111,27004,13098,37670,125784,37616,46404,36971,20823,44255,53184,53752,9362,16464,13631,24283,57198,27205,60289,35590,21193,59034,71649,40198,22347,37446,30613,39731,23986,65414,6705,23140,42971,9792,23886,16397,17598,42024,32014,78351,31432,3978,34883,19845,10204,56595,25611,58573,31771,60213,24678,85938,22206,27750,43462,24977,22131,65617,70257,71995,75183,106608,54436,44381,61439,41163,81099,34095,36953,14703,23992,105384,20334,34145,48786,72804,71943,32757,77178,6381,77041,85234,31634,62231,7004,66194,23721,18122,82066,43339,13417,28110,26647,11703,160005,55765,78251,35519,22708,66840,6126,37952,31632,55294,13842,57847,43009,57445,41641,13437,41892,8126,55609,71439,65768,3032,12225,16758,12150,110890,58822,80581,12690,69074,49169,118185,9745,24482,35611,21100,13245,25269,26177,60738,119320,13615,120677,36560,14048,16249,73591,11789,42419,8691,44373,5698,38758,39244,36214,7654,26381,42371,42425,5167,38173,28250,11362,41671,38101,22759,29654,16846,42528,32035,51949,34841,65641,94153,55081,42157,53629,5482,6064,33333,53055,38653,54655,25486,28830,18681,38431,89032,38939,44533,44382,7073,93080,39698,68653,14900,4180,26923,27360,30629,33018,23166,4915,50098,31775,14625,48831,53413,50677,16354,24128,49869,23038,53312,43846,11263,19507,11322,86895,60729,144564,33429,36964,4437,48013,39779,71605,45697,20501,3059,39338,3228,22719,37974,72431,8486,24363,19558,64046,35799,20259,79873,13544,36404,55886,13904,42955,43750,17743,107390,86058,40137,65042,29084,8999,6357,29914,45867,75705,19543,64725,60567,58452,5015,50256,60877,91907,42209,13678,7797,23545,65227,86909,18614,12483,34314,52497,28754,112096,30756,16519,18075,9958,14076,16114,5200,40241,14275,53117,50561,27253,3998,85851,32716,44901,40698,42272,67106,73621,23828,50619,64147,89432,67240,119266,15347,50315,39374,27347,21786,7037,33320,9277,14225,25474,50546,61235,64796,38341,46464,38388,53785,8315,29782,35079,5943,9616,73662,52409,28236,40773,84419,49739,8678,46548,16583,15864,5920,42891,6635,91882,54534,32013,105413,11681,18153,98213,60754,53642,40221,43931,60076,9481,17046,26098,22609,21386,2797,11266,59378,57464,46271,10182,53724,89160,33549,19557,8022,43213,62795,42025,74820,49326,55701,65268,49257,38526,47121,32407,100592,21980,10691,10664,13298,58489,81011,24481,30354,5334,11554,62781,80241,17457,13682,12911,32340,54094,4987,15562,19126,58105,62497,34333,74015,78119,27715,20098,37580,14200,24208,36266,68885,66174,3965,143792,35892,43824,14009,7294,69932,11540,31644,55554,6756,69754,65940,26128,88712,11048,14382,34369,3908,30339,9290,22745,49669,93604,62655,50036,60244,52406,44821,37915,4894,38413,44612,19168,26668,20326,45231,12448,35082,121782,4863,7291,24332,42551,28462,67887,21226,41026,137990,53668,40922,15485,21118,118903,77715,24519,58873,61054,25674,2960,30624,103189,48284,40536,56053,37084,50773,11615,83270,4311,30367,6372,56358,14518,10602,35857,93798,51500,69148,51610,27676,16157,92788,4395,23687,11944,57418,71058,37037,23290,34201,84364,68400,24135,18615,15050,113480,83720,52761,26031,43187,11278,3710,27465,97386,3393,65371,5707,106125,46278,12099,17823,39132,34422])"
   ]
  },
  {
   "cell_type": "markdown",
   "id": "0da18055-e8a7-4793-85c1-58112f4a73eb",
   "metadata": {},
   "source": [
    "#### IQR Method"
   ]
  },
  {
   "cell_type": "code",
   "execution_count": null,
   "id": "a32a4dac-f54f-4a7d-b4b5-037c6f43d716",
   "metadata": {},
   "outputs": [],
   "source": [
    "sns.histplot(salaries, kde = True)"
   ]
  },
  {
   "cell_type": "markdown",
   "id": "9282db3a-1a30-45ec-8da2-72d837eff337",
   "metadata": {},
   "source": [
    "#### Box and Whisker Plot"
   ]
  },
  {
   "cell_type": "code",
   "execution_count": null,
   "id": "432280a8-dad3-44cc-8bcf-f0a16ba2210d",
   "metadata": {},
   "outputs": [],
   "source": [
    "sns.boxplot(salaries)"
   ]
  },
  {
   "cell_type": "code",
   "execution_count": null,
   "id": "c872c853-e8d2-44b1-a3e8-5c08d65eb178",
   "metadata": {
    "scrolled": true
   },
   "outputs": [],
   "source": [
    "salaries.describe()  # Pandas function applicable to Series and Dataframes"
   ]
  },
  {
   "cell_type": "code",
   "execution_count": null,
   "id": "1dafb1b4-7422-4d19-b531-a4f2240a0f50",
   "metadata": {},
   "outputs": [],
   "source": [
    "Q1 = np.percentile(salaries, 25)  # Numpy function applicable to all\n",
    "Q3 = np.percentile(salaries, 75)\n",
    "IQR = Q3 - Q1  # Inter quartile range\n",
    "\n",
    "min_w = Q1 - 1.5 * IQR\n",
    "max_w = Q3 + 1.5 * IQR"
   ]
  },
  {
   "cell_type": "markdown",
   "id": "e8ab467a-2009-4a27-97fd-4e9214c34437",
   "metadata": {},
   "source": [
    "##### Note - All the data points beyond min or max whisker are treated as outliers"
   ]
  },
  {
   "cell_type": "markdown",
   "id": "0e515f12-47f5-4690-a161-a14f31042b01",
   "metadata": {},
   "source": [
    "###### Ex. Count the number of outliers"
   ]
  },
  {
   "cell_type": "code",
   "execution_count": null,
   "id": "4189a861-c765-4623-bb0f-eab57fb37001",
   "metadata": {},
   "outputs": [],
   "source": [
    "((salaries < min_w) | (salaries > max_w)).sum()"
   ]
  },
  {
   "cell_type": "code",
   "execution_count": null,
   "id": "47c03905-b089-4300-97bb-b036ef65e022",
   "metadata": {},
   "outputs": [],
   "source": [
    "salaries[np.logical_not(salaries.between(min_w, max_w))].size"
   ]
  },
  {
   "cell_type": "markdown",
   "id": "b67714b6-676c-42df-ad62-8177de8fc31f",
   "metadata": {},
   "source": [
    "###### Ex. Remove the outliers"
   ]
  },
  {
   "cell_type": "code",
   "execution_count": null,
   "id": "b050c75e-b6a0-48dd-8a7d-713c5b633f18",
   "metadata": {},
   "outputs": [],
   "source": [
    "salaries[salaries.between(min_w, max_w)]"
   ]
  },
  {
   "cell_type": "markdown",
   "id": "2200a16c-e21f-4707-93fc-abbead830207",
   "metadata": {},
   "source": [
    "#### Z-score Method"
   ]
  },
  {
   "cell_type": "code",
   "execution_count": null,
   "id": "c6e192df-8edb-4a1b-a401-b2d9762e0027",
   "metadata": {},
   "outputs": [],
   "source": [
    "weights = np.array([20.8,15.3,23.2,15.5,17.5,27.3,23.3,20.5,16.4,17.4,22.6,20.8,16.7,29.1,14.2,18.5,17.6,17.1,18.2,26.0,25.6,19.1,17.8,21.6,19.6,28.4,19.4,22.8,25.9,27.1,20.8,21.9,15.4,30.2,23.0,25.0,24.0,17.1,18.8,25.8,23.2,14.9,20.4,15.0,12.3,17.6,10.3,12.1,25.8,21.9,9.9,24.8,17.9,22.0,27.6,21.7,26.3,19.9,16.6,17.8,8.0,21.5,17.9,33.6,20.4,21.9,19.8,15.3,25.6,24.7,10.6,22.1,18.8,9.8,14.9,18.7,27.6,21.2,25.1,21.9,22.1,19.6,10.4,17.2,18.3,21.2,21.1,21.0,19.1,14.8,19.2,18.3,22.1,14.1,19.3,16.2,25.6,14.8,22.3,25.0,20.8,21.2,16.6,15.0,15.6,24.7,26.1,18.1,14.1,25.5,21.4,32.7,13.8,27.4,15.8,18.4,21.3,27.5,15.8,27.2,26.9,16.2,22.6,15.3,22.5,26.6,24.7,28.4,28.0,19.9,9.9,16.5,19.5,11.7,27.9,28.1,21.1,20.0,14.5,25.9,13.3,15.8,21.3,10.7,14.6,19.9,21.6,26.6,26.0,23.7,20.5,11.8,15.6,14.9,24.6,20.9,24.5,26.8,25.3,30.9,26.1,14.9,17.9,18.5,25.7,16.4,8.2,24.1,19.5,13.1,17.6,13.4,24.4,16.4,19.9,12.9,14.3,25.4,15.4,17.7,17.3,18.7,16.1,7.4,18.4,16.2,18.7,19.8,25.6,23.7,22.5,20.5,14.9,25.0,4.7,6.8,21.8,22.2,24.4,13.4,32.1,26.6,27.2,17.8,19.6,16.8,14.4,24.9,12.6,15.0,15.4,10.1,12.9,15.9,22.3,15.0,24.4,21.0,17.2,25.2,15.6,24.6,24.9,13.6,10.3,25.6,18.3,25.1,18.1,20.2,29.1,25.7,14.9,11.4,19.2,21.5,13.9,19.5,19.1,23.0,26.8,14.8,24.4,14.7,24.3,24.5,19.9,12.1,21.2,16.4,19.5,25.8,8.5,19.8,23.4,21.3,14.7,17.9,15.7,14.9,5.2,3.8,31.5,17.4,16.0,20.7,18.4,8.1,22.9,32.8,19.0,33.0,26.0,14.2,18.4,15.1,29.5,13.9,5.1,28.1,18.2,10.5,27.8,19.4,13.1,21.9,18.6,11.0,19.7,20.2,20.1,17.6,21.6,21.2,30.0,26.1,20.5,22.8,20.5,19.6,18.0,19.8,21.8,7.0,21.4,22.5,18.9,15.1,22.0,25.5,11.1,15.4,21.5,13.5,11.2,19.3,25.5,20.2,18.3,15.3,40.3,22.1,23.2,17.1,19.4,15.3,28.6,23.0,19.4,16.7,20.9,21.1,15.9,29.6,17.0,19.0,20.8,20.4,9.8,24.0,15.2,26.2,22.0,21.4,16.2,29.2,21.4,28.9,16.9,21.9,11.2,19.0,21.2,20.8,9.3,12.5,26.9,10.7,18.9,17.5,23.3,12.5,13.4,26.3,23.0,21.8,25.6,20.7,18.0,32.5,25.6,8.4,19.8,24.5,18.0,24.7,21.3,12.9,21.6,29.1,25.8,26.4,27.0,25.6,19.0,20.0,10.4,17.5,19.5,17.5,21.1,19.6,23.1,18.2,27.0,18.5,19.3,25.4,20.8,20.8,20.6,20.4,23.1,17.6,18.7,16.2,18.9,15.2,22.5,10.0,21.1,29.3,17.8,27.1,16.8,18.0,28.3,16.5,19.8,16.7,23.2,23.6,18.5,29.8,24.2,22.4,29.3,29.3,21.5,15.5,23.0,12.8,20.8,11.5,20.0,15.2,18.7,17.2,22.5,13.5,13.1,17.6,12.1,23.2,18.0,24.2,7.3,17.0,17.0,22.7,22.1,18.0,15.6,13.9,17.7,14.7,26.1,12.2,20.3,17.8,16.5,10.2,18.2,22.2,26.3,26.6,19.2,19.5,14.3,15.6,13.9,20.2,11.6,31.2,6.3,23.4,21.1,22.0,8.5,11.5,19.3,17.7,11.9,14.8,16.9,16.1,13.0,17.9,22.0,14.2,13.9,25.4,21.1,16.3,16.4,19.3,18.3,23.0,27.4,24.2,14.9,12.7,16.7,17.8,19.5,14.9,23.9,15.2,25.4,22.9,25.2,12.7,26.0,26.7,15.8,24.9,24.4,15.5,20.0,7.8,20.6,19.0,29.8,14.1,14.1,17.8,24.9,20.7,19.8,24.2,16.7,21.3,23.7,20.9,23.6,25.3,9.9,21.7,16.7,10.3,18.9,25.2,12.7,27.4,21.4,23.0,11.8,22.1,13.0,20.0,27.2,19.8,16.9,18.8,25.0,9.0,19.0,11.1,19.6,24.0,29.3,20.7,10.7,26.9,18.6,21.5,26.2,21.5,27.9,22.1,25.1,27.9,18.9,26.4,20.0,25.6,27.5,17.7,18.9,27.0,14.9,27.6,19.6,18.1,19.2,20.2,16.4,16.6,14.1,8.9,17.6,17.3,21.0,14.3,18.7,19.9,12.3,24.4,23.3,25.1,27.9,15.1,18.3,23.2,17.8,15.5,22.0,23.0,20.4,15.5,22.8,19.5,22.2,22.3,25.1,15.0,19.9,23.8,18.8,17.0,7.9,24.0,31.4,17.6,27.4,28.1,17.9,18.3,17.3,21.6,17.8,22.4,19.2,22.8,21.4,19.1,22.4,29.4,13.6,15.0,28.8,18.2,25.8,15.1,23.6,12.2,10.1,15.4,27.0,17.2,11.6,20.8,18.8,20.4,18.1,20.9,31.1,19.0,18.5,17.9,23.1,32.0,21.7,23.4,17.1,19.0,18.1,19.3,18.8,25.8,19.8,22.1,15.8,15.9,21.3,18.4,17.8,23.1,22.2,15.3,20.0,20.8,30.2,24.0,12.6,9.2,21.7,19.8,16.6,16.5,18.0,21.1,10.0,23.5,26.9,23.7,16.8,12.7,29.8,17.9,18.6,19.9,23.6,26.4,18.2,18.1,19.2,15.3,19.4,20.2,33.2,26.2,26.9,15.3,18.9,18.3,27.6,29.0,22.5,30.2,22.8,13.8,21.4,27.3,25.1,26.7,7.9,27.3,21.9,15.6,18.1,19.9,23.0,22.9,15.0,16.5,18.9,24.8,4.9,16.7,20.2,7.9,19.3,16.1,22.5,27.4,29.6,18.7,21.9,9.9,24.6,10.1,21.5,20.6,11.4,14.0,18.4,6.5,12.8,25.5,19.5,14.6,20.5,18.9,14.8,21.7,17.3,33.1,23.1,25.1,30.2,17.0,13.2,29.2,14.8,13.5,22.3,9.0,19.2,19.1,20.4,14.2,20.6,19.3,27.6,21.4,15.5,23.4,13.2,12.1,23.2,33.8,17.5,19.1,23.2,12.6,24.6,14.6,19.5,20.1,13.4,12.4,14.6,16.8,27.5,19.5,11.5,15.4,24.0,21.1,21.8,29.1,18.9,21.3,18.9,20.1,13.7,19.7,17.0,34.0,24.0,16.9,19.3,19.9,19.4,19.3,21.5,20.8,20.1,27.1,23.5,22.9,19.4,14.8,28.6,23.2,8.7,30.1,19.1,15.1,22.3,17.4,23.8,18.1,20.4,23.1,22.4,13.7,25.5,25.9,21.3,21.6,21.4,29.7,18.1,10.3,23.6,21.0,13.1,10.6,20.8,21.7,19.4,21.4,25.1,16.6,11.1,13.8,21.1,22.0,20.8,19.1,24.4,15.2,25.1,19.2,10.5,21.8,17.5,19.6,8.2,22.1,21.8,13.6,15.1,28.4,22.0,28.6,25.3,29.3,19.1,20.8,10.8,23.6,13.5,23.2,16.9,22.9,21.3,21.8,31.3,21.1,17.1,25.5,26.1,19.2,19.9,26.4,34.9,17.4,24.2,17.5,21.7,11.3,4.9,21.3,17.2,15.6,22.4,28.2,22.3,21.3,20.5,18.4,17.5,9.7,21.4,12.8,20.0,20.7,16.1,26.2,20.9,19.2,23.6,22.4,31.7,22.5,20.3,13.8,23.3,17.4,3.0,16.6,17.1,27.8,17.4,13.7,14.1,26.4,23.9,21.2,27.4,9.9,18.7,17.0,21.1,22.9,8.7,19.1,25.1,21.0,22.3,21.5,19.6,17.6,22.7,14.7,11.5,28.6,19.9,13.5,27.3,19.6,18.7,14.0,11.6,15.0,26.5,21.7,22.1,5.7,18.3,23.4,19.5,15.8,18.6,19.3,27.0,21.7,21.9,20.7,13.5,29.7,22.3,24.0,31.1,23.9,15.7,19.6])\n",
    "\n",
    "print(f\"Mean - {weights.mean()}\\nMedian - {np.median(weights)}\\nMode - {stats.mode(weights).mode}\")\n",
    "print(f\"Stdev - {np.std(weights).round(2)}\\nSkewness - {stats.skew(weights).round(2)}\\nkurtosis - {stats.kurtosis(weights).round(2)}\")\n",
    "sns.histplot(weights, kde = True)\n",
    "plt.axvline(np.mean(weights), color = \"red\", label = \"Mean\")\n",
    "plt.axvline(np.median(weights), color = \"green\", label = \"Median\")"
   ]
  },
  {
   "cell_type": "code",
   "execution_count": null,
   "id": "f6069877-6856-41d1-89c9-a9a20737fedd",
   "metadata": {},
   "outputs": [],
   "source": [
    "sns.boxplot(weights)  # uses outlier technique to identify outliers (not preffered for normally distributed data)"
   ]
  },
  {
   "cell_type": "markdown",
   "id": "c20a1af4-46c8-4ae6-9690-2b0437f86f49",
   "metadata": {},
   "source": [
    "###### Using zscore technique to eleminate outliers"
   ]
  },
  {
   "cell_type": "code",
   "execution_count": null,
   "id": "6d068aab-4919-4932-9983-6f16424caef2",
   "metadata": {},
   "outputs": [],
   "source": [
    "zscores = stats.zscore(weights)\n",
    "sns.histplot(zscores, kde = True)\n",
    "plt.axvline(zscores.mean(), color = \"Red\")"
   ]
  },
  {
   "cell_type": "markdown",
   "id": "8e034f90-9441-4dd0-a56f-5d57590bc641",
   "metadata": {},
   "source": [
    "##### Note - Data points beyond +3 or -3 are treated as outliers"
   ]
  },
  {
   "cell_type": "code",
   "execution_count": null,
   "id": "80fff589-c64a-4156-bbbd-efbd7aab0ad8",
   "metadata": {},
   "outputs": [],
   "source": [
    "((zscores < -3) | (zscores > 3) ).sum()"
   ]
  },
  {
   "cell_type": "code",
   "execution_count": null,
   "id": "9f3551e9-de3c-497a-9e1b-710ef565bba7",
   "metadata": {},
   "outputs": [],
   "source": [
    "(np.abs(zscores) > 3).sum()  # Converting values to positive as comparision with 3 becomes easier"
   ]
  },
  {
   "cell_type": "code",
   "execution_count": null,
   "id": "4458b1c3-1bd6-4a15-8b1e-46e90644e42a",
   "metadata": {},
   "outputs": [],
   "source": [
    "new_weights = weights[np.abs(zscores) <= 3]\n",
    "new_weights.size"
   ]
  },
  {
   "cell_type": "markdown",
   "id": "18219751-0219-4f36-bf55-ba00493c3604",
   "metadata": {},
   "source": [
    "### Univariate Analysis\n",
    "Univariate analysis is a statistical method used to describe and analyze data consisting of only one variable. It focuses on understanding the characteristics and distribution of a single variable without considering the relationship with other variables.\n",
    "\n",
    "- Descriptive Statistics\n",
    "- Frequency Distribution\n",
    "- Measures of Central Tendency\n",
    "- Measures of Dispersion\n",
    "- Visualization:\n",
    "    - Box plots: Displaying the distribution of data using quartiles.\n",
    "    - Histograms: Showing the frequency distribution of continuous variables.\n",
    "    - Bar charts: Displaying the frequency distribution of categorical variables.\n",
    "- Probability Distribution:\n",
    "  - Normal distribution: Assessing if the data follows a normal distribution using graphical methods or statistical tests."
   ]
  },
  {
   "cell_type": "markdown",
   "id": "64250dee-ead0-4c4a-8b70-de5468af2211",
   "metadata": {},
   "source": [
    "#### Numeric Columns"
   ]
  },
  {
   "cell_type": "markdown",
   "id": "934d5cd4-c416-422d-ab3b-2c017b27f0b4",
   "metadata": {},
   "source": [
    "1. Get descriptive statistics - df[\"col\"].describe()\n",
    "2. Distribution of data - sns.histogram()\n",
    "3. Shape of data - stats.skew() and stats.kurtosis()\n",
    "4. Analyse if data is normally distributed using step 2 & 3\n",
    "5. Handle nulls\n",
    "6. Handle Outliers - zscore(ND) and IQR(others)"
   ]
  },
  {
   "cell_type": "markdown",
   "id": "ad04a00f-240c-4a7c-8f9b-290215eed764",
   "metadata": {},
   "source": [
    "#### Categorial Columns"
   ]
  },
  {
   "cell_type": "markdown",
   "id": "7d53730c-2771-4213-bc61-a26be7238ae7",
   "metadata": {},
   "source": [
    "###### Ex. Add column - Sales Target Status "
   ]
  },
  {
   "cell_type": "code",
   "execution_count": null,
   "id": "26a02243-54e1-4c1a-a8ce-6eb1287be23e",
   "metadata": {},
   "outputs": [],
   "source": [
    "df[\"Sales Target Status\"] = np.where(df.Sales >= df[\"Target Sales\"], \"Achieved\", \"Not Achieved\")"
   ]
  },
  {
   "cell_type": "code",
   "execution_count": null,
   "id": "0ded0cdc-14db-4dba-96b8-cf58fc7f19c1",
   "metadata": {},
   "outputs": [],
   "source": [
    "df.head()"
   ]
  },
  {
   "cell_type": "markdown",
   "id": "1a32362d-5b33-4c2f-b3aa-55968fb76d1a",
   "metadata": {},
   "source": [
    "#### 1. df.describe()"
   ]
  },
  {
   "cell_type": "code",
   "execution_count": null,
   "id": "97df9e4c-f7d5-48f3-941a-cce016441429",
   "metadata": {},
   "outputs": [],
   "source": [
    "df[[\"City\", \"Product\", \"Sales Target Status\"]].describe()"
   ]
  },
  {
   "cell_type": "markdown",
   "id": "ff7cb351-d485-4c1d-ada8-3750d33105f7",
   "metadata": {},
   "source": [
    "#### 2. Value counts"
   ]
  },
  {
   "cell_type": "code",
   "execution_count": null,
   "id": "dd35cbf5-fd3f-468c-9681-99e9951e5990",
   "metadata": {},
   "outputs": [],
   "source": [
    "df[\"Sales Target Status\"].value_counts()"
   ]
  },
  {
   "cell_type": "code",
   "execution_count": null,
   "id": "e11c5025-0c9e-4640-9a41-271509ec2906",
   "metadata": {},
   "outputs": [],
   "source": [
    "df[\"Sales Target Status\"].value_counts(normalize=True) * 100"
   ]
  },
  {
   "cell_type": "markdown",
   "id": "8361762a-bc03-4983-844a-aabdd33e45c6",
   "metadata": {},
   "source": [
    "#### Plot chart using pandas plot()"
   ]
  },
  {
   "cell_type": "code",
   "execution_count": null,
   "id": "911be31c-3e99-4e23-8e8f-650c8ea98e33",
   "metadata": {},
   "outputs": [],
   "source": [
    "data = df[\"Sales Target Status\"].value_counts(normalize=True) * 10\n",
    "data.plot(kind = \"bar\")"
   ]
  },
  {
   "cell_type": "markdown",
   "id": "7741cad3-5d9f-442f-a4aa-e395992a7d40",
   "metadata": {},
   "source": [
    "#### Plot using seaborn"
   ]
  },
  {
   "cell_type": "code",
   "execution_count": null,
   "id": "cb53bc33-82d2-4147-a86c-f79d696b969e",
   "metadata": {},
   "outputs": [],
   "source": [
    "sns.countplot(data = df, x = \"Sales Target Status\")"
   ]
  },
  {
   "cell_type": "code",
   "execution_count": null,
   "id": "6bb90560-9d36-4f11-8287-985d3dd65a7a",
   "metadata": {},
   "outputs": [],
   "source": [
    "sns.countplot(data = df, x = \"Sales Target Status\", stat = \"percent\")"
   ]
  },
  {
   "cell_type": "code",
   "execution_count": null,
   "id": "549697cb-7846-4ba3-9cf0-00a78bd378c5",
   "metadata": {},
   "outputs": [],
   "source": [
    "plt.figure(figsize=(12, 3))\n",
    "sns.countplot(data = df, hue = \"Sales Target Status\",  x = \"Product\")\n",
    "_ = plt.xticks(rotation = 20)"
   ]
  },
  {
   "cell_type": "markdown",
   "id": "9a7b40b3-8c9f-46ba-b8d6-d590aca2d1f7",
   "metadata": {},
   "source": [
    "### Bivariate Analysis\n",
    "\n",
    "Bivariate analysis is a statistical method used to analyze the relationship between two variables simultaneously. \r\n",
    "\r\n",
    "#### Numerical-Numerical Analysis:\r\n",
    "\r\n",
    "- Scatter Plots: Scatter plots with a regression line can show the relationship between two continuous variables. Each data point represents a combination of values from both variables.\r\n",
    "\r\n",
    "- Correlation Analysis: Quantifies the strength and direction of the linear relationship between two continuous variables. Pearson correlation coefficient (r) measures the degree of linear association between variables. \r\n",
    "\t- It ranges from -1 to 1, where:\r\n",
    "\t- r = 1: Perfect positive correlation\r\n",
    "\t- r = -1: Perfect negative correlation\r\n",
    "\t- r = 0: No correlation\r\n",
    "\r\n",
    "#### Categorical-Categorical Analysis:\r\n",
    "\r\n",
    "- Contingency tables (also known as cross-tabulations) display the frequency distribution of categories for two categorical variables. \r\n",
    "\r\n",
    "- Chi-square test assesses the independence or association between two categorical variables.\r\n",
    "\r\n",
    "#### Categorical-Numerical Analysis:\r\n",
    "\r\n",
    "- Box plots or bar charts with groupings display the distribution of a numerical variable across different categories of a categorical variable.\r\n",
    "\r\n",
    "- ANOVA (Analysis of Variance) tests the equality of means across different categories of a categorical variable.\r\n"
   ]
  },
  {
   "cell_type": "markdown",
   "id": "64e295f3-2a00-46c7-86eb-1efd4be5b66a",
   "metadata": {},
   "source": [
    "###### Ex. Connect to dataset `employee.csv`"
   ]
  },
  {
   "cell_type": "code",
   "execution_count": null,
   "id": "810e8e22-5e7e-4658-9382-10833eab82b4",
   "metadata": {},
   "outputs": [],
   "source": [
    "emp_df = pd.read_csv(\"employees.csv\").rename({\"Owns Car\" : \"Car\"}, axis = 1)\n",
    "emp_df.head()"
   ]
  },
  {
   "cell_type": "markdown",
   "id": "068e6492-cc79-49fc-ae6e-877a77436cec",
   "metadata": {},
   "source": [
    "### Example 1 (Numerical-Numerical)"
   ]
  },
  {
   "cell_type": "markdown",
   "id": "44397dcd-382d-45e0-8e9e-a4927bf46fc4",
   "metadata": {},
   "source": [
    "###### Ex. Correlation between age and salary using scatter plot"
   ]
  },
  {
   "cell_type": "code",
   "execution_count": null,
   "id": "8505e373-b388-44e6-9e61-27bde203d3cc",
   "metadata": {},
   "outputs": [],
   "source": [
    "sns.scatterplot(data = emp_df, x = \"Salary\", y = \"Age\")"
   ]
  },
  {
   "cell_type": "code",
   "execution_count": null,
   "id": "358c87f6-1023-4947-b99b-575c2c7a1c93",
   "metadata": {},
   "outputs": [],
   "source": [
    "_ = sns.lmplot(data = emp_df, x = \"Salary\", y = \"Age\")"
   ]
  },
  {
   "cell_type": "markdown",
   "id": "94d7de29-7ef7-448d-8921-9339e4eaedf0",
   "metadata": {},
   "source": [
    "###### Ex. Correlation between age and salary using correlation matrix and heatmap"
   ]
  },
  {
   "cell_type": "code",
   "execution_count": null,
   "id": "66f8baee-868a-48f1-82e8-b9c701eba195",
   "metadata": {},
   "outputs": [],
   "source": [
    "emp_df[[\"Salary\", \"Age\"]].corr()"
   ]
  },
  {
   "cell_type": "code",
   "execution_count": null,
   "id": "2d545295-a85e-4372-bbdb-702601709bb8",
   "metadata": {},
   "outputs": [],
   "source": [
    "sns.heatmap(emp_df[[\"Salary\", \"Age\"]].corr(), annot=True)"
   ]
  },
  {
   "cell_type": "markdown",
   "id": "319ab9b8-874d-44e8-b759-2ab7ebaa875f",
   "metadata": {},
   "source": [
    "##### Interpreting correlation - \n",
    "- values range between 1 and -1\n",
    "- value near 0 means no correlation  -  no of childern and salary\n",
    "- value near 1 means high positive correlation  - sales and profit\n",
    "- value near -1 means high negative correlation  - profit and discount"
   ]
  },
  {
   "cell_type": "markdown",
   "id": "70a9dd6d-600c-4734-ade8-c09cb8ef10e4",
   "metadata": {},
   "source": [
    "#### Creating scatter plot using matplotlib library"
   ]
  },
  {
   "cell_type": "code",
   "execution_count": null,
   "id": "3d2b8f06-fee1-4929-94bc-9863552bcff6",
   "metadata": {},
   "outputs": [],
   "source": [
    "salary = list(emp_df[\"Salary\"]) # Basic list\n",
    "ages = list(emp_df[\"Age\"])"
   ]
  },
  {
   "cell_type": "code",
   "execution_count": null,
   "id": "4793c6f7-1231-4f5f-846b-31ac247ea229",
   "metadata": {},
   "outputs": [],
   "source": [
    "plt.scatter(salary, ages)"
   ]
  },
  {
   "cell_type": "markdown",
   "id": "c70d5c9d-9c7d-45c4-b339-afcf3c13b7e7",
   "metadata": {},
   "source": [
    "### Example 2 (Numerical-Categorial)"
   ]
  },
  {
   "cell_type": "markdown",
   "id": "622ccac1-9455-4b2d-9ac2-7129bb0ebc82",
   "metadata": {},
   "source": [
    "#### 1. Bar Chart"
   ]
  },
  {
   "cell_type": "markdown",
   "id": "a80cf5a3-6804-4909-a712-f735683e7695",
   "metadata": {},
   "source": [
    "###### Ex. Average age based on designation"
   ]
  },
  {
   "cell_type": "markdown",
   "id": "0192cd19-e468-4508-8272-a22afada52f0",
   "metadata": {},
   "source": [
    "**Without using seaborn**"
   ]
  },
  {
   "cell_type": "code",
   "execution_count": null,
   "id": "22201024-06ce-497c-8539-111b6bbd98bc",
   "metadata": {},
   "outputs": [],
   "source": [
    "data = emp_df[[\"Age\", \"Designation\"]]\n",
    "data[\"Designation\"].unique()"
   ]
  },
  {
   "cell_type": "code",
   "execution_count": null,
   "id": "320e32e0-60f2-41eb-9339-ad1e61efa708",
   "metadata": {
    "scrolled": true
   },
   "outputs": [],
   "source": [
    "data = data.groupby(\"Designation\")[\"Age\"].mean().round().astype(int)  # Series object\n",
    "data"
   ]
  },
  {
   "cell_type": "code",
   "execution_count": null,
   "id": "9f43781b-c710-4df6-915f-a6b04eafccc1",
   "metadata": {},
   "outputs": [],
   "source": [
    "plt.figure(figsize=(5, 2))\n",
    "_ = plt.bar(data.index, data.values, width=0.6, color = \"teal\", edgecolor = \"black\")\n",
    "_ = plt.xticks(rotation=20)\n",
    "_ = plt.title(\"Average age by Designation\")"
   ]
  },
  {
   "cell_type": "markdown",
   "id": "00426829-9d90-4c62-8a4c-200c969c0410",
   "metadata": {},
   "source": [
    "**Using Seaborn Library**"
   ]
  },
  {
   "cell_type": "code",
   "execution_count": null,
   "id": "620e3e75-c1fa-4a37-bb7a-3f1610aa4d3a",
   "metadata": {},
   "outputs": [],
   "source": [
    "plt.figure(figsize=(5, 2))\n",
    "sns.barplot(data = emp_df, x = \"Designation\", y = \"Age\", errorbar=None, color=\"Teal\")\n",
    "_ = plt.xticks(rotation=20)\n",
    "_ = plt.title(\"Average age by Designation\")"
   ]
  },
  {
   "cell_type": "code",
   "execution_count": null,
   "id": "08ea527b-da29-4f2a-a94b-3a9a5e028c41",
   "metadata": {},
   "outputs": [],
   "source": [
    "plt.figure(figsize=(5, 2))\n",
    "sns.barplot(data = emp_df, x = \"Designation\", y = \"Age\", errorbar=None, color=\"Teal\", estimator=\"sum\") \n",
    "# default estimator - mean\n",
    "_ = plt.xticks(rotation=20)\n",
    "_ = plt.title(\"Average age by Designation\")"
   ]
  },
  {
   "cell_type": "markdown",
   "id": "8616fe13-80ac-4f5f-b348-d78e150e490f",
   "metadata": {},
   "source": [
    "#### 2. Pie chart"
   ]
  },
  {
   "cell_type": "markdown",
   "id": "e5a73cfb-b64b-414b-a39b-6507588801bf",
   "metadata": {},
   "source": [
    "###### Ex. Plot percent of sales generated from each city"
   ]
  },
  {
   "cell_type": "code",
   "execution_count": null,
   "id": "849a8367-9c1b-44fa-81a4-e66e65a5c880",
   "metadata": {},
   "outputs": [],
   "source": [
    "df.head()"
   ]
  },
  {
   "cell_type": "code",
   "execution_count": null,
   "id": "c5187191-96fc-4a2f-870d-4aec05df838c",
   "metadata": {},
   "outputs": [],
   "source": [
    "# AGG the data - sum of sales per city\n",
    "data = df.groupby(\"City\")[\"Sales\"].sum()\n",
    "_ = plt.pie(x=data.values, labels= data.index, autopct=\"%1.1f%%\")"
   ]
  },
  {
   "cell_type": "markdown",
   "id": "931ee83f-e064-4d95-a689-576a19e6219f",
   "metadata": {},
   "source": [
    "#### 3. Line Chart"
   ]
  },
  {
   "cell_type": "code",
   "execution_count": null,
   "id": "e673d763-d3f3-4b0b-8677-2d1d9c5f718a",
   "metadata": {},
   "outputs": [],
   "source": [
    "df[\"Date\"] = pd.to_datetime(df[\"Date\"])\n",
    "df.head()"
   ]
  },
  {
   "cell_type": "code",
   "execution_count": null,
   "id": "e6473253-5976-4041-a765-8e2098a7390b",
   "metadata": {},
   "outputs": [],
   "source": [
    "plt.figure(figsize=(7, 2))\n",
    "sns.lineplot(data = df, x = \"Date\", y = \"Sales\", estimator=\"sum\", errorbar=None)\n",
    "_ = plt.yticks(np.arange(8000, 15000, 1000))"
   ]
  },
  {
   "attachments": {},
   "cell_type": "markdown",
   "id": "48ac0516-e747-4b30-9766-4fa31a5bbd39",
   "metadata": {},
   "source": [
    "#### ANOVA (Analysis of Variance)\n",
    "\n",
    "The ANOVA test has important assumptions that must be satisfied in order for the associated p-value to be valid.\n",
    "\n",
    "- The samples are independent.\n",
    "- Each sample is from a normally distributed population.\n",
    "- The population standard deviations of the groups are all equal. This property is known as homoscedasticity.\n",
    "\n",
    "#### f-statistics\n",
    "\n",
    "The F-statistic, also known as the F-ratio or F-value, is a statistical measure used in analysis of variance (ANOVA) and regression analysis. It is a ratio of two variances and is used to assess whether the means of two or more groups are significantly different from each other.\r\n",
    "\r\n",
    "The F-statistic is calculated by dividing the variance between group means by the variance within groups. It is used to test the null hypothesis that the means of the groups are equal. A larger F-statistic indicates a larger difference between group means relative to the variation within groups, which suggests that the difference is more likely to be statistically significant\n",
    ".\n",
    "#### p-value\n",
    "The p-value, or probability value, is a measure that helps determine the significance of the results in statistical hypothesis testing. It represents the probability of obtaining an observed result (or more extreme) under the assumption that the null hypothesis is true.\n",
    "\n",
    "The range of possible p-values is between 0 and 1. Here's what different ranges of p-values typically indicate:\n",
    "\n",
    "- p ≤ 0.05: Usually considered statistically significant. This means that there is strong evidence against the null hypothesis, and it is likely to be rejected. The results are unlikely to occur by chance alone.\n",
    "\n",
    "- 0.05 < p ≤ 0.10: Marginally significant. The evidence against the null hypothesis is weaker compared to p ≤ 0.05, but it may still be worth considering depending on the context and specific requirements of the analysis.\n",
    "\n",
    "- 0.10 < p ≤ 0.50: Not statistically significant. There is insufficient evidence to reject the null hypothesis at the commonly used significance level of α = 0.05. The results are not considered to be statistically meaningful or reliable.\n",
    "\n",
    "- p > 0.50: Highly likely to occur by chance. This range of p-values suggests that the observed result is not unusual or significant. The null hypothesis cannot be rejected based on this evidence."
   ]
  },
  {
   "cell_type": "markdown",
   "id": "415529d0-03b3-4a23-8ff6-88e5a040db78",
   "metadata": {},
   "source": [
    "###### Ex. Impact of Salary on buying a car"
   ]
  },
  {
   "cell_type": "code",
   "execution_count": null,
   "id": "63a39794-6992-4fb9-bb41-7b67110562d3",
   "metadata": {},
   "outputs": [],
   "source": [
    "Ho = \"Salary has an impact on owning a car\"\n",
    "Ha = \"Salary has no significant impact on owning a car\"\n",
    "\n",
    "grouped_data = emp_df.groupby(\"Car\")[\"Salary\"]\n",
    "Car_yes = grouped_data.get_group(\"Yes\")\n",
    "Car_no = grouped_data.get_group(\"No\")\n",
    "\n",
    "p_value = stats.f_oneway(Car_yes, Car_no).pvalue\n",
    "alpha = 0.05  # Significance level\n",
    "\n",
    "if p_value < alpha :\n",
    "    print(\"Reject the Null Hypothesis. \" + Ha)\n",
    "else:\n",
    "    print(\"Failed to reject the Null Hypothesis. \" + Ho)"
   ]
  },
  {
   "cell_type": "markdown",
   "id": "ad446783-5882-4bcd-9ae5-46259f1b65dc",
   "metadata": {},
   "source": [
    "##### Note - \n",
    "\n",
    "Suppose you are conducting a hypothesis test with a 95% confidence level:\n",
    "- The significance level α would be 1 − 0.95 = 0.05\n",
    "- This means you are 95% confident in your results and accept a 5% risk of a Type I error."
   ]
  },
  {
   "cell_type": "markdown",
   "id": "932107dd-795d-4e05-8b78-60958e3f0a84",
   "metadata": {},
   "source": [
    "### Example 3 (Categorial-Categorial)"
   ]
  },
  {
   "cell_type": "markdown",
   "id": "1f116778-370b-4a80-b8c4-8b541c549e77",
   "metadata": {},
   "source": [
    "###### Ex. Number of Franchises in each city"
   ]
  },
  {
   "cell_type": "code",
   "execution_count": null,
   "id": "f12048c2-5252-4e64-9afc-e19ba37307b5",
   "metadata": {},
   "outputs": [],
   "source": [
    "pd.crosstab(df[\"City\"], df[\"Franchise\"])"
   ]
  },
  {
   "cell_type": "markdown",
   "id": "4ff7f035-3a32-4cf7-b585-f121222630c5",
   "metadata": {},
   "source": [
    "###### Ex. City wise Products - number of franchises where each product is sold"
   ]
  },
  {
   "cell_type": "code",
   "execution_count": null,
   "id": "42c3bd9c-a5a5-4769-a25f-ab03e1587847",
   "metadata": {},
   "outputs": [],
   "source": [
    "df.pivot_table(index=\"City\", columns=\"Product\",  values=\"Franchise\", aggfunc=\"nunique\").fillna(0).astype(int)"
   ]
  },
  {
   "cell_type": "markdown",
   "id": "2d70e250-1cb1-4c72-928b-9fe648060146",
   "metadata": {},
   "source": [
    "###### Total Sales of each product in each city"
   ]
  },
  {
   "cell_type": "code",
   "execution_count": null,
   "id": "d0354a5a-8215-4507-81a7-e3be922b5f07",
   "metadata": {},
   "outputs": [],
   "source": [
    "df.pivot_table(index=\"City\", columns=\"Product\",  values=\"Sales\", aggfunc=\"sum\").fillna(0)"
   ]
  },
  {
   "cell_type": "code",
   "execution_count": null,
   "id": "24b25ca5-ea1b-4f37-8b38-6d8cc24428aa",
   "metadata": {},
   "outputs": [],
   "source": [
    "emp_df.head()"
   ]
  },
  {
   "cell_type": "markdown",
   "id": "d5f5c115-8365-41f5-890f-706e8c7dc38e",
   "metadata": {},
   "source": [
    "#### Chi-square\n",
    "\n",
    "The chi-square test is a statistical test used to determine whether there is a significant association between two categorical variables. It is commonly used to analyze contingency tables, which display the frequency distributions of categorical variables in a cross-tabulation format.\n",
    "\n",
    "- Formulation of Hypotheses:\n",
    "    - Null Hypothesis (H0): There is no association between the categorical variables.\n",
    "    - Alternative Hypothesis (H1): There is an association between the categorical variables.\n",
    "      \n",
    "- Calculation of Expected Frequencies:\n",
    "    - Calculate the expected frequencies for each cell in the contingency table under the assumption that the variables are independent (i.e., if the null hypothesis is true).\n",
    "    - Expected frequency = (row total * column total) / total number of observations\n",
    "\n",
    "- Calculation of Test Statistic:\n",
    "    - Summation of ((Oi - Ei) ** 2 / Ei), where Oi is observerd frequency and Ei is expected frequency\n",
    "\n",
    "- Determination of Degrees of Freedom:\n",
    "    - Degrees of freedom = (number of rows - 1) * (number of columns - 1)\n",
    "\n",
    "- Interpretation of Results:\n",
    "    - Compare the calculated chi-square test statistic to the critical value from the chi-square distribution table at a specified significance level (usually α = 0.05).\n",
    "        - If the calculated chi-square statistic exceeds the critical value, reject the null hypothesis and conclude that there is a significant association between the categorical variables.\n",
    "        - If the calculated chi-square statistic does not exceed the critical value, fail to reject the null hypothesis, and conclude that there is no significant association between the categorical variables."
   ]
  },
  {
   "cell_type": "markdown",
   "id": "d19f5f82-3781-4b78-b565-dc5efee65a0e",
   "metadata": {},
   "source": [
    "###### Ex. Understand the Relation between gender and owning a car"
   ]
  },
  {
   "cell_type": "code",
   "execution_count": null,
   "id": "983bec26-32cb-428e-831c-610ff2429d11",
   "metadata": {},
   "outputs": [],
   "source": [
    "Ho = \"There is no correlation between gender and owning a car.\"\n",
    "Ha = \"There is a correlation between gender and owning a car.\""
   ]
  },
  {
   "cell_type": "code",
   "execution_count": null,
   "id": "5cb9be99-824b-44be-b15f-fd91aaf296cd",
   "metadata": {},
   "outputs": [],
   "source": [
    "matrix = pd.crosstab(emp_df[\"Car\"], emp_df[\"Gender\"])\n",
    "\n",
    "p_value = stats.chi2_contingency(matrix).pvalue\n",
    "alpha = 0.05\n",
    "print(\"pvalue - \", p_value)\n",
    "\n",
    "if p_value < alpha :\n",
    "    print(\"Reject the null hypothesis. \"+ Ha)\n",
    "else:\n",
    "    print(\"Failed to reject the null hypothesis. \"+Ho)"
   ]
  },
  {
   "cell_type": "code",
   "execution_count": null,
   "id": "9d3a9ad4-a1d1-4ed6-bf2c-99bd711537cb",
   "metadata": {},
   "outputs": [],
   "source": []
  },
  {
   "cell_type": "markdown",
   "id": "cf5d93f2-0f08-42e9-be32-02fbbe8c3faf",
   "metadata": {},
   "source": [
    "<hr><hr>"
   ]
  },
  {
   "cell_type": "markdown",
   "id": "ab6f6f2e-7392-4081-91a5-bf6526866894",
   "metadata": {},
   "source": [
    "## Introduction to Machine Learning"
   ]
  },
  {
   "cell_type": "markdown",
   "id": "3b684580-f141-493d-908c-f96d45445e7e",
   "metadata": {},
   "source": [
    "Machine learning is a branch of artificial intelligence (AI) that focuses on the development of algorithms and statistical models that enable computers to learn and improve their performance on a specific task or problem without being explicitly programmed. In essence, it involves creating and training models that can learn from data and make predictions or decisions based on that data.\n",
    "\n",
    "The core idea behind machine learning is to use data to uncover patterns, relationships, and insights that can be used to make predictions or take actions. This is typically done through the following steps:\n",
    "\n",
    "1. Data Collection: Gathering relevant data from various sources, which may include structured data (e.g., databases) and unstructured data (e.g., text, images, videos).\n",
    "\n",
    "2. Data Preprocessing: Cleaning, transforming, and preparing the data for analysis. This may involve tasks such as handling missing values, encoding categorical variables, and scaling numerical features.\n",
    "\n",
    "3. Model Training: Selecting an appropriate machine learning algorithm and training a model on the prepared data. During training, the model learns patterns and relationships in the data by adjusting its internal parameters.\n",
    "\n",
    "4. Model Evaluation: Assessing the performance of the trained model using evaluation metrics and validation techniques. This helps determine how well the model generalizes to new, unseen data.\n",
    "\n",
    "5. Model Deployment: Deploying the trained model to make predictions or decisions on new, real-world data. This may involve integrating the model into existing systems or applications.\n",
    "\n",
    "<img src = \"images/ML1.png\">\n",
    "\n",
    "### Machine learning Categories:\n",
    "\n",
    "- Supervised Learning: In supervised learning, the model is trained on labeled data, where each example in the training dataset is associated with a target label or output. The goal is to learn a mapping from input features to output labels, allowing the model to make predictions on new, unseen data.\n",
    "\n",
    "- Unsupervised Learning: In unsupervised learning, the model is trained on unlabeled data, and the goal is to uncover hidden patterns or structures in the data. This may involve tasks such as clustering similar data points together or dimensionality reduction.\n",
    "\n",
    "- Reinforcement Learning: In reinforcement learning, the model learns to make decisions by interacting with an environment and receiving feedback or rewards. The goal is to learn a policy that maximizes the cumulative reward over time.\n",
    "\n",
    "### Types of Supervised Learning\n",
    "\n",
    "- Classification: Classification is a type of supervised learning where the goal is to predict the categorical class labels of new instances based on past observations. In classification, the output variable is discrete and belongs to a specific class or category. Some common classification algorithms include:\r\n",
    "\r\n",
    "\t- Logistic Regression\r\n",
    "\t- Decision Trees\r\n",
    "\t- Random Forest\r\n",
    "\t- Support Vector Machines (SVM)\r\n",
    "\t- k-Nearest Neighbors (k-NN)\r\n",
    "\t- Naive Bayes\r\n",
    "\r\n",
    "- Regression: Regression is another type of supervised learning where the goal is to predict continuous numerical values based on input features. In regression, the output variable is continuous and can take any value within a range. Some common regression algorithms include:\r\n",
    "\r\n",
    "\t- Linear Regression\r\n",
    "\t- Polynomial Regression\r\n",
    "\t- Ridge Regression\r\n",
    "\t- Lasso Regression\r\n",
    "\t- Support Vector Regression (SVR)\r\n",
    "\t- Decision Tree Regression"
   ]
  },
  {
   "cell_type": "markdown",
   "id": "85e70858-afc1-4d5b-9154-b275a7b0abf7",
   "metadata": {},
   "source": [
    "## Linear Regression Example"
   ]
  },
  {
   "attachments": {},
   "cell_type": "markdown",
   "id": "147b486b-d6ef-4007-a584-dc2088440a20",
   "metadata": {},
   "source": [
    "- Linear regression is a statistical method used for modeling the relationship between a dependent variable (target variable) and one or more independent variables (predictor variables).\n",
    "- It is a supervised learning algorithm because it learns from labeled data, where the input features and their corresponding target values are provided during training.\n",
    "- In linear regression, the goal is to fit a linear equation to the data that best describes the relationship between the independent variables and the dependent variable. \n",
    "\n",
    "#### Assumptions of Linear Regression\n",
    "\n",
    "\n",
    "- `Linearity:` The relationship between the independent variables and the dependent variable should be linear. This means that the change in the dependent variable is proportional to the change in the independent variable\n",
    "  s.\n",
    "- `Independence of errors:` The errors (residuals) should be independent of each other. In other words, the error term for one observation should not be correlated with the error term for another observa  on.\n",
    "- `Constant Variance:` The variance of the errors should be constant across all values of the independent variables. This means that the spread of the residuals should be the same at all levels of the independent variab\n",
    "  les.\n",
    "- `Normality of residuals:` The residuals should be normally distributed. This means that the distribution of the residuals should be symmetric around zero, with the majority of residuals clustered near zero and fewer residuals further away from \n",
    "  zero.\n",
    "- `No perfect multicollinearity:` There should be no perfect linear relationship among the independent variables. This means that the independent variables should not be highly correlated with each \n",
    "  other.\n",
    "- `No outliers:` There should be no outliers in the data that can unduly influence the estimation of the regression coeffi\n",
    "  cients.\n",
    "- `Additivity:` The effect of changes in the independent variables on the dependent variable is additive. This means that the effect of changing one independent variable is independent of the values of the other independent variables.t variables."
   ]
  },
  {
   "cell_type": "markdown",
   "id": "62fb1e45-2725-4d6a-9361-6e409e1aee9b",
   "metadata": {},
   "source": [
    "### Housing Data Case Study\n",
    "\n",
    "#### Problem Statement:\n",
    "\n",
    "Consider a real estate company that has a dataset containing the prices of properties in the Mumbai region. It wishes to use the data to optimize the sale prices of the properties based on important factors such as area, bedrooms, parking, etc.\n",
    "\n",
    "Essentially, the company wants —\n",
    "\n",
    "- To identify the variables affecting house prices, e.g. area, number of rooms, bathrooms, etc.\n",
    "\n",
    "- To create a linear model that quantitatively relates house prices with variables such as number of rooms, area, number of bathrooms, etc.\n",
    "\n",
    "- To know the accuracy of the model, i.e. how well these variables can predict house prices.\n"
   ]
  },
  {
   "cell_type": "markdown",
   "id": "06edd94a-6d0d-4795-92e3-326315da13ae",
   "metadata": {},
   "source": [
    "#### Reading and Understanding the Data"
   ]
  },
  {
   "cell_type": "code",
   "execution_count": null,
   "id": "49d752af-782b-46b1-90c1-70c363ac663e",
   "metadata": {},
   "outputs": [],
   "source": [
    "# Import the basic packages\n",
    "\n",
    "import numpy as np\n",
    "import pandas as pd\n",
    "import matplotlib.pyplot as plt \n",
    "import seaborn as sns\n",
    "\n",
    "%matplotlib inline\n",
    "pd.options.display.float_format = '{:.2f}'.format\n",
    "plt.rcParams['figure.figsize'] = (4, 3)\n",
    "plt.rcParams['font.size'] = 10\n",
    "\n",
    "import warnings\n",
    "warnings.filterwarnings('ignore')\n",
    "\n",
    "def outliers(data):\n",
    "    # print(f\"Skewness - {stats.skew(data)} | Kurtosis - {stats.kurtosis(data)}\")\n",
    "    # sns.histplot(data, kde = True)\n",
    "    IQR = np.percentile(data, 75) - np.percentile(data, 25)\n",
    "    min_w = np.percentile(data, 25) - 1.5 * IQR\n",
    "    max_w = np.percentile(data, 75) + 1.5 * IQR\n",
    "    return min_w, max_w\n",
    "\n",
    "# Reading data\n",
    "df = pd.read_csv(\"Housing.csv\")\n",
    "\n",
    "# Handling Outliers\n",
    "min_w, max_w = outliers(df[\"price\"])\n",
    "df = df[df[\"price\"].between(min_w, max_w)]\n",
    "min_w, max_w = outliers(df[\"area\"])\n",
    "df = df[df[\"area\"].between(min_w, max_w)]\n",
    "\n",
    "# Encoding\n",
    "mapping = {'yes' : 1, 'no' : 0}\n",
    "df[\"hotwaterheating\"] = df[\"hotwaterheating\"].map(mapping)\n",
    "df = pd.get_dummies(data = df, columns=[\"furnishingstatus\"], dtype = int)\n",
    "\n",
    "# Scalling\n",
    "from sklearn.preprocessing import MinMaxScaler\n",
    "\n",
    "scaler = MinMaxScaler()\n",
    "df = pd.DataFrame(scaler.fit_transform(df), columns=df.columns)\n",
    "\n",
    "df.head()"
   ]
  },
  {
   "cell_type": "markdown",
   "id": "2f66748f-76a3-47b0-9812-835258fd7f6f",
   "metadata": {},
   "source": [
    "#### Handling Nulls"
   ]
  },
  {
   "cell_type": "code",
   "execution_count": null,
   "id": "f9888127-ba31-4ae6-9ae9-0fd858f9f5e2",
   "metadata": {},
   "outputs": [],
   "source": [
    "df.isna().sum()"
   ]
  },
  {
   "cell_type": "markdown",
   "id": "3e3b4b2b-9308-45a3-ac62-ca36caf7f9f6",
   "metadata": {},
   "source": [
    "#### Outlier Analysis"
   ]
  },
  {
   "cell_type": "code",
   "execution_count": null,
   "id": "93478c93-d451-4232-93b3-cb98de61043a",
   "metadata": {},
   "outputs": [],
   "source": [
    "print(f\"Skewness - {stats.skew(df.price)} | Kurtosis - {stats.kurtosis(df.price)}\")\n",
    "sns.histplot(df[\"price\"], kde = True)"
   ]
  },
  {
   "cell_type": "code",
   "execution_count": null,
   "id": "bcf8538a-498f-46af-b98a-a7414136ceae",
   "metadata": {},
   "outputs": [],
   "source": [
    "print(f\"Skewness - {stats.skew(df.area)} | Kurtosis - {stats.kurtosis(df.area)}\")\n",
    "sns.histplot(df[\"area\"], kde = True)"
   ]
  },
  {
   "cell_type": "code",
   "execution_count": null,
   "id": "ed5d3c34-e38a-47a5-ab22-8c287b482c30",
   "metadata": {},
   "outputs": [],
   "source": [
    "def outliers(data):\n",
    "    print(f\"Skewness - {stats.skew(data)} | Kurtosis - {stats.kurtosis(data)}\")\n",
    "    sns.histplot(data, kde = True)\n",
    "    IQR = np.percentile(data, 75) - np.percentile(data, 25)\n",
    "    min_w = np.percentile(data, 25) - 1.5 * IQR\n",
    "    max_w = np.percentile(data, 75) + 1.5 * IQR\n",
    "    return min_w, max_w"
   ]
  },
  {
   "cell_type": "code",
   "execution_count": null,
   "id": "ab18292d-47f4-41d1-a8f3-de36027a3b55",
   "metadata": {},
   "outputs": [],
   "source": [
    "min_w, max_w = outliers(df[\"price\"])\n",
    "df = df[df[\"price\"].between(min_w, max_w)]\n",
    "\n",
    "min_w, max_w = outliers(df[\"area\"])\n",
    "df = df[df[\"area\"].between(min_w, max_w)]"
   ]
  },
  {
   "cell_type": "code",
   "execution_count": null,
   "id": "fb8e0954-81d0-4e2a-913c-36c292b86eea",
   "metadata": {},
   "outputs": [],
   "source": [
    "df.head()"
   ]
  },
  {
   "cell_type": "markdown",
   "id": "efdce3dc-eb87-433a-b092-ed02be94a4ed",
   "metadata": {},
   "source": [
    "### Encoding Techniques\r\n",
    "\r\n",
    "Converting categorical variables to numeric variables is called \"encoding\" or \"categorical encoding.\" This process involves transforming categorical data, which represents categories or labels, into numerical values that can be used in machine learning models.\r\n",
    "\r\n",
    "There are several methods for encoding categorical variables into numerical format, including:\r\n",
    "\r\n",
    "- `Ordinal Encoding:` Assigns a unique integer to each category based on the order or ranking of the categories.\r\n",
    "\r\n",
    "- `One-Hot Encoding:` Creates binary columns for each category, where each column represents whether a sample belongs to that category or not (1 or 0).\r\n",
    "\r\n",
    "- `Label Encoding:` Encodes target labels with values between 0 and n_that category."
   ]
  },
  {
   "cell_type": "markdown",
   "id": "59fcf1d7-df88-4e65-96e8-e616dc930534",
   "metadata": {},
   "source": [
    "#### Encoding column hotwaterheating using map()"
   ]
  },
  {
   "cell_type": "code",
   "execution_count": null,
   "id": "ec3f52d6-25c8-4b65-8380-d733ea4f899e",
   "metadata": {},
   "outputs": [],
   "source": [
    "df.head()"
   ]
  },
  {
   "cell_type": "code",
   "execution_count": null,
   "id": "145ba40d-82d9-43e7-9a7f-bc79211a392e",
   "metadata": {},
   "outputs": [],
   "source": [
    "df[\"hotwaterheating\"].unique()"
   ]
  },
  {
   "cell_type": "code",
   "execution_count": null,
   "id": "e6c64126-6660-491a-a030-3421b4fcf69d",
   "metadata": {},
   "outputs": [],
   "source": [
    "mapping = {'yes' : 1, 'no' : 0}\n",
    "df[\"hotwaterheating\"] = df[\"hotwaterheating\"].map(mapping)\n",
    "df.head()"
   ]
  },
  {
   "cell_type": "markdown",
   "id": "90066e62-2c0b-4359-b049-96dcaf9f7f42",
   "metadata": {},
   "source": [
    "### OneHotEncoding\n",
    "\n",
    "OneHotEncoder is a preprocessing technique used in machine learning to convert categorical variables into a one-hot encoded representation.\n",
    "\n",
    "In many machine learning algorithms, categorical variables cannot be directly used as input, as they are non-numeric and don't have an inherent order or magnitude. One way to handle categorical variables is to convert them into a numerical representation that can be fed into machine learning models.\n",
    "\n",
    "The one-hot encoding technique converts categorical variables into a binary matrix, where each category is represented by a binary vector of length equal to the number of unique categories in the variable. In this binary matrix, each column represents a category, and each row corresponds to an observation.\n",
    "\n",
    "For each observation, the value is 1 in the column corresponding to the category of that observation, and 0 in all other columns. This ensures that the numerical representation is not biased by the original categorical values and preserves the categorical nature of the variable."
   ]
  },
  {
   "cell_type": "markdown",
   "id": "13d201b4-0267-432f-8789-73707f05b67b",
   "metadata": {},
   "source": [
    "#### Ecoding furnishingstatus using OneHotEncoder"
   ]
  },
  {
   "cell_type": "code",
   "execution_count": null,
   "id": "00cfc75c-aeab-496c-a905-46c612965ae6",
   "metadata": {},
   "outputs": [],
   "source": [
    "from sklearn.preprocessing import OneHotEncoder\n",
    "\n",
    "encoder = OneHotEncoder()\n",
    "encoded_data = encoder.fit_transform(df[\"furnishingstatus\"].to_frame())\n",
    "encoded_data.toarray()"
   ]
  },
  {
   "cell_type": "code",
   "execution_count": null,
   "id": "a3eb6546-2fb9-4928-be5d-8db2c5b7476f",
   "metadata": {},
   "outputs": [],
   "source": [
    "df[\"furnishingstatus\"].unique()"
   ]
  },
  {
   "cell_type": "markdown",
   "id": "f04d1322-01cb-4869-b1f0-a5367686efcf",
   "metadata": {},
   "source": [
    "### pd.getdummies()\n",
    "\n",
    "pd.get_dummies() performs the following steps:\n",
    "\n",
    "- Identifies categorical variables in the input data.\n",
    "- Creates binary columns for each unique category in each categorical variable.\n",
    "- Assigns a value of 1 to the appropriate column for each observation based on its category, and 0 to all other columns.\n",
    "\n",
    "This function is useful for quickly converting categorical variables into a format suitable for machine learning algorithms that require numerical input. It's commonly used during data preprocessing and feature engineering steps in data analysis and machine learning workflows.\n",
    "\n",
    "\n",
    "\n",
    "\n",
    "\n",
    "\n"
   ]
  },
  {
   "cell_type": "markdown",
   "id": "53a5a553-70f5-4855-b7a5-6468d964f2b6",
   "metadata": {},
   "source": [
    "#### Ecoding furnishingstatus using pd.getdummies()"
   ]
  },
  {
   "cell_type": "code",
   "execution_count": null,
   "id": "d418825c-4d2c-4580-b738-36b1c1cb13f3",
   "metadata": {},
   "outputs": [],
   "source": [
    "df = pd.get_dummies(data = df, columns=[\"furnishingstatus\"], dtype = int)\n",
    "df.head()"
   ]
  },
  {
   "cell_type": "markdown",
   "id": "b227790a-7307-4db3-8791-8faaae60a4bd",
   "metadata": {},
   "source": [
    "### Scaling of Numerical Variables\n",
    "\n",
    "#### Standardization (Z-score normalization):\n",
    "\n",
    "Standardization scales the features so that they have a mean of 0 and a standard deviation of 1. It subtracts the mean of the feature and then divides by the standard deviation. This method assumes that the data follows a Gaussian distribution (normal distribution). Standardization is less affected by outliers compared to min-max scaling.\n",
    "\n",
    "#### Min-Max Scaling:\n",
    "\n",
    "Min-Max scaling scales the features to a fixed range, typically [0, 1]. It subtracts the minimum value of the feature and then divides by the range (maximum value minus minimum value). Min-Max scaling preserves the shape of the original distribution and is used when the algorithm does not assume a normal distribution of the features. However, it is sensitive to outliers.to outliers.utliers."
   ]
  },
  {
   "cell_type": "code",
   "execution_count": null,
   "id": "27692d60-cec9-4eca-90b0-f44b5aa399ef",
   "metadata": {},
   "outputs": [],
   "source": [
    "df.head()"
   ]
  },
  {
   "cell_type": "code",
   "execution_count": null,
   "id": "192730c4-2bfb-4d1a-98cb-d567dd3e559a",
   "metadata": {},
   "outputs": [],
   "source": [
    "from sklearn.preprocessing import MinMaxScaler\n",
    "\n",
    "scaler = MinMaxScaler()\n",
    "result = scaler.fit_transform(df)\n",
    "\n",
    "df = pd.DataFrame(result, columns=df.columns)\n",
    "df.head()"
   ]
  },
  {
   "cell_type": "markdown",
   "id": "2376be00-dda9-472e-910d-10fa1629ce3c",
   "metadata": {},
   "source": [
    "#### Linearity"
   ]
  },
  {
   "cell_type": "code",
   "execution_count": null,
   "id": "0ccc4fdf-cf7e-4629-ad95-3732031ea21e",
   "metadata": {},
   "outputs": [],
   "source": [
    "plt.figure(figsize=(15, 6))\n",
    "_ = sns.pairplot(data=df, y_vars=\"price\")"
   ]
  },
  {
   "cell_type": "markdown",
   "id": "7c23b888-5387-4127-a15b-bad9259b659f",
   "metadata": {},
   "source": [
    "#### No Multicolinearity"
   ]
  },
  {
   "cell_type": "code",
   "execution_count": null,
   "id": "76a8d10c-3c6b-40f7-8436-4de81337210c",
   "metadata": {},
   "outputs": [],
   "source": [
    "plt.figure(figsize=(15, 6))\n",
    "_ = sns.pairplot(data=df)"
   ]
  },
  {
   "cell_type": "code",
   "execution_count": 287,
   "id": "6472bf7f-7502-499d-ace8-b6cbdb63b056",
   "metadata": {},
   "outputs": [
    {
     "data": {
      "text/html": [
       "<div>\n",
       "<style scoped>\n",
       "    .dataframe tbody tr th:only-of-type {\n",
       "        vertical-align: middle;\n",
       "    }\n",
       "\n",
       "    .dataframe tbody tr th {\n",
       "        vertical-align: top;\n",
       "    }\n",
       "\n",
       "    .dataframe thead th {\n",
       "        text-align: right;\n",
       "    }\n",
       "</style>\n",
       "<table border=\"1\" class=\"dataframe\">\n",
       "  <thead>\n",
       "    <tr style=\"text-align: right;\">\n",
       "      <th></th>\n",
       "      <th>price</th>\n",
       "      <th>area</th>\n",
       "      <th>bedrooms</th>\n",
       "      <th>bathrooms</th>\n",
       "      <th>hotwaterheating</th>\n",
       "      <th>parking</th>\n",
       "      <th>furnishingstatus_Furnished</th>\n",
       "      <th>furnishingstatus_Semi-furnished</th>\n",
       "      <th>furnishingstatus_Unfurnished</th>\n",
       "    </tr>\n",
       "  </thead>\n",
       "  <tbody>\n",
       "    <tr>\n",
       "      <th>price</th>\n",
       "      <td>1.00</td>\n",
       "      <td>0.77</td>\n",
       "      <td>0.69</td>\n",
       "      <td>0.53</td>\n",
       "      <td>0.43</td>\n",
       "      <td>0.58</td>\n",
       "      <td>0.50</td>\n",
       "      <td>-0.20</td>\n",
       "      <td>-0.28</td>\n",
       "    </tr>\n",
       "    <tr>\n",
       "      <th>area</th>\n",
       "      <td>0.77</td>\n",
       "      <td>1.00</td>\n",
       "      <td>0.87</td>\n",
       "      <td>0.69</td>\n",
       "      <td>0.52</td>\n",
       "      <td>0.75</td>\n",
       "      <td>-0.11</td>\n",
       "      <td>0.12</td>\n",
       "      <td>-0.02</td>\n",
       "    </tr>\n",
       "    <tr>\n",
       "      <th>bedrooms</th>\n",
       "      <td>0.69</td>\n",
       "      <td>0.87</td>\n",
       "      <td>1.00</td>\n",
       "      <td>0.82</td>\n",
       "      <td>0.62</td>\n",
       "      <td>0.83</td>\n",
       "      <td>-0.07</td>\n",
       "      <td>0.08</td>\n",
       "      <td>-0.01</td>\n",
       "    </tr>\n",
       "    <tr>\n",
       "      <th>bathrooms</th>\n",
       "      <td>0.53</td>\n",
       "      <td>0.69</td>\n",
       "      <td>0.82</td>\n",
       "      <td>1.00</td>\n",
       "      <td>0.58</td>\n",
       "      <td>0.64</td>\n",
       "      <td>-0.08</td>\n",
       "      <td>0.07</td>\n",
       "      <td>0.01</td>\n",
       "    </tr>\n",
       "    <tr>\n",
       "      <th>hotwaterheating</th>\n",
       "      <td>0.43</td>\n",
       "      <td>0.52</td>\n",
       "      <td>0.62</td>\n",
       "      <td>0.58</td>\n",
       "      <td>1.00</td>\n",
       "      <td>0.19</td>\n",
       "      <td>-0.05</td>\n",
       "      <td>0.06</td>\n",
       "      <td>-0.02</td>\n",
       "    </tr>\n",
       "    <tr>\n",
       "      <th>parking</th>\n",
       "      <td>0.58</td>\n",
       "      <td>0.75</td>\n",
       "      <td>0.83</td>\n",
       "      <td>0.64</td>\n",
       "      <td>0.19</td>\n",
       "      <td>1.00</td>\n",
       "      <td>-0.07</td>\n",
       "      <td>0.05</td>\n",
       "      <td>0.01</td>\n",
       "    </tr>\n",
       "    <tr>\n",
       "      <th>furnishingstatus_Furnished</th>\n",
       "      <td>0.50</td>\n",
       "      <td>-0.11</td>\n",
       "      <td>-0.07</td>\n",
       "      <td>-0.08</td>\n",
       "      <td>-0.05</td>\n",
       "      <td>-0.07</td>\n",
       "      <td>1.00</td>\n",
       "      <td>-0.48</td>\n",
       "      <td>-0.48</td>\n",
       "    </tr>\n",
       "    <tr>\n",
       "      <th>furnishingstatus_Semi-furnished</th>\n",
       "      <td>-0.20</td>\n",
       "      <td>0.12</td>\n",
       "      <td>0.08</td>\n",
       "      <td>0.07</td>\n",
       "      <td>0.06</td>\n",
       "      <td>0.05</td>\n",
       "      <td>-0.48</td>\n",
       "      <td>1.00</td>\n",
       "      <td>-0.54</td>\n",
       "    </tr>\n",
       "    <tr>\n",
       "      <th>furnishingstatus_Unfurnished</th>\n",
       "      <td>-0.28</td>\n",
       "      <td>-0.02</td>\n",
       "      <td>-0.01</td>\n",
       "      <td>0.01</td>\n",
       "      <td>-0.02</td>\n",
       "      <td>0.01</td>\n",
       "      <td>-0.48</td>\n",
       "      <td>-0.54</td>\n",
       "      <td>1.00</td>\n",
       "    </tr>\n",
       "  </tbody>\n",
       "</table>\n",
       "</div>"
      ],
      "text/plain": [
       "                                 price  area  bedrooms  bathrooms  \\\n",
       "price                             1.00  0.77      0.69       0.53   \n",
       "area                              0.77  1.00      0.87       0.69   \n",
       "bedrooms                          0.69  0.87      1.00       0.82   \n",
       "bathrooms                         0.53  0.69      0.82       1.00   \n",
       "hotwaterheating                   0.43  0.52      0.62       0.58   \n",
       "parking                           0.58  0.75      0.83       0.64   \n",
       "furnishingstatus_Furnished        0.50 -0.11     -0.07      -0.08   \n",
       "furnishingstatus_Semi-furnished  -0.20  0.12      0.08       0.07   \n",
       "furnishingstatus_Unfurnished     -0.28 -0.02     -0.01       0.01   \n",
       "\n",
       "                                 hotwaterheating  parking  \\\n",
       "price                                       0.43     0.58   \n",
       "area                                        0.52     0.75   \n",
       "bedrooms                                    0.62     0.83   \n",
       "bathrooms                                   0.58     0.64   \n",
       "hotwaterheating                             1.00     0.19   \n",
       "parking                                     0.19     1.00   \n",
       "furnishingstatus_Furnished                 -0.05    -0.07   \n",
       "furnishingstatus_Semi-furnished             0.06     0.05   \n",
       "furnishingstatus_Unfurnished               -0.02     0.01   \n",
       "\n",
       "                                 furnishingstatus_Furnished  \\\n",
       "price                                                  0.50   \n",
       "area                                                  -0.11   \n",
       "bedrooms                                              -0.07   \n",
       "bathrooms                                             -0.08   \n",
       "hotwaterheating                                       -0.05   \n",
       "parking                                               -0.07   \n",
       "furnishingstatus_Furnished                             1.00   \n",
       "furnishingstatus_Semi-furnished                       -0.48   \n",
       "furnishingstatus_Unfurnished                          -0.48   \n",
       "\n",
       "                                 furnishingstatus_Semi-furnished  \\\n",
       "price                                                      -0.20   \n",
       "area                                                        0.12   \n",
       "bedrooms                                                    0.08   \n",
       "bathrooms                                                   0.07   \n",
       "hotwaterheating                                             0.06   \n",
       "parking                                                     0.05   \n",
       "furnishingstatus_Furnished                                 -0.48   \n",
       "furnishingstatus_Semi-furnished                             1.00   \n",
       "furnishingstatus_Unfurnished                               -0.54   \n",
       "\n",
       "                                 furnishingstatus_Unfurnished  \n",
       "price                                                   -0.28  \n",
       "area                                                    -0.02  \n",
       "bedrooms                                                -0.01  \n",
       "bathrooms                                                0.01  \n",
       "hotwaterheating                                         -0.02  \n",
       "parking                                                  0.01  \n",
       "furnishingstatus_Furnished                              -0.48  \n",
       "furnishingstatus_Semi-furnished                         -0.54  \n",
       "furnishingstatus_Unfurnished                             1.00  "
      ]
     },
     "execution_count": 287,
     "metadata": {},
     "output_type": "execute_result"
    }
   ],
   "source": [
    "df.corr()"
   ]
  },
  {
   "cell_type": "code",
   "execution_count": 293,
   "id": "d33bcef6-45c9-4fae-aed2-3ccf6644e8db",
   "metadata": {},
   "outputs": [
    {
     "data": {
      "text/plain": [
       "<Axes: >"
      ]
     },
     "execution_count": 293,
     "metadata": {},
     "output_type": "execute_result"
    },
    {
     "data": {
      "image/png": "[encoded data removed]",
      "text/plain": [
       "<Figure size 800x500 with 2 Axes>"
      ]
     },
     "metadata": {},
     "output_type": "display_data"
    }
   ],
   "source": [
    "plt.figure(figsize=(8, 5))\n",
    "sns.heatmap(df.corr(), annot=True, cmap=\"RdYlGn\")"
   ]
  },
  {
   "cell_type": "code",
   "execution_count": null,
   "id": "02302bb0-7373-496e-b3ef-782a63614822",
   "metadata": {},
   "outputs": [],
   "source": []
  },
  {
   "cell_type": "code",
   "execution_count": null,
   "id": "fcf7b109-21d7-4ab0-a431-f7c06c9c53f6",
   "metadata": {},
   "outputs": [],
   "source": []
  }
 ],
 "metadata": {
  "kernelspec": {
   "display_name": "Python 3 (ipykernel)",
   "language": "python",
   "name": "python3"
  },
  "language_info": {
   "codemirror_mode": {
    "name": "ipython",
    "version": 3
   },
   "file_extension": ".py",
   "mimetype": "text/x-python",
   "name": "python",
   "nbconvert_exporter": "python",
   "pygments_lexer": "ipython3",
   "version": "3.12.4"
  }
 },
 "nbformat": 4,
 "nbformat_minor": 5
}
